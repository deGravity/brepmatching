{
 "cells": [
  {
   "cell_type": "code",
   "execution_count": 1,
   "metadata": {},
   "outputs": [],
   "source": [
    "from brepmatching.data import BRepMatchingDataset\n",
    "from brepmatching.models import PairEmbedder"
   ]
  },
  {
   "cell_type": "code",
   "execution_count": 2,
   "metadata": {},
   "outputs": [],
   "source": [
    "ds = BRepMatchingDataset('../data/no_tol_v1.zip', 'notol_cache.pt')"
   ]
  },
  {
   "cell_type": "code",
   "execution_count": 3,
   "metadata": {},
   "outputs": [],
   "source": [
    "embedder = PairEmbedder()"
   ]
  },
  {
   "cell_type": "code",
   "execution_count": null,
   "metadata": {},
   "outputs": [],
   "source": [
    "embedder(ds[0])"
   ]
  },
  {
   "cell_type": "code",
   "execution_count": 5,
   "metadata": {},
   "outputs": [],
   "source": [
    "import torch_geometric as tg"
   ]
  },
  {
   "cell_type": "code",
   "execution_count": 9,
   "metadata": {},
   "outputs": [
    {
     "name": "stderr",
     "output_type": "stream",
     "text": [
      "c:\\Users\\Ben\\anaconda3\\envs\\brepmatching\\lib\\site-packages\\torch_geometric\\data\\storage.py:261: UserWarning: Unable to accurately infer 'num_nodes' from the attribute set '{'right_faces', 'left_V_to_vertices', 'right_loops', 'right_vertex_export_ids', 'right_part_feat', 'vertex_matches', 'right_face_to_face', 'right_graph_idx', 'left_mcf_refs', 'left_face_export_ids', 'right_flat_topos', 'left_n_loops', 'right_V', 'left_edge_samples', 'left_face_to_loop', 'left_flat_topos', 'left_vertices', 'face_matches', 'right_edges', 'right_loop_to_flat_topos', 'left_F', 'right_vertices', 'left_n_vertices', 'left_num_nodes', 'right_edge_to_vertex', 'left_loop_to_edge', 'left_face_to_flat_topos', 'left_faces', 'left_graph_idx', 'left_edge_to_flat_topos', 'left_edge_to_vertex', 'right_face_export_ids', 'right_edge_export_ids', 'right_face_to_loop', 'right_mcf_refs', 'right_F_to_faces', 'right_n_loops', 'left_n_edges', 'left_face_to_face', 'left_edges', 'left_n_faces', 'right_edge_samples', 'edge_matches', 'left_loops', 'right_loop_to_edge', 'right_V_to_vertices', 'left_flat_topos_to_graph_idx', 'left_vertex_to_flat_topos', 'right_n_faces', 'left_face_samples', 'right_n_edges', 'right_num_nodes', 'left_loop_to_flat_topos', 'left_F_to_faces', 'right_face_to_flat_topos', 'left_vertex_export_ids', 'right_n_vertices', 'left_edge_export_ids', 'left_part_feat', 'left_E_to_edges', 'left_V', 'right_mcfs', 'right_face_samples', 'right_flat_topos_to_graph_idx', 'left_mcfs', 'right_vertex_to_flat_topos', 'left_loop_export_ids', 'right_loop_export_ids', 'right_edge_to_flat_topos', 'right_F', 'right_E_to_edges'}'. Please explicitly set 'num_nodes' as an attribute of 'data' to suppress this warning\n",
      "  warnings.warn(\n"
     ]
    },
    {
     "ename": "RuntimeError",
     "evalue": "Could not infer dtype of NoneType",
     "output_type": "error",
     "traceback": [
      "\u001b[1;31m---------------------------------------------------------------------------\u001b[0m",
      "\u001b[1;31mRuntimeError\u001b[0m                              Traceback (most recent call last)",
      "Cell \u001b[1;32mIn [9], line 1\u001b[0m\n\u001b[1;32m----> 1\u001b[0m tg\u001b[39m.\u001b[39;49mdata\u001b[39m.\u001b[39;49mBatch\u001b[39m.\u001b[39;49mfrom_data_list([ds[\u001b[39m0\u001b[39;49m],ds[\u001b[39m1\u001b[39;49m]])\n",
      "File \u001b[1;32mc:\\Users\\Ben\\anaconda3\\envs\\brepmatching\\lib\\site-packages\\torch_geometric\\data\\batch.py:68\u001b[0m, in \u001b[0;36mBatch.from_data_list\u001b[1;34m(cls, data_list, follow_batch, exclude_keys)\u001b[0m\n\u001b[0;32m     56\u001b[0m \u001b[39m@classmethod\u001b[39m\n\u001b[0;32m     57\u001b[0m \u001b[39mdef\u001b[39;00m \u001b[39mfrom_data_list\u001b[39m(\u001b[39mcls\u001b[39m, data_list: List[BaseData],\n\u001b[0;32m     58\u001b[0m                    follow_batch: Optional[List[\u001b[39mstr\u001b[39m]] \u001b[39m=\u001b[39m \u001b[39mNone\u001b[39;00m,\n\u001b[0;32m     59\u001b[0m                    exclude_keys: Optional[List[\u001b[39mstr\u001b[39m]] \u001b[39m=\u001b[39m \u001b[39mNone\u001b[39;00m):\n\u001b[0;32m     60\u001b[0m     \u001b[39mr\u001b[39m\u001b[39m\"\"\"Constructs a :class:`~torch_geometric.data.Batch` object from a\u001b[39;00m\n\u001b[0;32m     61\u001b[0m \u001b[39m    Python list of :class:`~torch_geometric.data.Data` or\u001b[39;00m\n\u001b[0;32m     62\u001b[0m \u001b[39m    :class:`~torch_geometric.data.HeteroData` objects.\u001b[39;00m\n\u001b[1;32m   (...)\u001b[0m\n\u001b[0;32m     65\u001b[0m \u001b[39m    :obj:`follow_batch`.\u001b[39;00m\n\u001b[0;32m     66\u001b[0m \u001b[39m    Will exclude any keys given in :obj:`exclude_keys`.\"\"\"\u001b[39;00m\n\u001b[1;32m---> 68\u001b[0m     batch, slice_dict, inc_dict \u001b[39m=\u001b[39m collate(\n\u001b[0;32m     69\u001b[0m         \u001b[39mcls\u001b[39;49m,\n\u001b[0;32m     70\u001b[0m         data_list\u001b[39m=\u001b[39;49mdata_list,\n\u001b[0;32m     71\u001b[0m         increment\u001b[39m=\u001b[39;49m\u001b[39mTrue\u001b[39;49;00m,\n\u001b[0;32m     72\u001b[0m         add_batch\u001b[39m=\u001b[39;49m\u001b[39mnot\u001b[39;49;00m \u001b[39misinstance\u001b[39;49m(data_list[\u001b[39m0\u001b[39;49m], Batch),\n\u001b[0;32m     73\u001b[0m         follow_batch\u001b[39m=\u001b[39;49mfollow_batch,\n\u001b[0;32m     74\u001b[0m         exclude_keys\u001b[39m=\u001b[39;49mexclude_keys,\n\u001b[0;32m     75\u001b[0m     )\n\u001b[0;32m     77\u001b[0m     batch\u001b[39m.\u001b[39m_num_graphs \u001b[39m=\u001b[39m \u001b[39mlen\u001b[39m(data_list)\n\u001b[0;32m     78\u001b[0m     batch\u001b[39m.\u001b[39m_slice_dict \u001b[39m=\u001b[39m slice_dict\n",
      "File \u001b[1;32mc:\\Users\\Ben\\anaconda3\\envs\\brepmatching\\lib\\site-packages\\torch_geometric\\data\\collate.py:84\u001b[0m, in \u001b[0;36mcollate\u001b[1;34m(cls, data_list, increment, add_batch, follow_batch, exclude_keys)\u001b[0m\n\u001b[0;32m     81\u001b[0m     \u001b[39mcontinue\u001b[39;00m\n\u001b[0;32m     83\u001b[0m \u001b[39m# Collate attributes into a unified representation:\u001b[39;00m\n\u001b[1;32m---> 84\u001b[0m value, slices, incs \u001b[39m=\u001b[39m _collate(attr, values, data_list, stores,\n\u001b[0;32m     85\u001b[0m                                increment)\n\u001b[0;32m     87\u001b[0m \u001b[39mif\u001b[39;00m \u001b[39misinstance\u001b[39m(value, Tensor) \u001b[39mand\u001b[39;00m value\u001b[39m.\u001b[39mis_cuda:\n\u001b[0;32m     88\u001b[0m     device \u001b[39m=\u001b[39m value\u001b[39m.\u001b[39mdevice\n",
      "File \u001b[1;32mc:\\Users\\Ben\\anaconda3\\envs\\brepmatching\\lib\\site-packages\\torch_geometric\\data\\collate.py:133\u001b[0m, in \u001b[0;36m_collate\u001b[1;34m(key, values, data_list, stores, increment)\u001b[0m\n\u001b[0;32m    131\u001b[0m slices \u001b[39m=\u001b[39m cumsum([value\u001b[39m.\u001b[39msize(cat_dim \u001b[39mor\u001b[39;00m \u001b[39m0\u001b[39m) \u001b[39mfor\u001b[39;00m value \u001b[39min\u001b[39;00m values])\n\u001b[0;32m    132\u001b[0m \u001b[39mif\u001b[39;00m increment:\n\u001b[1;32m--> 133\u001b[0m     incs \u001b[39m=\u001b[39m get_incs(key, values, data_list, stores)\n\u001b[0;32m    134\u001b[0m     \u001b[39mif\u001b[39;00m incs\u001b[39m.\u001b[39mdim() \u001b[39m>\u001b[39m \u001b[39m1\u001b[39m \u001b[39mor\u001b[39;00m \u001b[39mint\u001b[39m(incs[\u001b[39m-\u001b[39m\u001b[39m1\u001b[39m]) \u001b[39m!=\u001b[39m \u001b[39m0\u001b[39m:\n\u001b[0;32m    135\u001b[0m         values \u001b[39m=\u001b[39m [\n\u001b[0;32m    136\u001b[0m             value \u001b[39m+\u001b[39m inc\u001b[39m.\u001b[39mto(value\u001b[39m.\u001b[39mdevice)\n\u001b[0;32m    137\u001b[0m             \u001b[39mfor\u001b[39;00m value, inc \u001b[39min\u001b[39;00m \u001b[39mzip\u001b[39m(values, incs)\n\u001b[0;32m    138\u001b[0m         ]\n",
      "File \u001b[1;32mc:\\Users\\Ben\\anaconda3\\envs\\brepmatching\\lib\\site-packages\\torch_geometric\\data\\collate.py:230\u001b[0m, in \u001b[0;36mget_incs\u001b[1;34m(key, values, data_list, stores)\u001b[0m\n\u001b[0;32m    228\u001b[0m     repeats \u001b[39m=\u001b[39m torch\u001b[39m.\u001b[39mstack(repeats, dim\u001b[39m=\u001b[39m\u001b[39m0\u001b[39m)\n\u001b[0;32m    229\u001b[0m \u001b[39melse\u001b[39;00m:\n\u001b[1;32m--> 230\u001b[0m     repeats \u001b[39m=\u001b[39m torch\u001b[39m.\u001b[39;49mtensor(repeats)\n\u001b[0;32m    231\u001b[0m \u001b[39mreturn\u001b[39;00m cumsum(repeats[:\u001b[39m-\u001b[39m\u001b[39m1\u001b[39m])\n",
      "\u001b[1;31mRuntimeError\u001b[0m: Could not infer dtype of NoneType"
     ]
    }
   ],
   "source": [
    "tg.data.Batch.from_data_list([ds[0],ds[1]])"
   ]
  },
  {
   "cell_type": "code",
   "execution_count": null,
   "metadata": {},
   "outputs": [],
   "source": []
  }
 ],
 "metadata": {
  "kernelspec": {
   "display_name": "Python 3.9.15",
   "language": "python",
   "name": "python3"
  },
  "language_info": {
   "codemirror_mode": {
    "name": "ipython",
    "version": 3
   },
   "file_extension": ".py",
   "mimetype": "text/x-python",
   "name": "python",
   "nbconvert_exporter": "python",
   "pygments_lexer": "ipython3",
   "version": "3.9.15"
  },
  "orig_nbformat": 4,
  "vscode": {
   "interpreter": {
    "hash": "87142ede9042d04f934af2ae171157c789b6aae7f3fe10d44294683606c509dd"
   }
  }
 },
 "nbformat": 4,
 "nbformat_minor": 2
}
