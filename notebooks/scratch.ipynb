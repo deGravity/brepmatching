{
 "cells": [
  {
   "cell_type": "code",
   "execution_count": 5,
   "metadata": {},
   "outputs": [],
   "source": [
    "import numpy as np\n",
    "inch = 0.0254 # meters\n",
    "\n",
    "shortbox = np.array([ 1.364712, 1.604083, 1]) * inch\n",
    "\n",
    "longbox = np.array([ 1.504712, 1.604083, 1]) * inch\n",
    "\n",
    "longerbox = np.array([ 1.754712, 1.604083, 1]) * inch\n"
   ]
  },
  {
   "cell_type": "code",
   "execution_count": 7,
   "metadata": {},
   "outputs": [
    {
     "data": {
      "text/plain": [
       "array([0.03466368, 0.04074371, 0.0254    ])"
      ]
     },
     "execution_count": 7,
     "metadata": {},
     "output_type": "execute_result"
    }
   ],
   "source": [
    "shortbox"
   ]
  },
  {
   "cell_type": "code",
   "execution_count": 10,
   "metadata": {},
   "outputs": [],
   "source": [
    "shortbox  = np.array([0.0407437, 0.0254, 0.03466368])\n",
    "longbox   = np.array([0.0407437,  0.0254,  0.03821968])\n",
    "longerbox = np.array([0.0407437,  0.0254, 0.04456968])"
   ]
  },
  {
   "cell_type": "code",
   "execution_count": 25,
   "metadata": {},
   "outputs": [
    {
     "data": {
      "text/plain": [
       "0.0014123265788160001"
      ]
     },
     "execution_count": 25,
     "metadata": {},
     "output_type": "execute_result"
    }
   ],
   "source": [
    "shortbox[0] * shortbox[2]"
   ]
  },
  {
   "cell_type": "code",
   "execution_count": 12,
   "metadata": {},
   "outputs": [
    {
     "data": {
      "text/plain": [
       "0.0035559999999999967"
      ]
     },
     "execution_count": 12,
     "metadata": {},
     "output_type": "execute_result"
    }
   ],
   "source": [
    "long_minus_short"
   ]
  },
  {
   "cell_type": "code",
   "execution_count": null,
   "metadata": {},
   "outputs": [],
   "source": []
  },
  {
   "cell_type": "code",
   "execution_count": 19,
   "metadata": {},
   "outputs": [
    {
     "name": "stdout",
     "output_type": "stream",
     "text": [
      "0.0014123265788160001\n",
      "0.000880457472\n",
      "0.0014123265788160001\n",
      "0.000880457472\n",
      "1.0\n",
      "1.0\n"
     ]
    }
   ],
   "source": [
    "long_minus_short = (longbox - shortbox)[2]\n",
    "long_short_intersect_face_0 = (longbox[2] * longbox[0] - long_minus_short * shortbox[0])\n",
    "long_short_intersect_face_1 = (longbox[2] * longbox[1] - long_minus_short * shortbox[1])\n",
    "print(long_short_intersect_face_0)\n",
    "print(long_short_intersect_face_1)\n",
    "short_face_0 = shortbox[2] * shortbox[0]\n",
    "short_face_1 = shortbox[2] * shortbox[1]\n",
    "print(short_face_0)\n",
    "print(short_face_1)\n",
    "\n",
    "print(long_short_intersect_face_0 / short_face_0)\n",
    "print(long_short_intersect_face_1 / short_face_1)"
   ]
  },
  {
   "cell_type": "code",
   "execution_count": 26,
   "metadata": {},
   "outputs": [],
   "source": [
    "from pathlib import Path\n",
    "from apikey.onshape import Onshape\n",
    "\n",
    "str(Path.home().joinpath('.config','onshapecreds.json'))\n",
    "\n",
    "api = Onshape(stack='https://cad.onshape.com', creds=str(Path.home().joinpath('.config','onshapecreds.json')), logging=False)\n",
    "\n",
    "\n",
    "def dowload_part(did, mv, eid):\n",
    "    response = api.request(\n",
    "        method='get', \n",
    "        path=f'/api/partstudios/d/{did}/m/{mv}/e/{eid}/parasolid', query={'includeExportIds':True})\n",
    "    return response.text"
   ]
  },
  {
   "cell_type": "code",
   "execution_count": 42,
   "metadata": {},
   "outputs": [],
   "source": [
    "short_url = 'https://cad.onshape.com/documents/f24bb989e1d1efb316176b0f/w/614328d935dc905c961f0507/m/e8432b3601ff44ff29e05c49/e/a8c2329a51b37d3263bf704e'\n",
    "med_url = 'https://cad.onshape.com/documents/f24bb989e1d1efb316176b0f/w/614328d935dc905c961f0507/m/4a93181089bad062ca92ee9e/e/a8c2329a51b37d3263bf704e'\n",
    "long_url = 'https://cad.onshape.com/documents/f24bb989e1d1efb316176b0f/w/614328d935dc905c961f0507/m/a7b0f95a3ae45d458c762a20/e/a8c2329a51b37d3263bf704e'\n",
    "shifted_url = \"https://cad.onshape.com/documents/f24bb989e1d1efb316176b0f/w/614328d935dc905c961f0507/m/32dbd47e1b21d5f5e091b0d2/e/a8c2329a51b37d3263bf704e\""
   ]
  },
  {
   "cell_type": "code",
   "execution_count": 34,
   "metadata": {},
   "outputs": [],
   "source": [
    "from collections import namedtuple\n",
    "Element = namedtuple('Element', ['did', 'wid', 'mv', 'eid'])\n",
    "def parts_from_url(url):\n",
    "    parts = url.split('/')\n",
    "    return Element(parts[-7], parts[-5], parts[-3], parts[-1])\n",
    "def dowload_part_from_url(url):\n",
    "    el= parts_from_url(url)\n",
    "    return dowload_part(el.did, el.mv, el.eid)"
   ]
  },
  {
   "cell_type": "code",
   "execution_count": 43,
   "metadata": {},
   "outputs": [],
   "source": [
    "short_data = dowload_part_from_url(short_url)\n",
    "med_data = dowload_part_from_url(med_url)\n",
    "long_data = dowload_part_from_url(long_url)\n",
    "shifted_data = dowload_part_from_url(shifted_url)\n",
    "\n",
    "\n",
    "for data,path in [\n",
    "        (short_data, '../coincidence_matching/small_cube.x_t'),\n",
    "        (med_data, '../coincidence_matching/med_cube.x_t'),\n",
    "        (long_data, '../coincidence_matching/large_cube.x_t'),\n",
    "        (shifted_data, '../coincidence_matching/shifted_cube.x_t')]:\n",
    "    with open(path, 'w') as f:\n",
    "        f.write(data)"
   ]
  },
  {
   "cell_type": "code",
   "execution_count": null,
   "metadata": {},
   "outputs": [],
   "source": []
  }
 ],
 "metadata": {
  "kernelspec": {
   "display_name": "brepmatching",
   "language": "python",
   "name": "python3"
  },
  "language_info": {
   "codemirror_mode": {
    "name": "ipython",
    "version": 3
   },
   "file_extension": ".py",
   "mimetype": "text/x-python",
   "name": "python",
   "nbconvert_exporter": "python",
   "pygments_lexer": "ipython3",
   "version": "3.9.15"
  },
  "orig_nbformat": 4,
  "vscode": {
   "interpreter": {
    "hash": "87142ede9042d04f934af2ae171157c789b6aae7f3fe10d44294683606c509dd"
   }
  }
 },
 "nbformat": 4,
 "nbformat_minor": 2
}
