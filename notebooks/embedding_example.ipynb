{
 "cells": [
  {
   "cell_type": "code",
   "execution_count": null,
   "metadata": {},
   "outputs": [],
   "source": [
    "from brepmatching.data import BRepMatchingDataset\n",
    "from brepmatching.models import PairEmbedder\n",
    "from torch_geometric.loader import DataLoader"
   ]
  },
  {
   "cell_type": "code",
   "execution_count": null,
   "metadata": {},
   "outputs": [],
   "source": [
    "ds_train = BRepMatchingDataset('../data/example_dataset.zip', '../data/example_dataset.pt', test_identity=True)\n",
    "ds_test = BRepMatchingDataset('../data/example_dataset.zip', '../data/example_dataset.pt', mode='test', test_identity=True)\n",
    "ds_validate = BRepMatchingDataset('../data/example_dataset.zip', '../data/example_dataset.pt', mode='validate', test_identity=True)\n",
    "\n",
    "#ds = BRepMatchingDataset('../data/firstFullRunNoTolNewVar.zip', '../data/firstFullRunNoTolNewVar.pt')\n",
    "#dl = DataLoader(ds, batch_size=10, shuffle=True)"
   ]
  },
  {
   "cell_type": "code",
   "execution_count": null,
   "metadata": {},
   "outputs": [],
   "source": [
    "embedder = PairEmbedder()"
   ]
  },
  {
   "cell_type": "code",
   "execution_count": null,
   "metadata": {},
   "outputs": [],
   "source": [
    "batch = next(iter(dl))"
   ]
  },
  {
   "cell_type": "code",
   "execution_count": null,
   "metadata": {},
   "outputs": [],
   "source": [
    "embedder(batch)"
   ]
  }
 ],
 "metadata": {
  "kernelspec": {
   "display_name": "Python 3.9.15 ('brepmatching')",
   "language": "python",
   "name": "python3"
  },
  "language_info": {
   "codemirror_mode": {
    "name": "ipython",
    "version": 3
   },
   "file_extension": ".py",
   "mimetype": "text/x-python",
   "name": "python",
   "nbconvert_exporter": "python",
   "pygments_lexer": "ipython3",
   "version": "3.9.15"
  },
  "orig_nbformat": 4,
  "vscode": {
   "interpreter": {
    "hash": "f9ca4f519f48ce8d979ea081336c7960eec0d9d9362f1e87ed6aa6392fc52feb"
   }
  }
 },
 "nbformat": 4,
 "nbformat_minor": 2
}
