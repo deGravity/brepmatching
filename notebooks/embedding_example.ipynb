{
 "cells": [
  {
   "cell_type": "code",
   "execution_count": 1,
   "metadata": {},
   "outputs": [],
   "source": [
    "from brepmatching.data import BRepMatchingDataset\n",
    "from brepmatching.models import PairEmbedder\n",
    "from torch_geometric.loader import DataLoader"
   ]
  },
  {
   "cell_type": "code",
   "execution_count": 2,
   "metadata": {},
   "outputs": [
    {
     "name": "stderr",
     "output_type": "stream",
     "text": [
      "  0%|          | 0/93 [00:00<?, ?it/s]c:\\Users\\james\\anaconda3\\envs\\brepmatching\\lib\\site-packages\\automate\\conversions.py:20: UserWarning: The given NumPy array is not writeable, and PyTorch does not support non-writeable tensors. This means you can write to the underlying (supposedly non-writeable) NumPy array using the tensor. You may want to copy the array to protect its data or make it writeable before converting it to a tensor. This type of warning will be suppressed for the rest of this program. (Triggered internally at  ..\\torch\\csrc\\utils\\tensor_numpy.cpp:189.)\n",
      "  return torch.from_numpy(obj)\n",
      "100%|██████████| 93/93 [00:19<00:00,  4.68it/s]\n"
     ]
    }
   ],
   "source": [
    "ds_train = BRepMatchingDataset('../data/example_dataset.zip', '../data/example_dataset.pt')\n",
    "ds_test = BRepMatchingDataset('../data/example_dataset.zip', '../data/example_dataset.pt', mode='test')\n",
    "ds_validate = BRepMatchingDataset('../data/example_dataset.zip', '../data/example_dataset.pt', mode='validate')\n",
    "\n",
    "#ds = BRepMatchingDataset('../data/firstFullRunNoTolNewVar.zip', '../data/firstFullRunNoTolNewVar.pt')\n",
    "#dl = DataLoader(ds, batch_size=10, shuffle=True)"
   ]
  },
  {
   "cell_type": "code",
   "execution_count": null,
   "metadata": {},
   "outputs": [],
   "source": [
    "len(ds)"
   ]
  },
  {
   "cell_type": "code",
   "execution_count": 3,
   "metadata": {},
   "outputs": [],
   "source": [
    "embedder = PairEmbedder()"
   ]
  },
  {
   "cell_type": "code",
   "execution_count": 4,
   "metadata": {},
   "outputs": [],
   "source": [
    "batch = next(iter(dl))"
   ]
  },
  {
   "cell_type": "code",
   "execution_count": 5,
   "metadata": {},
   "outputs": [
    {
     "data": {
      "text/plain": [
       "((tensor([[0.2432, 0.4358, 0.5796,  ..., 0.7085, 0.5367, 0.3286],\n",
       "          [0.2205, 0.4124, 0.2216,  ..., 0.4908, 0.3226, 0.4306],\n",
       "          [0.1585, 0.2780, 0.3129,  ..., 0.5482, 0.3580, 0.3715],\n",
       "          ...,\n",
       "          [0.3707, 0.7772, 0.5581,  ..., 0.2654, 0.5089, 0.7443],\n",
       "          [0.2666, 0.6243, 0.3354,  ..., 0.1848, 0.6429, 0.6519],\n",
       "          [0.4234, 0.7097, 0.3518,  ..., 0.4380, 0.5541, 0.3134]],\n",
       "         grad_fn=<AddBackward0>),\n",
       "  tensor([[ 1.5574e-01,  4.0918e-01,  1.5323e-01,  ...,  2.3746e-01,\n",
       "            9.7561e-04,  2.0332e-01],\n",
       "          [ 6.7031e-02,  4.0872e-01,  4.3606e-01,  ...,  1.8411e-01,\n",
       "           -4.5887e-03,  3.5237e-01],\n",
       "          [ 1.3836e-01,  4.3030e-01,  1.7194e-01,  ...,  2.0169e-01,\n",
       "            7.3073e-04,  1.5575e-01],\n",
       "          ...,\n",
       "          [ 1.5215e-01,  4.2155e-01,  3.2352e-01,  ...,  3.3070e-01,\n",
       "           -3.6042e-03,  4.7637e-01],\n",
       "          [ 1.7585e-01,  3.5672e-01,  2.4819e-01,  ...,  3.7176e-01,\n",
       "           -4.0154e-03,  4.6596e-01],\n",
       "          [ 4.3976e-01,  5.9821e-01,  1.5555e-01,  ...,  7.9950e-01,\n",
       "           -7.8910e-03,  1.8750e-01]], grad_fn=<AddBackward0>),\n",
       "  tensor([[ 1.1455e-01,  3.0501e-01,  6.5859e-01,  ...,  4.3983e-01,\n",
       "           -2.3803e-03, -2.6065e-03],\n",
       "          [ 1.1453e-01,  3.0469e-01,  6.6402e-01,  ...,  4.5195e-01,\n",
       "           -2.6110e-03, -2.5792e-03],\n",
       "          [ 1.1658e-01,  3.0712e-01,  6.6784e-01,  ...,  4.4114e-01,\n",
       "           -2.7476e-03, -2.4993e-03],\n",
       "          ...,\n",
       "          [ 1.7087e-01,  2.7306e-01,  7.7396e-01,  ...,  4.9046e-01,\n",
       "           -3.2108e-03, -3.1457e-03],\n",
       "          [ 2.1588e-01,  4.9780e-01,  6.0514e-01,  ...,  5.0646e-01,\n",
       "           -4.2556e-03,  1.9734e-04],\n",
       "          [ 2.1883e-01,  4.5641e-01,  5.1127e-01,  ...,  5.5698e-01,\n",
       "           -3.8610e-03,  1.9058e-02]], grad_fn=<AddBackward0>)),\n",
       " (tensor([[0.3748, 0.5969, 0.1988,  ..., 0.7369, 0.3910, 0.2519],\n",
       "          [0.6697, 0.5206, 0.3481,  ..., 0.7213, 0.5881, 0.5707],\n",
       "          [0.2841, 0.4376, 0.6526,  ..., 0.8418, 0.3587, 0.5724],\n",
       "          ...,\n",
       "          [0.2808, 0.6426, 0.4076,  ..., 0.8254, 0.3944, 0.7500],\n",
       "          [0.3971, 0.6807, 1.0548,  ..., 0.3592, 0.3392, 0.6486],\n",
       "          [0.1653, 0.4935, 0.4826,  ..., 0.8986, 0.3130, 0.3731]],\n",
       "         grad_fn=<AddBackward0>),\n",
       "  tensor([[ 0.1984,  0.2429,  0.1454,  ...,  0.1920,  0.0334,  0.1946],\n",
       "          [ 0.0572,  0.4497,  0.3778,  ...,  0.1369, -0.0036,  0.2899],\n",
       "          [ 0.1242,  0.1719, -0.0015,  ...,  0.1934, -0.0014,  0.2129],\n",
       "          ...,\n",
       "          [ 0.2669,  0.4865,  0.3559,  ...,  0.2533, -0.0044,  0.3195],\n",
       "          [ 0.3494,  0.3860,  0.3194,  ...,  0.2682, -0.0036,  0.2377],\n",
       "          [ 0.2582,  0.2788,  0.2553,  ...,  0.2411, -0.0028,  0.2653]],\n",
       "         grad_fn=<AddBackward0>),\n",
       "  tensor([[ 0.1145,  0.3047,  0.6683,  ...,  0.4740, -0.0024, -0.0025],\n",
       "          [ 0.1143,  0.3049,  0.6686,  ...,  0.4490, -0.0025, -0.0026],\n",
       "          [ 0.1164,  0.3069,  0.6787,  ...,  0.4745, -0.0024, -0.0023],\n",
       "          ...,\n",
       "          [ 0.1377,  0.2503,  0.7363,  ...,  0.5272, -0.0028, -0.0035],\n",
       "          [ 0.1370,  0.2587,  0.7300,  ...,  0.5531, -0.0029, -0.0034],\n",
       "          [ 0.2188,  0.4564,  0.5113,  ...,  0.5570, -0.0039,  0.0191]],\n",
       "         grad_fn=<AddBackward0>)))"
      ]
     },
     "execution_count": 5,
     "metadata": {},
     "output_type": "execute_result"
    }
   ],
   "source": [
    "embedder(batch)"
   ]
  },
  {
   "cell_type": "code",
   "execution_count": null,
   "metadata": {},
   "outputs": [],
   "source": []
  }
 ],
 "metadata": {
  "kernelspec": {
   "display_name": "Python 3.9.15 ('brepmatching')",
   "language": "python",
   "name": "python3"
  },
  "language_info": {
   "codemirror_mode": {
    "name": "ipython",
    "version": 3
   },
   "file_extension": ".py",
   "mimetype": "text/x-python",
   "name": "python",
   "nbconvert_exporter": "python",
   "pygments_lexer": "ipython3",
   "version": "3.9.15"
  },
  "orig_nbformat": 4,
  "vscode": {
   "interpreter": {
<<<<<<< HEAD
    "hash": "9dfb738afa69abf2b7dbb86957a885d3d402bef98deebe7e63da1cd38b754242"
=======
    "hash": "f9ca4f519f48ce8d979ea081336c7960eec0d9d9362f1e87ed6aa6392fc52feb"
>>>>>>> main
   }
  }
 },
 "nbformat": 4,
 "nbformat_minor": 2
}
