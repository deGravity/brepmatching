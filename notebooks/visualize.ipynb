{
 "cells": [
  {
   "cell_type": "code",
   "execution_count": null,
   "metadata": {},
   "outputs": [],
   "source": [
    "from automate import Part, PartOptions\n",
    "from brepmatching.rendering import *\n",
    "import os\n",
    "import json\n",
    "import pandas as pd\n",
    "from PIL import Image\n",
    "from tqdm import tqdm\n",
    "from zipfile import ZipFile"
   ]
  },
  {
   "cell_type": "code",
   "execution_count": null,
   "metadata": {},
   "outputs": [],
   "source": [
    "im_grid = []\n",
    "\n",
    "with ZipFile('../data/no_tol_v1.zip','r') as zf:\n",
    "    with zf.open('data/VariationData/all_variations.csv','r') as f:\n",
    "        variations = pd.read_csv(f)\n",
    "\n",
    "    for i in tqdm(range(len(variations))):\n",
    "        var_rec = variations.iloc[i]\n",
    "\n",
    "        original_path = os.path.join('data/BrepsWithReference',var_rec.ps_orig)\n",
    "        variation_path = os.path.join('data/BrepsWithReference',var_rec.ps_var)\n",
    "        match_path = os.path.join('data/Matches',var_rec.matchFile)\n",
    "\n",
    "        with zf.open(original_path, 'r') as f:\n",
    "            original_part_data = f.read().decode('utf-8')\n",
    "            original_part = Part(original_part_data)\n",
    "        with zf.open(variation_path, 'r') as f:\n",
    "            variation_part_data = f.read().decode('utf-8')\n",
    "            variation_part = Part(variation_part_data)\n",
    "\n",
    "        with zf.open(match_path, 'r') as f:\n",
    "            match_data = json.load(f)\n",
    "        \n",
    "        orig_id_map = {}\n",
    "        var_id_map = {}\n",
    "        for id, (_, matches) in enumerate(match_data.items()):\n",
    "            orig_id = matches['val1']\n",
    "            var_id = matches['val2']\n",
    "            orig_id_map[orig_id] = id\n",
    "            var_id_map[var_id] = id\n",
    "        orig_ids_unshifted = [orig_id_map.get(f.export_id,len(match_data)) for f in original_part.brep.nodes.faces]\n",
    "        var_ids_unshifted = [var_id_map.get(f.export_id,len(match_data)) for f in variation_part.brep.nodes.faces]\n",
    "        shift_map = dict((k,v) for (v,k) in enumerate(set(orig_ids_unshifted + var_ids_unshifted)))\n",
    "        orig_ids = [shift_map[k] for k in orig_ids_unshifted]\n",
    "        var_ids = [shift_map[k] for k in var_ids_unshifted]\n",
    "        orig_mesh_face_ids = [orig_ids[f] for f in original_part.mesh_topology.face_to_topology]\n",
    "        var_mesh_face_ids = [var_ids[f] for f in variation_part.mesh_topology.face_to_topology]\n",
    "\n",
    "        im_orig = render_segmented_mesh(original_part.mesh.V, original_part.mesh.F, np.array(orig_mesh_face_ids))\n",
    "        im_var = render_segmented_mesh(variation_part.mesh.V, variation_part.mesh.F, np.array(var_mesh_face_ids))\n",
    "\n",
    "        im_grid.append([im_orig, im_var])\n",
    "\n",
    "Image.fromarray(grid_images(np.array(im_grid)).astype(np.uint8))"
   ]
  }
 ],
 "metadata": {
  "kernelspec": {
   "display_name": "Python 3.9.13 ('automate')",
   "language": "python",
   "name": "python3"
  },
  "language_info": {
   "codemirror_mode": {
    "name": "ipython",
    "version": 3
   },
   "file_extension": ".py",
   "mimetype": "text/x-python",
   "name": "python",
   "nbconvert_exporter": "python",
   "pygments_lexer": "ipython3",
   "version": "3.9.13"
  },
  "orig_nbformat": 4,
  "vscode": {
   "interpreter": {
    "hash": "40d348aabc84c65cf5454f47dd42764ee2f97f6b03d2b3fb68e7398f050dcdb8"
   }
  }
 },
 "nbformat": 4,
 "nbformat_minor": 2
}
