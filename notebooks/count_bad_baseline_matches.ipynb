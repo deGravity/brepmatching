{
 "cells": [
  {
   "cell_type": "code",
   "execution_count": 7,
   "id": "3ff7fdb1-82d0-43fa-8b6d-c4855d548aac",
   "metadata": {},
   "outputs": [],
   "source": [
    "import meshplot as mp\n",
    "from coincidence_matching import get_export_id_types\n",
    "import json\n",
    "from zipfile import ZipFile\n",
    "import pandas as pd\n",
    "from tqdm import tqdm\n",
    "import numpy as np\n",
    "from automate import Part"
   ]
  },
  {
   "cell_type": "code",
   "execution_count": null,
   "id": "99457697-81e6-4400-8663-a753aa0c79ba",
   "metadata": {},
   "outputs": [
    {
     "name": "stderr",
     "output_type": "stream",
     "text": [
      " 97%|█████████████████████████████████████████████████████████████████████████████████████████▍  | 6604/6797 [01:26<00:03, 61.92it/s]"
     ]
    }
   ],
   "source": [
    "missing_data = []\n",
    "num_mismatched_types = []\n",
    "\n",
    "matching_types = np.zeros((4,4))\n",
    "\n",
    "classmap = {\n",
    "    'PK_CLASS_face':0,\n",
    "    'PK_CLASS_edge':1,\n",
    "    'PK_CLASS_vertex':2,\n",
    "    'PK_CLASS_body':3\n",
    "}\n",
    "\n",
    "with ZipFile('../../../brepmatching/Geo.zip','r') as zf:\n",
    "    with zf.open('data/baseline/allVariationsWithBaseline.csv','r') as f:\n",
    "        variations = pd.read_csv(f)\n",
    "    \n",
    "    data = variations\n",
    "    data = data[(data.fail == 0) & (data.baselineNew != ' ') ]\n",
    "    \n",
    "    all_names = set(zf.namelist())\n",
    "    \n",
    "    for i in tqdm(range(len(data))):\n",
    "        d = data.iloc[i]\n",
    "        \n",
    "        original_path = 'data/BrepsWithReference/' + d.ps_orig\n",
    "        variation_path = 'data/BrepsWithReference/' + d.ps_var\n",
    "        \n",
    "        baseline_original_path = 'data/baseline/' + d.baselineOrig\n",
    "        baseline_var_path = 'data/baseline/' + d.baselineNew\n",
    "        \n",
    "        path_gt_match = 'data/Matches/' + d.matchFile\n",
    "        path_bl_match = 'data/baseline/' + d.baselineMatch\n",
    "        \n",
    "        data_exists = (original_path in all_names) and \\\n",
    "            (variation_path in all_names) and \\\n",
    "            (baseline_original_path in all_names) and \\\n",
    "            (baseline_var_path in all_names) and \\\n",
    "            (path_gt_match in all_names) and \\\n",
    "            (path_bl_match in all_names)\n",
    "        \n",
    "        # Verify that all data files are in the archive\n",
    "        if not data_exists:\n",
    "            missing_data.append(i)\n",
    "            continue\n",
    "        \n",
    "        # Load parts and match files\n",
    "        with zf.open(original_path,'r') as f:\n",
    "            original_part_data = f.read().decode('utf-8')\n",
    "        with zf.open(variation_path,'r') as f:\n",
    "            variation_part_data = f.read().decode('utf-8')\n",
    "        with zf.open(path_gt_match, 'r') as f:\n",
    "            gt_match = json.load(f)\n",
    "            \n",
    "        orig_types = get_export_id_types(original_part_data)\n",
    "        var_types = get_export_id_types(variation_part_data)\n",
    "                \n",
    "        for match in gt_match.values():\n",
    "            orig_id = match['val1']\n",
    "            var_id = match['val2']\n",
    "            \n",
    "            o_idx = classmap[orig_types[orig_id]]\n",
    "            v_idx = classmap[var_types[var_id]]\n",
    "            \n",
    "            matching_types[o_idx,v_idx] = matching_types[o_idx,v_idx] + 1\n",
    "            \n",
    "            "
   ]
  },
  {
   "cell_type": "code",
   "execution_count": 9,
   "id": "885674eb-2cc0-407a-a0aa-7bb7472ccf74",
   "metadata": {},
   "outputs": [
    {
     "data": {
      "text/plain": [
       "5836"
      ]
     },
     "execution_count": 9,
     "metadata": {},
     "output_type": "execute_result"
    }
   ],
   "source": [
    "(np.array(num_mismatched_types) > 0).sum()"
   ]
  },
  {
   "cell_type": "code",
   "execution_count": 13,
   "id": "25bc3c9e-d126-4c6a-8aef-80696a5218eb",
   "metadata": {},
   "outputs": [
    {
     "data": {
      "text/plain": [
       "array([[    0, 59041,   113,  2338],\n",
       "       [65353,     0, 32918,   760],\n",
       "       [  881, 36207,     0,    55],\n",
       "       [ 2268,   343,     5,     0]])"
      ]
     },
     "execution_count": 13,
     "metadata": {},
     "output_type": "execute_result"
    }
   ],
   "source": [
    "mismatches.astype(int)"
   ]
  },
  {
   "cell_type": "code",
   "execution_count": null,
   "id": "c02a6156-9a3b-49f2-b602-340e1723abf2",
   "metadata": {},
   "outputs": [],
   "source": []
  }
 ],
 "metadata": {
  "kernelspec": {
   "display_name": "brepmatching",
   "language": "python",
   "name": "brepmatching"
  },
  "language_info": {
   "codemirror_mode": {
    "name": "ipython",
    "version": 3
   },
   "file_extension": ".py",
   "mimetype": "text/x-python",
   "name": "python",
   "nbconvert_exporter": "python",
   "pygments_lexer": "ipython3",
   "version": "3.9.15"
  }
 },
 "nbformat": 4,
 "nbformat_minor": 5
}
