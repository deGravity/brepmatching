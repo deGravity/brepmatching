{
 "cells": [
  {
   "cell_type": "code",
   "execution_count": null,
   "metadata": {},
   "outputs": [],
   "source": [
    "import torch\n",
    "from brepmatching.utils import zip_hetdata\n",
    "from automate import Part, PartFeatures, part_to_graph, PartOptions\n",
    "import json\n",
    "import xxhash\n",
    "from brepmatching.visualization import render_predictions, show_image"
   ]
  },
  {
   "cell_type": "code",
   "execution_count": null,
   "metadata": {},
   "outputs": [],
   "source": [
    "p0 = Part('/home/ben/Downloads/output_baseline1.x_t')\n",
    "p1 = Part('/home/ben/Downloads/output_baseline2.x_t')\n",
    "with open('/home/ben/Downloads/match.json') as f:\n",
    "    matches = json.load(f)\n",
    "\n",
    "orig_part = p0\n",
    "var_part = p1\n",
    "\n",
    "features = PartFeatures()\n",
    "\n",
    "orig_brep = part_to_graph(orig_part, features)\n",
    "var_brep = part_to_graph(var_part, features)\n",
    "export_id_hash = lambda x: xxhash.xxh32(x).intdigest()\n",
    "hashed_matches = [(export_id_hash(match['val1']), export_id_hash(match['val2'])) for _,match in matches.items()]\n",
    "\n",
    "index_dict = lambda x: dict((v.item(),k) for k,v in enumerate(x))\n",
    "orig_face_map = index_dict(orig_brep.face_export_ids)\n",
    "orig_edge_map = index_dict(orig_brep.edge_export_ids)\n",
    "orig_vert_map = index_dict(orig_brep.vertex_export_ids)\n",
    "\n",
    "var_face_map = index_dict(var_brep.face_export_ids)\n",
    "var_edge_map = index_dict(var_brep.edge_export_ids)\n",
    "var_vert_map = index_dict(var_brep.vertex_export_ids)\n",
    "\n",
    "face_matches = []\n",
    "edge_matches = []\n",
    "vert_matches = []\n",
    "for orig_id, var_id in hashed_matches:\n",
    "    if orig_id in orig_face_map:\n",
    "        assert(var_id in var_face_map)\n",
    "        face_matches.append([orig_face_map[orig_id], var_face_map[var_id]])\n",
    "    elif orig_id in orig_edge_map:\n",
    "        assert(var_id in var_edge_map)\n",
    "        edge_matches.append([orig_edge_map[orig_id], var_edge_map[var_id]])\n",
    "    elif orig_id in orig_vert_map:\n",
    "        assert(var_id in var_vert_map)\n",
    "        vert_matches.append([orig_vert_map[orig_id], var_vert_map[var_id]])\n",
    "    else:\n",
    "        pass # The last match in our test wasn't in the dataset and was JFD, JFD -- special case?\n",
    "        #assert(False) # Error - missing export id\n",
    "\n",
    "face_matches = torch.tensor(face_matches).long().T if len(face_matches) > 0 else torch.empty((2,0)).long()\n",
    "edge_matches = torch.tensor(edge_matches).long().T if len(edge_matches) > 0 else torch.empty((2,0)).long()\n",
    "vert_matches = torch.tensor(vert_matches).long().T if len(vert_matches) > 0 else torch.empty((2,0)).long()\n",
    "\n",
    "data = zip_hetdata(orig_brep, var_brep)\n",
    "data.face_matches = face_matches\n",
    "data.__edge_sets__['face_matches'] = ['left_faces', 'right_faces']\n",
    "data.edge_matches = edge_matches\n",
    "data.__edge_sets__['edge_matches'] = ['left_edges', 'right_edges']\n",
    "data.vertex_matches = vert_matches\n",
    "data.__edge_sets__['vertex_matches'] = ['left_vertices', 'right_vertices']\n",
    "\n",
    "\n",
    "show_image(\n",
    "    render_predictions(data, face_match_preds=data.face_matches)\n",
    "    )"
   ]
  }
 ],
 "metadata": {
  "kernelspec": {
   "display_name": "brepmatching",
   "language": "python",
   "name": "python3"
  },
  "language_info": {
   "name": "python",
   "version": "3.9.15 | packaged by conda-forge | (main, Nov 22 2022, 08:41:22) [MSC v.1929 64 bit (AMD64)]"
  },
  "orig_nbformat": 4,
  "vscode": {
   "interpreter": {
    "hash": "87142ede9042d04f934af2ae171157c789b6aae7f3fe10d44294683606c509dd"
   }
  }
 },
 "nbformat": 4,
 "nbformat_minor": 2
}
