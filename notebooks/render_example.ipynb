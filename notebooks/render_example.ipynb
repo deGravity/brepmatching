{
 "cells": [
  {
   "cell_type": "code",
   "execution_count": null,
   "metadata": {},
   "outputs": [],
   "source": [
    "from brepmatching.visualization import render_predictions, show_image\n",
    "from brepmatching.data import BRepMatchingDataset"
   ]
  },
  {
   "cell_type": "code",
   "execution_count": null,
   "metadata": {},
   "outputs": [],
   "source": [
    "#ds = BRepMatchingDataset('../data/example_dataset.zip', '../data/example_dataset.pt')\n",
    "ds = BRepMatchingDataset('../data/DataA_First100.zip', '../data/DataA_First100.pt')"
   ]
  },
  {
   "cell_type": "code",
   "execution_count": null,
   "metadata": {},
   "outputs": [],
   "source": [
    "# Get Some Data\n",
    "data = ds[45]\n",
    "# Mock-Up some matching data\n",
    "predicted_face_matches = data.faces_matches.clone()\n",
    "# Add Some Missing Matches\n",
    "predicted_face_matches = predicted_face_matches[:,:-3]\n",
    "# Add Some Incorrect Matches\n",
    "predicted_face_matches[:,-3:] = predicted_face_matches[:,-3:].roll(1)"
   ]
  },
  {
   "cell_type": "code",
   "execution_count": null,
   "metadata": {},
   "outputs": [],
   "source": [
    "# Render and show a prediction\n",
    "# render_predictions returns the image as a numpy array.\n",
    "# show_image is a helper function for notebooks that converts\n",
    "# numpy arrays to a PIL.Image\n",
    "\n",
    "# Grey faces are unmatched\n",
    "# blue-green faces are correctly matched\n",
    "# yellow-orage faces are incorrectly unmatched\n",
    "# red-purple faces are incorrectly matched\n",
    "\n",
    "show_image(render_predictions(data, predicted_face_matches))\n"
   ]
  }
 ],
 "metadata": {
  "kernelspec": {
   "display_name": "brepmatching",
   "language": "python",
   "name": "brepmatching"
  },
  "language_info": {
   "codemirror_mode": {
    "name": "ipython",
    "version": 3
   },
   "file_extension": ".py",
   "mimetype": "text/x-python",
   "name": "python",
   "nbconvert_exporter": "python",
   "pygments_lexer": "ipython3",
   "version": "3.9.15 | packaged by conda-forge | (main, Nov 22 2022, 08:39:05) [MSC v.1929 64 bit (AMD64)]"
  },
  "orig_nbformat": 4,
  "vscode": {
   "interpreter": {
    "hash": "87142ede9042d04f934af2ae171157c789b6aae7f3fe10d44294683606c509dd"
   }
  }
 },
 "nbformat": 4,
 "nbformat_minor": 2
}
