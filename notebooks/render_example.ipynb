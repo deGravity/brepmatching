{
 "cells": [
  {
   "cell_type": "code",
   "execution_count": null,
   "metadata": {},
   "outputs": [],
   "source": [
    "from brepmatching.visualization import render_predictions, show_image\n",
    "from brepmatching.data import BRepMatchingDataset"
   ]
  },
  {
   "cell_type": "code",
   "execution_count": null,
   "metadata": {},
   "outputs": [],
   "source": [
    "ds = BRepMatchingDataset('../data/example_dataset.zip', '../data/example_dataset.pt')"
   ]
  },
  {
   "cell_type": "code",
   "execution_count": null,
   "metadata": {},
   "outputs": [],
   "source": [
    "# Get Some Data\n",
    "data = ds[45]\n",
    "# Mock-Up some matching data\n",
    "predicted_face_matches = data.faces_matches.clone()\n",
    "# Add Some Missing Matches\n",
    "predicted_face_matches = predicted_face_matches[:,:-3]\n",
    "# Add Some Incorrect Matches\n",
    "predicted_face_matches[:,-3:] = predicted_face_matches[:,-3:].roll(1)"
   ]
  },
  {
   "cell_type": "code",
   "execution_count": null,
   "metadata": {},
   "outputs": [],
   "source": [
    "# Render and show a prediction\n",
    "# render_predictions returns the image as a numpy array.\n",
    "# show_image is a helper function for notebooks that converts\n",
    "# numpy arrays to a PIL.Image\n",
    "\n",
    "# Grey faces are unmatched\n",
    "# blue-green faces are correctly matched\n",
    "# yellow-orage faces are incorrectly unmatched\n",
    "# red-purple faces are incorrectly matched\n",
    "show_image(\n",
    "    render_predictions(ds[45], face_match_preds=predicted_face_matches)\n",
    "    )"
   ]
  }
 ],
 "metadata": {
  "kernelspec": {
   "display_name": "Python 3.9.13 ('automate')",
   "language": "python",
   "name": "python3"
  },
  "language_info": {
   "codemirror_mode": {
    "name": "ipython",
    "version": 3
   },
   "file_extension": ".py",
   "mimetype": "text/x-python",
   "name": "python",
   "nbconvert_exporter": "python",
   "pygments_lexer": "ipython3",
   "version": "3.9.13"
  },
  "orig_nbformat": 4,
  "vscode": {
   "interpreter": {
    "hash": "40d348aabc84c65cf5454f47dd42764ee2f97f6b03d2b3fb68e7398f050dcdb8"
   }
  }
 },
 "nbformat": 4,
 "nbformat_minor": 2
}
