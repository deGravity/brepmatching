{
 "cells": [
  {
   "cell_type": "code",
   "execution_count": null,
   "metadata": {},
   "outputs": [],
   "source": [
    "from brepmatching.visualization import render_predictions, show_image\n",
    "from brepmatching.data import BRepMatchingDataset"
   ]
  },
  {
   "cell_type": "code",
   "execution_count": null,
   "metadata": {},
   "outputs": [],
   "source": [
    "#ds = BRepMatchingDataset('../data/example_dataset.zip', '../data/example_dataset.pt')\n",
    "ds = BRepMatchingDataset('../data/DataA_First100.zip', '../data/DataA_First100.pt')"
   ]
  },
  {
   "cell_type": "code",
   "execution_count": null,
   "metadata": {},
   "outputs": [],
   "source": [
    "len(ds)"
   ]
  },
  {
   "cell_type": "code",
   "execution_count": null,
   "metadata": {},
   "outputs": [],
   "source": [
    "# Get Some Data\n",
    "data = ds[45]\n",
    "# Mock-Up some matching data\n",
    "predicted_face_matches = data.faces_matches.clone()\n",
    "# Add Some Missing Matches\n",
    "predicted_face_matches = predicted_face_matches[:,:-3]\n",
    "# Add Some Incorrect Matches\n",
    "predicted_face_matches[:,-3:] = predicted_face_matches[:,-3:].roll(1)"
   ]
  },
  {
   "cell_type": "code",
   "execution_count": null,
   "metadata": {},
   "outputs": [],
   "source": [
    "# Render and show a prediction\n",
    "# render_predictions returns the image as a numpy array.\n",
    "# show_image is a helper function for notebooks that converts\n",
    "# numpy arrays to a PIL.Image\n",
    "\n",
    "# Grey faces are unmatched\n",
    "# blue-green faces are correctly matched\n",
    "# yellow-orage faces are incorrectly unmatched\n",
    "# red-purple faces are incorrectly matched\n",
    "from tqdm import tqdm\n",
    "for i in tqdm(range(len(ds))):\n",
    "    image = show_image(\n",
    "        render_predictions(ds[i], ds[i].faces_matches)\n",
    "        )\n",
    "    image.save(f'renders/{i}.png')"
   ]
  },
  {
   "cell_type": "code",
   "execution_count": null,
   "metadata": {},
   "outputs": [],
   "source": []
  }
 ],
 "metadata": {
  "kernelspec": {
   "display_name": "brepmatching",
   "language": "python",
   "name": "python3"
  },
  "language_info": {
   "codemirror_mode": {
    "name": "ipython",
    "version": 3
   },
   "file_extension": ".py",
   "mimetype": "text/x-python",
   "name": "python",
   "nbconvert_exporter": "python",
   "pygments_lexer": "ipython3",
   "version": "3.9.15"
  },
  "orig_nbformat": 4,
  "vscode": {
   "interpreter": {
    "hash": "f9ca4f519f48ce8d979ea081336c7960eec0d9d9362f1e87ed6aa6392fc52feb"
   }
  }
 },
 "nbformat": 4,
 "nbformat_minor": 2
}
