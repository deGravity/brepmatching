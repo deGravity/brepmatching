{
 "cells": [
  {
   "cell_type": "code",
   "execution_count": 1,
   "metadata": {},
   "outputs": [],
   "source": [
    "from brepmatching.data import BRepMatchingDataset\n",
    "from brepmatching.models import PairEmbedder\n",
    "\n",
    "from brepmatching.visualization import render_predictions, show_image\n"
   ]
  },
  {
   "cell_type": "code",
   "execution_count": 5,
   "metadata": {},
   "outputs": [
    {
     "name": "stderr",
     "output_type": "stream",
     "text": [
      "Preprocessing Data:  10%|█         | 2/20 [01:40<15:05, 50.30s/it]\n"
     ]
    },
    {
     "ename": "KeyboardInterrupt",
     "evalue": "",
     "output_type": "error",
     "traceback": [
      "\u001b[0;31m---------------------------------------------------------------------------\u001b[0m",
      "\u001b[0;31mKeyboardInterrupt\u001b[0m                         Traceback (most recent call last)",
      "Cell \u001b[0;32mIn[5], line 1\u001b[0m\n\u001b[0;32m----> 1\u001b[0m ds_baseline \u001b[39m=\u001b[39m BRepMatchingDataset(\u001b[39m'\u001b[39;49m\u001b[39m../../../brepmatching/Test20GeoWithBaseline6.zip\u001b[39;49m\u001b[39m'\u001b[39;49m, val_size\u001b[39m=\u001b[39;49m\u001b[39m0\u001b[39;49m, test_size\u001b[39m=\u001b[39;49m\u001b[39m0\u001b[39;49m)\n",
      "File \u001b[0;32m/projects/grail/benjonesnb/code/brepmatching/brepmatching/data.py:239\u001b[0m, in \u001b[0;36mBRepMatchingDataset.__init__\u001b[0;34m(self, zip_path, cache_path, debug, mode, seed, test_size, val_size, test_identity, transforms)\u001b[0m\n\u001b[1;32m    237\u001b[0m     bl_o_path \u001b[39m=\u001b[39m \u001b[39m'\u001b[39m\u001b[39mdata/baseline/\u001b[39m\u001b[39m'\u001b[39m \u001b[39m+\u001b[39m variation_record\u001b[39m.\u001b[39mbaselineOrig\n\u001b[1;32m    238\u001b[0m     bl_v_path \u001b[39m=\u001b[39m \u001b[39m'\u001b[39m\u001b[39mdata/baseline/\u001b[39m\u001b[39m'\u001b[39m \u001b[39m+\u001b[39m variation_record\u001b[39m.\u001b[39mbaselineNew\n\u001b[0;32m--> 239\u001b[0m data \u001b[39m=\u001b[39m make_match_data(zf, o_path, v_path, m_path, bl_o_path, bl_v_path, bl_m_path)\n\u001b[1;32m    240\u001b[0m \u001b[39mif\u001b[39;00m data \u001b[39mis\u001b[39;00m \u001b[39mnot\u001b[39;00m \u001b[39mNone\u001b[39;00m:\n\u001b[1;32m    241\u001b[0m     \u001b[39mself\u001b[39m\u001b[39m.\u001b[39mgroup\u001b[39m.\u001b[39mappend(orig_id_dict[variation_record\u001b[39m.\u001b[39mps_orig])\n",
      "File \u001b[0;32m/projects/grail/benjonesnb/code/brepmatching/brepmatching/data.py:239\u001b[0m, in \u001b[0;36mBRepMatchingDataset.__init__\u001b[0;34m(self, zip_path, cache_path, debug, mode, seed, test_size, val_size, test_identity, transforms)\u001b[0m\n\u001b[1;32m    237\u001b[0m     bl_o_path \u001b[39m=\u001b[39m \u001b[39m'\u001b[39m\u001b[39mdata/baseline/\u001b[39m\u001b[39m'\u001b[39m \u001b[39m+\u001b[39m variation_record\u001b[39m.\u001b[39mbaselineOrig\n\u001b[1;32m    238\u001b[0m     bl_v_path \u001b[39m=\u001b[39m \u001b[39m'\u001b[39m\u001b[39mdata/baseline/\u001b[39m\u001b[39m'\u001b[39m \u001b[39m+\u001b[39m variation_record\u001b[39m.\u001b[39mbaselineNew\n\u001b[0;32m--> 239\u001b[0m data \u001b[39m=\u001b[39m make_match_data(zf, o_path, v_path, m_path, bl_o_path, bl_v_path, bl_m_path)\n\u001b[1;32m    240\u001b[0m \u001b[39mif\u001b[39;00m data \u001b[39mis\u001b[39;00m \u001b[39mnot\u001b[39;00m \u001b[39mNone\u001b[39;00m:\n\u001b[1;32m    241\u001b[0m     \u001b[39mself\u001b[39m\u001b[39m.\u001b[39mgroup\u001b[39m.\u001b[39mappend(orig_id_dict[variation_record\u001b[39m.\u001b[39mps_orig])\n",
      "File \u001b[0;32m_pydevd_bundle/pydevd_cython.pyx:1457\u001b[0m, in \u001b[0;36m_pydevd_bundle.pydevd_cython.SafeCallWrapper.__call__\u001b[0;34m()\u001b[0m\n",
      "File \u001b[0;32m_pydevd_bundle/pydevd_cython.pyx:701\u001b[0m, in \u001b[0;36m_pydevd_bundle.pydevd_cython.PyDBFrame.trace_dispatch\u001b[0;34m()\u001b[0m\n",
      "File \u001b[0;32m_pydevd_bundle/pydevd_cython.pyx:1152\u001b[0m, in \u001b[0;36m_pydevd_bundle.pydevd_cython.PyDBFrame.trace_dispatch\u001b[0;34m()\u001b[0m\n",
      "File \u001b[0;32m_pydevd_bundle/pydevd_cython.pyx:1135\u001b[0m, in \u001b[0;36m_pydevd_bundle.pydevd_cython.PyDBFrame.trace_dispatch\u001b[0;34m()\u001b[0m\n",
      "File \u001b[0;32m_pydevd_bundle/pydevd_cython.pyx:312\u001b[0m, in \u001b[0;36m_pydevd_bundle.pydevd_cython.PyDBFrame.do_wait_suspend\u001b[0;34m()\u001b[0m\n",
      "File \u001b[0;32m/projects/grail/benjonesnb/code/mambaforge/envs/brepmatching/lib/python3.9/site-packages/debugpy/_vendored/pydevd/pydevd.py:2067\u001b[0m, in \u001b[0;36mPyDB.do_wait_suspend\u001b[0;34m(self, thread, frame, event, arg, exception_type)\u001b[0m\n\u001b[1;32m   2064\u001b[0m             from_this_thread\u001b[39m.\u001b[39mappend(frame_custom_thread_id)\n\u001b[1;32m   2066\u001b[0m     \u001b[39mwith\u001b[39;00m \u001b[39mself\u001b[39m\u001b[39m.\u001b[39m_threads_suspended_single_notification\u001b[39m.\u001b[39mnotify_thread_suspended(thread_id, stop_reason):\n\u001b[0;32m-> 2067\u001b[0m         keep_suspended \u001b[39m=\u001b[39m \u001b[39mself\u001b[39;49m\u001b[39m.\u001b[39;49m_do_wait_suspend(thread, frame, event, arg, suspend_type, from_this_thread, frames_tracker)\n\u001b[1;32m   2069\u001b[0m frames_list \u001b[39m=\u001b[39m \u001b[39mNone\u001b[39;00m\n\u001b[1;32m   2071\u001b[0m \u001b[39mif\u001b[39;00m keep_suspended:\n\u001b[1;32m   2072\u001b[0m     \u001b[39m# This means that we should pause again after a set next statement.\u001b[39;00m\n",
      "File \u001b[0;32m/projects/grail/benjonesnb/code/mambaforge/envs/brepmatching/lib/python3.9/site-packages/debugpy/_vendored/pydevd/pydevd.py:2102\u001b[0m, in \u001b[0;36mPyDB._do_wait_suspend\u001b[0;34m(self, thread, frame, event, arg, suspend_type, from_this_thread, frames_tracker)\u001b[0m\n\u001b[1;32m   2098\u001b[0m     \u001b[39mif\u001b[39;00m in_main_thread \u001b[39mand\u001b[39;00m \u001b[39mself\u001b[39m\u001b[39m.\u001b[39mgui_in_use:\n\u001b[1;32m   2099\u001b[0m         \u001b[39m# call input hooks if only GUI is in use\u001b[39;00m\n\u001b[1;32m   2100\u001b[0m         \u001b[39mself\u001b[39m\u001b[39m.\u001b[39m_call_input_hook()\n\u001b[0;32m-> 2102\u001b[0m     \u001b[39mself\u001b[39;49m\u001b[39m.\u001b[39;49mprocess_internal_commands()\n\u001b[1;32m   2103\u001b[0m     time\u001b[39m.\u001b[39msleep(\u001b[39m0.01\u001b[39m)\n\u001b[1;32m   2105\u001b[0m \u001b[39mself\u001b[39m\u001b[39m.\u001b[39mcancel_async_evaluation(get_current_thread_id(thread), \u001b[39mstr\u001b[39m(\u001b[39mid\u001b[39m(frame)))\n",
      "File \u001b[0;32m/projects/grail/benjonesnb/code/mambaforge/envs/brepmatching/lib/python3.9/site-packages/debugpy/_vendored/pydevd/pydevd.py:1692\u001b[0m, in \u001b[0;36mPyDB.process_internal_commands\u001b[0;34m(self)\u001b[0m\n\u001b[1;32m   1689\u001b[0m \u001b[39mif\u001b[39;00m ready_to_run:\n\u001b[1;32m   1690\u001b[0m     \u001b[39mself\u001b[39m\u001b[39m.\u001b[39mcheck_output_redirect()\n\u001b[0;32m-> 1692\u001b[0m     all_threads \u001b[39m=\u001b[39m threadingEnumerate()\n\u001b[1;32m   1693\u001b[0m     program_threads_dead \u001b[39m=\u001b[39m []\n\u001b[1;32m   1694\u001b[0m     \u001b[39mwith\u001b[39;00m \u001b[39mself\u001b[39m\u001b[39m.\u001b[39m_lock_running_thread_ids:\n",
      "File \u001b[0;32m/projects/grail/benjonesnb/code/mambaforge/envs/brepmatching/lib/python3.9/site-packages/debugpy/_vendored/pydevd/_pydevd_bundle/pydevd_daemon_thread.py:101\u001b[0m, in \u001b[0;36m_patch_threading_to_hide_pydevd_threads.<locals>.new_threading_enumerate\u001b[0;34m()\u001b[0m\n\u001b[1;32m     99\u001b[0m \u001b[39mdef\u001b[39;00m \u001b[39mnew_threading_enumerate\u001b[39m():\n\u001b[1;32m    100\u001b[0m     \u001b[39mwith\u001b[39;00m _active_limbo_lock:\n\u001b[0;32m--> 101\u001b[0m         ret \u001b[39m=\u001b[39m \u001b[39mlist\u001b[39m(_active\u001b[39m.\u001b[39mvalues()) \u001b[39m+\u001b[39m \u001b[39mlist\u001b[39;49m(_limbo\u001b[39m.\u001b[39;49mvalues())\n\u001b[1;32m    103\u001b[0m     \u001b[39mreturn\u001b[39;00m [t \u001b[39mfor\u001b[39;00m t \u001b[39min\u001b[39;00m ret \u001b[39mif\u001b[39;00m \u001b[39mnot\u001b[39;00m \u001b[39mgetattr\u001b[39m(t, \u001b[39m'\u001b[39m\u001b[39mis_pydev_daemon_thread\u001b[39m\u001b[39m'\u001b[39m, \u001b[39mFalse\u001b[39;00m)]\n",
      "\u001b[0;31mKeyboardInterrupt\u001b[0m: "
     ]
    }
   ],
   "source": [
    "ds_baseline = BRepMatchingDataset('../../../brepmatching/Test20GeoWithBaseline6.zip', val_size=0, test_size=0)"
   ]
  }
 ],
 "metadata": {
  "kernelspec": {
   "display_name": "Python 3",
   "language": "python",
   "name": "python3"
  },
  "language_info": {
   "codemirror_mode": {
    "name": "ipython",
    "version": 3
   },
   "file_extension": ".py",
   "mimetype": "text/x-python",
   "name": "python",
   "nbconvert_exporter": "python",
   "pygments_lexer": "ipython3",
   "version": "3.9.15"
  },
  "orig_nbformat": 4,
  "vscode": {
   "interpreter": {
    "hash": "a02bfb8f1d898def00b451032fe3fd61b197648e6e6357abb903b5b5d431d7b2"
   }
  }
 },
 "nbformat": 4,
 "nbformat_minor": 2
}
