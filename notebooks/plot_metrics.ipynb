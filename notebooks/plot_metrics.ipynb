{
 "cells": [
  {
   "cell_type": "code",
   "execution_count": 1,
   "metadata": {},
   "outputs": [],
   "source": [
    "from brepmatching.data import BRepMatchingDataset, load_data, BRepMatchingDataModule\n",
    "from brepmatching.visualization import show_image, render_predictions\n",
    "import torch\n",
    "import os\n",
    "from torch_geometric.data.batch import Batch\n",
    "import os\n",
    "from tqdm import tqdm\n",
    "from brepmatching.utils import *\n",
    "import numpy as np"
   ]
  },
  {
   "cell_type": "code",
   "execution_count": 4,
   "metadata": {},
   "outputs": [],
   "source": [
    "dm_geo = BRepMatchingDataModule(\n",
    "    val_batch_size=1, \n",
    "    num_workers=0, \n",
    "    cache_path='/projects/grail/milinknb/brep-data/GeoV4.pt',\n",
    "    persistent_workers=False)\n",
    "dm_topo = BRepMatchingDataModule(\n",
    "    val_batch_size=1, \n",
    "    num_workers=0, \n",
    "    cache_path='/projects/grail/milinknb/brep-data/TopoV4.pt',\n",
    "    persistent_workers=False)\n",
    "dm_both = BRepMatchingDataModule(\n",
    "    val_batch_size=1, \n",
    "    num_workers=0, \n",
    "    cache_path='/projects/grail/milinknb/brep-data/BothV4.pt',\n",
    "    persistent_workers=False)"
   ]
  },
  {
   "cell_type": "code",
   "execution_count": 5,
   "metadata": {},
   "outputs": [],
   "source": [
    "dm_geo.setup()\n",
    "dm_topo.setup()\n",
    "dm_both.setup()"
   ]
  },
  {
   "cell_type": "code",
   "execution_count": 6,
   "metadata": {},
   "outputs": [
    {
     "ename": "ValueError",
     "evalue": "persistent_workers option needs num_workers > 0",
     "output_type": "error",
     "traceback": [
      "\u001b[0;31m---------------------------------------------------------------------------\u001b[0m",
      "\u001b[0;31mValueError\u001b[0m                                Traceback (most recent call last)",
      "Cell \u001b[0;32mIn[6], line 1\u001b[0m\n\u001b[0;32m----> 1\u001b[0m dl_geo \u001b[39m=\u001b[39m dm_geo\u001b[39m.\u001b[39;49mtest_dataloader()\n",
      "File \u001b[0;32m/projects/grail/benjonesnb/code/brepmatching/brepmatching/data.py:627\u001b[0m, in \u001b[0;36mBRepMatchingDataModule.test_dataloader\u001b[0;34m(self)\u001b[0m\n\u001b[1;32m    626\u001b[0m \u001b[39mdef\u001b[39;00m \u001b[39mtest_dataloader\u001b[39m(\u001b[39mself\u001b[39m):\n\u001b[0;32m--> 627\u001b[0m     \u001b[39mreturn\u001b[39;00m DataLoader(\u001b[39mself\u001b[39;49m\u001b[39m.\u001b[39;49mval_ds, batch_size\u001b[39m=\u001b[39;49m\u001b[39mself\u001b[39;49m\u001b[39m.\u001b[39;49mval_batch_size, num_workers\u001b[39m=\u001b[39;49m\u001b[39mself\u001b[39;49m\u001b[39m.\u001b[39;49mnum_workers,shuffle\u001b[39m=\u001b[39;49m\u001b[39mFalse\u001b[39;49;00m, persistent_workers\u001b[39m=\u001b[39;49m\u001b[39mself\u001b[39;49m\u001b[39m.\u001b[39;49mpersistent_workers, follow_batch\u001b[39m=\u001b[39;49mfollow_batch)\n",
      "File \u001b[0;32m/projects/grail/benjonesnb/code/mambaforge/envs/brepmatching/lib/python3.9/site-packages/torch_geometric/loader/dataloader.py:78\u001b[0m, in \u001b[0;36mDataLoader.__init__\u001b[0;34m(self, dataset, batch_size, shuffle, follow_batch, exclude_keys, **kwargs)\u001b[0m\n\u001b[1;32m     75\u001b[0m \u001b[39mself\u001b[39m\u001b[39m.\u001b[39mfollow_batch \u001b[39m=\u001b[39m follow_batch\n\u001b[1;32m     76\u001b[0m \u001b[39mself\u001b[39m\u001b[39m.\u001b[39mexclude_keys \u001b[39m=\u001b[39m exclude_keys\n\u001b[0;32m---> 78\u001b[0m \u001b[39msuper\u001b[39;49m()\u001b[39m.\u001b[39;49m\u001b[39m__init__\u001b[39;49m(\n\u001b[1;32m     79\u001b[0m     dataset,\n\u001b[1;32m     80\u001b[0m     batch_size,\n\u001b[1;32m     81\u001b[0m     shuffle,\n\u001b[1;32m     82\u001b[0m     collate_fn\u001b[39m=\u001b[39;49mCollater(follow_batch, exclude_keys),\n\u001b[1;32m     83\u001b[0m     \u001b[39m*\u001b[39;49m\u001b[39m*\u001b[39;49mkwargs,\n\u001b[1;32m     84\u001b[0m )\n",
      "File \u001b[0;32m/projects/grail/benjonesnb/code/mambaforge/envs/brepmatching/lib/python3.9/site-packages/torch/utils/data/dataloader.py:186\u001b[0m, in \u001b[0;36mDataLoader.__init__\u001b[0;34m(self, dataset, batch_size, shuffle, sampler, batch_sampler, num_workers, collate_fn, pin_memory, drop_last, timeout, worker_init_fn, multiprocessing_context, generator, prefetch_factor, persistent_workers)\u001b[0m\n\u001b[1;32m    183\u001b[0m \u001b[39massert\u001b[39;00m prefetch_factor \u001b[39m>\u001b[39m \u001b[39m0\u001b[39m\n\u001b[1;32m    185\u001b[0m \u001b[39mif\u001b[39;00m persistent_workers \u001b[39mand\u001b[39;00m num_workers \u001b[39m==\u001b[39m \u001b[39m0\u001b[39m:\n\u001b[0;32m--> 186\u001b[0m     \u001b[39mraise\u001b[39;00m \u001b[39mValueError\u001b[39;00m(\u001b[39m'\u001b[39m\u001b[39mpersistent_workers option needs num_workers > 0\u001b[39m\u001b[39m'\u001b[39m)\n\u001b[1;32m    188\u001b[0m \u001b[39mself\u001b[39m\u001b[39m.\u001b[39mdataset \u001b[39m=\u001b[39m dataset\n\u001b[1;32m    189\u001b[0m \u001b[39mself\u001b[39m\u001b[39m.\u001b[39mnum_workers \u001b[39m=\u001b[39m num_workers\n",
      "\u001b[0;31mValueError\u001b[0m: persistent_workers option needs num_workers > 0"
     ]
    }
   ],
   "source": [
    "ds_geo = dm_geo.val_ds\n",
    "ds_topo = dm_topo.val_ds\n",
    "ds_both = dm_"
   ]
  },
  {
   "cell_type": "code",
   "execution_count": null,
   "metadata": {},
   "outputs": [],
   "source": [
    "geo_cache = torch.load(geo_path)\n",
    "topo_cache = torch.load(topo_path)\n",
    "both_cache = torch.load(both_path)"
   ]
  },
  {
   "cell_type": "code",
   "execution_count": null,
   "metadata": {},
   "outputs": [],
   "source": []
  },
  {
   "cell_type": "code",
   "execution_count": null,
   "metadata": {},
   "outputs": [],
   "source": [
    "ds_geo = BRepMatchingDataset(geo_cache, 'test')\n",
    "ds_topo = BRepMatchingDataset(topo_cache, 'test')\n",
    "ds_both = BRepMatchingDataset(both_cache, 'test')"
   ]
  },
  {
   "cell_type": "code",
   "execution_count": null,
   "metadata": {},
   "outputs": [],
   "source": [
    "geo_test_graphs = [ds_geo[i] for i in range(len(ds_geo))]\n",
    "topo_test_graphs = [ds_topo[i] for i in range(len(ds_topo))]\n",
    "both_test_graphs = [ds_both[i] for i in range(len(ds_both))]"
   ]
  },
  {
   "cell_type": "code",
   "execution_count": null,
   "metadata": {},
   "outputs": [],
   "source": [
    "def check_extra_overlaps(test_graphs):\n",
    "    extra_overlaps = []\n",
    "    for i in tqdm(range(len(test_graphs))):\n",
    "        ex = test_graphs[i]\n",
    "\n",
    "        overlap_matches = {tuple(x) for x in ex.bl_overlap_faces_matches.T.tolist()}\n",
    "        onshape_matches = {tuple(x) for x in ex.os_bl_faces_matches.T.tolist()}\n",
    "\n",
    "        extra_overlaps.append(len(overlap_matches - onshape_matches))\n",
    "    return np.array(extra_overlaps)"
   ]
  },
  {
   "cell_type": "code",
   "execution_count": null,
   "metadata": {},
   "outputs": [],
   "source": [
    "geo_extra_overlaps = check_extra_overlaps(geo_test_graphs)\n",
    "topo_extra_overlaps = check_extra_overlaps(topo_test_graphs)\n",
    "both_extra_overlaps = check_extra_overlaps(both_test_graphs)"
   ]
  },
  {
   "cell_type": "code",
   "execution_count": null,
   "metadata": {},
   "outputs": [],
   "source": [
    "fig, axes = plt.subplots(1,3)\n",
    "for i, overlaps in enumerate([geo_extra_overlaps, topo_extra_overlaps, both_extra_overlaps]):\n",
    "    axes[i].hist(overlaps,bins=20)"
   ]
  },
  {
   "cell_type": "code",
   "execution_count": null,
   "metadata": {},
   "outputs": [],
   "source": [
    "follow_batch=['left_vertices','right_vertices','left_edges', 'right_edges','left_faces','right_faces', 'faces_matches', 'edges_matches', 'vertices_matches']\n",
    "geo_batch = Batch.from_data_list(geo_test_graphs,follow_batch=follow_batch)\n",
    "topo_batch = Batch.from_data_list(topo_test_graphs,follow_batch=follow_batch)\n",
    "both_batch = Batch.from_data_list(both_test_graphs,follow_batch=follow_batch)"
   ]
  },
  {
   "cell_type": "code",
   "execution_count": null,
   "metadata": {},
   "outputs": [],
   "source": [
    "def compute_metrics_from_batch(batch, small_overlap_thresh=.8, large_overlap_thresh = .0):\n",
    "    face_exact_metrics = compute_metrics_from_matches(batch, 'faces', batch['bl_exact_faces_matches'])\n",
    "    edge_exact_metrics = compute_metrics_from_matches(batch, 'edges', batch['bl_exact_edges_matches'])\n",
    "    vert_exact_metrics = compute_metrics_from_matches(batch, 'vertices', batch['bl_exact_vertices_matches'])\n",
    "\n",
    "    face_overlap = batch.bl_overlap_faces_matches[:,(batch.bl_overlap_smaller_face_percentages >= small_overlap_thresh) & (batch.bl_overlap_larger_face_percentages >= large_overlap_thresh)]\n",
    "    edge_overlap = batch.bl_overlap_edges_matches[:,(batch.bl_overlap_smaller_edge_percentages >= small_overlap_thresh) & (batch.bl_overlap_larger_edge_percentages >= large_overlap_thresh)]\n",
    "\n",
    "\n",
    "    face_coincidence = torch.cat([batch['bl_exact_faces_matches'], face_overlap], dim=1)\n",
    "    edge_coincidence = torch.cat([batch['bl_exact_edges_matches'], edge_overlap], dim=1)\n",
    "    vert_coincidence = batch['bl_exact_vertices_matches']\n",
    "\n",
    "    face_coincidence_metrics = compute_metrics_from_matches(batch, 'faces', face_coincidence)\n",
    "    edge_coincidence_metrics = compute_metrics_from_matches(batch, 'edges', edge_coincidence)\n",
    "    vert_coincidence_metrics = compute_metrics_from_matches(batch, 'vertices', vert_coincidence)\n",
    "\n",
    "    face_onshape_metrics = compute_metrics_from_matches(batch, 'faces', batch['os_bl_faces_matches'])\n",
    "    edge_onshape_metrics = compute_metrics_from_matches(batch, 'edges', batch['os_bl_edges_matches'])\n",
    "    vert_onshape_metrics = compute_metrics_from_matches(batch, 'vertices', batch['os_bl_vertices_matches'])\n",
    "\n",
    "    metrics = {\n",
    "        'exact': {\n",
    "            'faces': face_exact_metrics,\n",
    "            'edges': edge_exact_metrics,\n",
    "            'vertices': vert_exact_metrics\n",
    "        },\n",
    "        'coincidence': {\n",
    "            'faces': face_coincidence_metrics,\n",
    "            'edges': edge_coincidence_metrics,\n",
    "            'vertices': vert_coincidence_metrics\n",
    "        },\n",
    "        'onshape': {\n",
    "            'faces': face_onshape_metrics,\n",
    "            'edges': edge_onshape_metrics,\n",
    "            'vertices': vert_onshape_metrics\n",
    "        }\n",
    "    }\n",
    "\n",
    "    return metrics"
   ]
  },
  {
   "cell_type": "code",
   "execution_count": null,
   "metadata": {},
   "outputs": [],
   "source": [
    "all_metrics = {\n",
    "    'geo': compute_metrics_from_batch(geo_batch),\n",
    "    'topo': compute_metrics_from_batch(topo_batch),\n",
    "    'both': compute_metrics_from_batch(both_batch)\n",
    "}"
   ]
  },
  {
   "cell_type": "code",
   "execution_count": null,
   "metadata": {},
   "outputs": [],
   "source": [
    "torch.save(all_metrics, 'baselinesV4.pt')"
   ]
  },
  {
   "cell_type": "code",
   "execution_count": null,
   "metadata": {},
   "outputs": [],
   "source": [
    "\n",
    "def generate_plots(geo_test_graphs, topo_test_graphs, both_test_graphs, outdir, match_prefix='', title_prefix=''):\n",
    "    for name,test_set in tqdm((('Geo',geo_test_graphs), ('Topo', topo_test_graphs), ('Both', both_test_graphs)),'Test Sets'):\n",
    "        follow_batch=['left_vertices','right_vertices','left_edges', 'right_edges','left_faces','right_faces', 'faces_matches', 'edges_matches', 'vertices_matches']\n",
    "        big_batch = Batch.from_data_list(test_set,follow_batch=follow_batch)\n",
    "        for topo_type in tqdm(['faces', 'edges', 'vertices'],'Match Sets', leave=False):\n",
    "            metrics = compute_metrics_from_matches(big_batch, topo_type, big_batch[f'bl_exact_{topo_type}_matches'])\n",
    "            plot = plot_the_fives(*np.stack([metrics]*2)[:,:-2].T, np.array([0.0,1.0]),f'Exact Matching {name} ({topo_type})')\n",
    "            outpath = os.path.join(outdir, f'{name}_{topo_type}.png')\n",
    "            make_containing_dir(outpath)\n",
    "            plot.savefig(outpath)\n"
   ]
  },
  {
   "cell_type": "code",
   "execution_count": null,
   "metadata": {},
   "outputs": [],
   "source": [
    "def plot_grid(metrics, method='exact'):\n",
    "    fig, axes = plt.subplots(3,3, figsize = (24,24))\n",
    "    for i,ds in enumerate(['geo', 'topo','both']):\n",
    "        for j,t in enumerate(['faces','edges','vertices']):\n",
    "            m = metrics[ds][method][t]\n",
    "            plot = plot_the_fives(*np.stack([m]*2)[:,:-2].T, np.array([0.0,1.0]),f'{method} -- {ds} ({t})', ax=axes[j,i])\n",
    "    return fig\n",
    "coincidence_fig = plot_grid(all_metrics, 'coincidence')\n",
    "exact_fig = plot_grid(all_metrics, 'exact')\n",
    "onshape_fig = plot_grid(all_metrics, 'onshape')\n",
    "\n",
    "#coincidence_fig.savefig('coincidence_99_99.png')\n",
    "#exact_fig.savefig('exact_99_99.png')\n",
    "#onshape_fig.savefig('onshape_99_99.png')\n"
   ]
  },
  {
   "cell_type": "code",
   "execution_count": null,
   "metadata": {},
   "outputs": [],
   "source": []
  }
 ],
 "metadata": {
  "kernelspec": {
   "display_name": "brepmatching",
   "language": "python",
   "name": "python3"
  },
  "language_info": {
   "codemirror_mode": {
    "name": "ipython",
    "version": 3
   },
   "file_extension": ".py",
   "mimetype": "text/x-python",
   "name": "python",
   "nbconvert_exporter": "python",
   "pygments_lexer": "ipython3",
   "version": "3.9.15"
  },
  "orig_nbformat": 4,
  "vscode": {
   "interpreter": {
    "hash": "a02bfb8f1d898def00b451032fe3fd61b197648e6e6357abb903b5b5d431d7b2"
   }
  }
 },
 "nbformat": 4,
 "nbformat_minor": 2
}
