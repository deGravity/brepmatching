{
 "cells": [
  {
   "cell_type": "code",
   "execution_count": null,
   "metadata": {},
   "outputs": [],
   "source": [
    "from brepmatching.data import BRepMatchingDataset, load_data\n",
    "from brepmatching.visualization import show_image, render_predictions\n",
    "import torch\n",
    "import os\n",
    "from torch_geometric.data.batch import Batch\n",
    "import os\n",
    "from tqdm import tqdm\n",
    "from brepmatching.utils import *\n",
    "import numpy as np"
   ]
  },
  {
   "cell_type": "code",
   "execution_count": null,
   "metadata": {},
   "outputs": [],
   "source": [
    "topo_path = '/projects/grail/milinknb/brep-data/TopoV4.pt'\n",
    "geo_path = '/projects/grail/milinknb/brep-data/GeoV4.pt'\n",
    "both_path = '/projects/grail/milinknb/brep-data/BothV4.pt'"
   ]
  },
  {
   "cell_type": "code",
   "execution_count": null,
   "metadata": {},
   "outputs": [],
   "source": [
    "geo_cache = torch.load(geo_path)\n",
    "topo_cache = torch.load(topo_path)\n",
    "both_cache = torch.load(both_path)"
   ]
  },
  {
   "cell_type": "code",
   "execution_count": null,
   "metadata": {},
   "outputs": [],
   "source": [
    "ds_geo = BRepMatchingDataset(geo_cache, 'test')\n",
    "ds_topo = BRepMatchingDataset(topo_cache, 'test')\n",
    "ds_both = BRepMatchingDataset(both_cache, 'test')"
   ]
  },
  {
   "cell_type": "code",
   "execution_count": null,
   "metadata": {},
   "outputs": [],
   "source": [
    "geo_test_graphs = [ds_geo[i] for i in range(len(ds_geo))]\n",
    "topo_test_graphs = [ds_topo[i] for i in range(len(ds_topo))]\n",
    "both_test_graphs = [ds_both[i] for i in range(len(ds_both))]"
   ]
  },
  {
   "cell_type": "code",
   "execution_count": null,
   "metadata": {},
   "outputs": [],
   "source": [
    "def check_extra_overlaps(test_graphs):\n",
    "    extra_overlaps = []\n",
    "    for i in tqdm(range(len(test_graphs))):\n",
    "        ex = test_graphs[i]\n",
    "\n",
    "        overlap_matches = {tuple(x) for x in ex.bl_overlap_faces_matches.T.tolist()}\n",
    "        onshape_matches = {tuple(x) for x in ex.os_bl_faces_matches.T.tolist()}\n",
    "\n",
    "        extra_overlaps.append(len(overlap_matches - onshape_matches))\n",
    "    return np.array(extra_overlaps)"
   ]
  },
  {
   "cell_type": "code",
   "execution_count": null,
   "metadata": {},
   "outputs": [],
   "source": [
    "geo_extra_overlaps = check_extra_overlaps(geo_test_graphs)\n",
    "topo_extra_overlaps = check_extra_overlaps(topo_test_graphs)\n",
    "both_extra_overlaps = check_extra_overlaps(both_test_graphs)"
   ]
  },
  {
   "cell_type": "code",
   "execution_count": null,
   "metadata": {},
   "outputs": [],
   "source": [
    "fig, axes = plt.subplots(1,3)\n",
    "for i, overlaps in enumerate([geo_extra_overlaps, topo_extra_overlaps, both_extra_overlaps]):\n",
    "    axes[i].hist(overlaps,bins=20)"
   ]
  },
  {
   "cell_type": "code",
   "execution_count": null,
   "metadata": {},
   "outputs": [],
   "source": [
    "follow_batch=['left_vertices','right_vertices','left_edges', 'right_edges','left_faces','right_faces', 'faces_matches', 'edges_matches', 'vertices_matches']\n",
    "geo_batch = Batch.from_data_list(geo_test_graphs,follow_batch=follow_batch)\n",
    "topo_batch = Batch.from_data_list(topo_test_graphs,follow_batch=follow_batch)\n",
    "both_batch = Batch.from_data_list(both_test_graphs,follow_batch=follow_batch)"
   ]
  },
  {
   "cell_type": "code",
   "execution_count": null,
   "metadata": {},
   "outputs": [],
   "source": [
    "def compute_metrics_from_batch(batch, small_overlap_thresh=.8, large_overlap_thresh = .0):\n",
    "    face_exact_metrics = compute_metrics_from_matches(batch, 'faces', batch['bl_exact_faces_matches'])\n",
    "    edge_exact_metrics = compute_metrics_from_matches(batch, 'edges', batch['bl_exact_edges_matches'])\n",
    "    vert_exact_metrics = compute_metrics_from_matches(batch, 'vertices', batch['bl_exact_vertices_matches'])\n",
    "\n",
    "    face_overlap = batch.bl_overlap_faces_matches[:,(batch.bl_overlap_smaller_face_percentages >= small_overlap_thresh) & (batch.bl_overlap_larger_face_percentages >= large_overlap_thresh)]\n",
    "    edge_overlap = batch.bl_overlap_edges_matches[:,(batch.bl_overlap_smaller_edge_percentages >= small_overlap_thresh) & (batch.bl_overlap_larger_edge_percentages >= large_overlap_thresh)]\n",
    "\n",
    "\n",
    "    face_coincidence = torch.cat([batch['bl_exact_faces_matches'], face_overlap], dim=1)\n",
    "    edge_coincidence = torch.cat([batch['bl_exact_edges_matches'], edge_overlap], dim=1)\n",
    "    vert_coincidence = batch['bl_exact_vertices_matches']\n",
    "\n",
    "    face_coincidence_metrics = compute_metrics_from_matches(batch, 'faces', face_coincidence)\n",
    "    edge_coincidence_metrics = compute_metrics_from_matches(batch, 'edges', edge_coincidence)\n",
    "    vert_coincidence_metrics = compute_metrics_from_matches(batch, 'vertices', vert_coincidence)\n",
    "\n",
    "    face_onshape_metrics = compute_metrics_from_matches(batch, 'faces', batch['os_bl_faces_matches'])\n",
    "    edge_onshape_metrics = compute_metrics_from_matches(batch, 'edges', batch['os_bl_edges_matches'])\n",
    "    vert_onshape_metrics = compute_metrics_from_matches(batch, 'vertices', batch['os_bl_vertices_matches'])\n",
    "\n",
    "    metrics = {\n",
    "        'exact': {\n",
    "            'faces': face_exact_metrics,\n",
    "            'edges': edge_exact_metrics,\n",
    "            'vertices': vert_exact_metrics\n",
    "        },\n",
    "        'coincidence': {\n",
    "            'faces': face_coincidence_metrics,\n",
    "            'edges': edge_coincidence_metrics,\n",
    "            'vertices': vert_coincidence_metrics\n",
    "        },\n",
    "        'onshape': {\n",
    "            'faces': face_onshape_metrics,\n",
    "            'edges': edge_onshape_metrics,\n",
    "            'vertices': vert_onshape_metrics\n",
    "        }\n",
    "    }\n",
    "\n",
    "    return metrics"
   ]
  },
  {
   "cell_type": "code",
   "execution_count": null,
   "metadata": {},
   "outputs": [],
   "source": [
    "all_metrics = {\n",
    "    'geo': compute_metrics_from_batch(geo_batch),\n",
    "    'topo': compute_metrics_from_batch(topo_batch),\n",
    "    'both': compute_metrics_from_batch(both_batch)\n",
    "}"
   ]
  },
  {
   "cell_type": "code",
   "execution_count": null,
   "metadata": {},
   "outputs": [],
   "source": [
    "torch.save(all_metrics, 'baselinesV4.pt')"
   ]
  },
  {
   "cell_type": "code",
   "execution_count": null,
   "metadata": {},
   "outputs": [],
   "source": [
    "\n",
    "def generate_plots(geo_test_graphs, topo_test_graphs, both_test_graphs, outdir, match_prefix='', title_prefix=''):\n",
    "    for name,test_set in tqdm((('Geo',geo_test_graphs), ('Topo', topo_test_graphs), ('Both', both_test_graphs)),'Test Sets'):\n",
    "        follow_batch=['left_vertices','right_vertices','left_edges', 'right_edges','left_faces','right_faces', 'faces_matches', 'edges_matches', 'vertices_matches']\n",
    "        big_batch = Batch.from_data_list(test_set,follow_batch=follow_batch)\n",
    "        for topo_type in tqdm(['faces', 'edges', 'vertices'],'Match Sets', leave=False):\n",
    "            metrics = compute_metrics_from_matches(big_batch, topo_type, big_batch[f'bl_exact_{topo_type}_matches'])\n",
    "            plot = plot_the_fives(*np.stack([metrics]*2)[:,:-2].T, np.array([0.0,1.0]),f'Exact Matching {name} ({topo_type})')\n",
    "            outpath = os.path.join(outdir, f'{name}_{topo_type}.png')\n",
    "            make_containing_dir(outpath)\n",
    "            plot.savefig(outpath)\n"
   ]
  },
  {
   "cell_type": "code",
   "execution_count": null,
   "metadata": {},
   "outputs": [],
   "source": [
    "def plot_grid(metrics, method='exact'):\n",
    "    fig, axes = plt.subplots(3,3, figsize = (24,24))\n",
    "    for i,ds in enumerate(['geo', 'topo','both']):\n",
    "        for j,t in enumerate(['faces','edges','vertices']):\n",
    "            m = metrics[ds][method][t]\n",
    "            plot = plot_the_fives(*np.stack([m]*2)[:,:-2].T, np.array([0.0,1.0]),f'{method} -- {ds} ({t})', ax=axes[j,i])\n",
    "    return fig\n",
    "coincidence_fig = plot_grid(all_metrics, 'coincidence')\n",
    "exact_fig = plot_grid(all_metrics, 'exact')\n",
    "onshape_fig = plot_grid(all_metrics, 'onshape')\n",
    "\n",
    "#coincidence_fig.savefig('coincidence_99_99.png')\n",
    "#exact_fig.savefig('exact_99_99.png')\n",
    "#onshape_fig.savefig('onshape_99_99.png')\n"
   ]
  },
  {
   "cell_type": "code",
   "execution_count": null,
   "metadata": {},
   "outputs": [],
   "source": []
  }
 ],
 "metadata": {
  "kernelspec": {
   "display_name": "brepmatching",
   "language": "python",
   "name": "python3"
  },
  "language_info": {
   "codemirror_mode": {
    "name": "ipython",
    "version": 3
   },
   "file_extension": ".py",
   "mimetype": "text/x-python",
   "name": "python",
   "nbconvert_exporter": "python",
   "pygments_lexer": "ipython3",
   "version": "3.9.15 | packaged by conda-forge | (main, Nov 22 2022, 08:45:29) \n[GCC 10.4.0]"
  },
  "orig_nbformat": 4,
  "vscode": {
   "interpreter": {
    "hash": "a02bfb8f1d898def00b451032fe3fd61b197648e6e6357abb903b5b5d431d7b2"
   }
  }
 },
 "nbformat": 4,
 "nbformat_minor": 2
}
