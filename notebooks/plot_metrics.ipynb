{
 "cells": [
  {
   "cell_type": "code",
   "execution_count": null,
   "metadata": {},
   "outputs": [],
   "source": [
    "from brepmatching.data import BRepMatchingDataset, load_data\n",
    "from brepmatching.visualization import show_image, render_predictions\n",
    "import torch\n",
    "import os\n",
    "from torch_geometric.data.batch import Batch\n",
    "import os\n",
    "from tqdm import tqdm\n",
    "from brepmatching.utils import *"
   ]
  },
  {
   "cell_type": "code",
   "execution_count": null,
   "metadata": {},
   "outputs": [],
   "source": [
    "if os.path.exists('../data/geo_test_set.pt'):\n",
    "    geo_test_graphs = torch.load('../data/geo_test_set.pt')\n",
    "    topo_test_graphs = torch.load( '../data/topo_test_set.pt')\n",
    "    both_test_graphs = torch.load( '../data/both_test_set.pt')\n",
    "else:\n",
    "    print('Loading Geo')\n",
    "    geo_cache = torch.load('../data/Geo.pt')\n",
    "    print('Loading Topo')\n",
    "    topo_cache = torch.load('../data/Topo.pt')\n",
    "    print('Loading Both')\n",
    "    both_cache = torch.load('../data/TopoAndGeo.pt')\n",
    "\n",
    "    for i in tqdm(range(len(geo_cache['preprocessed_data']))):\n",
    "        geo_cache['preprocessed_data'][i].__node_sets__.add('bl_overlap_larger_face_percentages')\n",
    "        geo_cache['preprocessed_data'][i].__node_sets__.add('bl_overlap_larger_edge_percentages')\n",
    "        geo_cache['preprocessed_data'][i].__node_sets__.add('bl_overlap_smaller_face_percentages')\n",
    "        geo_cache['preprocessed_data'][i].__node_sets__.add('bl_overlap_smaller_edge_percentages')\n",
    "    \n",
    "    for i in tqdm(range(len(topo_cache['preprocessed_data']))):\n",
    "        topo_cache['preprocessed_data'][i].__node_sets__.add('bl_overlap_larger_face_percentages')\n",
    "        topo_cache['preprocessed_data'][i].__node_sets__.add('bl_overlap_larger_edge_percentages')\n",
    "        topo_cache['preprocessed_data'][i].__node_sets__.add('bl_overlap_smaller_face_percentages')\n",
    "        topo_cache['preprocessed_data'][i].__node_sets__.add('bl_overlap_smaller_edge_percentages')\n",
    "    \n",
    "    for i in tqdm(range(len(both_cache['preprocessed_data']))):\n",
    "        both_cache['preprocessed_data'][i].__node_sets__.add('bl_overlap_larger_face_percentages')\n",
    "        both_cache['preprocessed_data'][i].__node_sets__.add('bl_overlap_larger_edge_percentages')\n",
    "        both_cache['preprocessed_data'][i].__node_sets__.add('bl_overlap_smaller_face_percentages')\n",
    "        both_cache['preprocessed_data'][i].__node_sets__.add('bl_overlap_smaller_edge_percentages')\n",
    "\n",
    "    ds_geo = BRepMatchingDataset(geo_cache,mode='test',require_onshape_matchings=True)\n",
    "    ds_topo = BRepMatchingDataset(topo_cache,mode='test',require_onshape_matchings=True)\n",
    "    ds_both = BRepMatchingDataset(both_cache,mode='test',require_onshape_matchings=True)\n",
    "\n",
    "    geo_test_graphs = [ds_geo[i] for i in range(len(ds_geo))]\n",
    "    topo_test_graphs = [ds_topo[i] for i in range(len(ds_topo))]\n",
    "    both_test_graphs = [ds_both[i] for i in range(len(ds_both))]\n",
    "    \n",
    "    torch.save(geo_test_graphs, '../data/geo_test_set.pt')\n",
    "    torch.save(topo_test_graphs, '../data/topo_test_set.pt')\n",
    "    torch.save(both_test_graphs, '../data/both_test_set.pt')"
   ]
  },
  {
   "cell_type": "code",
   "execution_count": null,
   "metadata": {},
   "outputs": [],
   "source": [
    "extra_overlaps = []\n",
    "for i in tqdm(range(len(geo_test_graphs))):\n",
    "    ex = geo_test_graphs[i]\n",
    "\n",
    "    overlap_matches = {tuple(x) for x in ex.bl_overlap_faces_matches.T.tolist()}\n",
    "    onshape_matches = {tuple(x) for x in ex.os_bl_faces_matches.T.tolist()}\n",
    "\n",
    "    extra_overlaps.append(len(overlap_matches - onshape_matches))"
   ]
  },
  {
   "cell_type": "code",
   "execution_count": null,
   "metadata": {},
   "outputs": [],
   "source": [
    "plt.hist(extra_overlaps)"
   ]
  },
  {
   "cell_type": "code",
   "execution_count": null,
   "metadata": {},
   "outputs": [],
   "source": [
    "ex.bl_overlap_faces_matches"
   ]
  },
  {
   "cell_type": "code",
   "execution_count": null,
   "metadata": {},
   "outputs": [],
   "source": [
    "ex.bl_overlap_smaller_face_percentages"
   ]
  },
  {
   "cell_type": "code",
   "execution_count": null,
   "metadata": {},
   "outputs": [],
   "source": []
  },
  {
   "cell_type": "code",
   "execution_count": null,
   "metadata": {},
   "outputs": [],
   "source": [
    "import meshplot as mp"
   ]
  },
  {
   "cell_type": "code",
   "execution_count": null,
   "metadata": {},
   "outputs": [],
   "source": [
    "ex.left_F_to_faces.shape"
   ]
  },
  {
   "cell_type": "code",
   "execution_count": null,
   "metadata": {},
   "outputs": [],
   "source": [
    "ex.left_V.shape"
   ]
  },
  {
   "cell_type": "code",
   "execution_count": null,
   "metadata": {},
   "outputs": [],
   "source": [
    "mp.plot(ex.left_V.numpy(), ex.left_F.T.numpy(), c =(ex.left_F_to_faces.flatten() == 13).numpy().astype(int), return_plot=True).add_mesh(ex.right_V.numpy() + np.array([.1,0.,0.]), ex.right_F.T.numpy(), c =(ex.right_F_to_faces.flatten() == 8).numpy().astype(int))"
   ]
  },
  {
   "cell_type": "code",
   "execution_count": null,
   "metadata": {},
   "outputs": [],
   "source": [
    "ex"
   ]
  },
  {
   "cell_type": "code",
   "execution_count": null,
   "metadata": {},
   "outputs": [],
   "source": [
    "follow_batch=['left_vertices','right_vertices','left_edges', 'right_edges','left_faces','right_faces', 'faces_matches', 'edges_matches', 'vertices_matches']\n",
    "geo_batch = Batch.from_data_list(geo_test_graphs,follow_batch=follow_batch)\n",
    "topo_batch = Batch.from_data_list(topo_test_graphs,follow_batch=follow_batch)\n",
    "both_batch = Batch.from_data_list(both_test_graphs,follow_batch=follow_batch)"
   ]
  },
  {
   "cell_type": "code",
   "execution_count": null,
   "metadata": {},
   "outputs": [],
   "source": [
    "geo_batch['bl_overlap_faces_matches'][:,geo_batch.bl_overlap_smaller_face_percentages >= .9]"
   ]
  },
  {
   "cell_type": "code",
   "execution_count": null,
   "metadata": {},
   "outputs": [],
   "source": [
    "def compute_metrics_from_batch(batch, small_overlap_thresh=.8, large_overlap_thresh = .0):\n",
    "    face_exact_metrics = compute_metrics_from_matches(batch, 'faces', batch['bl_exact_faces_matches'])\n",
    "    edge_exact_metrics = compute_metrics_from_matches(batch, 'edges', batch['bl_exact_edges_matches'])\n",
    "    vert_exact_metrics = compute_metrics_from_matches(batch, 'vertices', batch['bl_exact_vertices_matches'])\n",
    "\n",
    "    face_overlap = batch.bl_overlap_faces_matches[:,(batch.bl_overlap_smaller_face_percentages >= small_overlap_thresh) & (batch.bl_overlap_larger_face_percentages >= large_overlap_thresh)]\n",
    "    edge_overlap = batch.bl_overlap_edges_matches[:,(batch.bl_overlap_smaller_edge_percentages >= small_overlap_thresh) & (batch.bl_overlap_larger_edge_percentages >= large_overlap_thresh)]\n",
    "\n",
    "\n",
    "    face_coincidence = torch.cat([batch['bl_exact_faces_matches'], face_overlap], dim=1)\n",
    "    edge_coincidence = torch.cat([batch['bl_exact_edges_matches'], edge_overlap], dim=1)\n",
    "    vert_coincidence = batch['bl_exact_vertices_matches']\n",
    "\n",
    "    face_coincidence_metrics = compute_metrics_from_matches(batch, 'faces', face_coincidence)\n",
    "    edge_coincidence_metrics = compute_metrics_from_matches(batch, 'edges', edge_coincidence)\n",
    "    vert_coincidence_metrics = compute_metrics_from_matches(batch, 'vertices', vert_coincidence)\n",
    "\n",
    "    face_onshape_metrics = compute_metrics_from_matches(batch, 'faces', batch['os_bl_faces_matches'])\n",
    "    edge_onshape_metrics = compute_metrics_from_matches(batch, 'edges', batch['os_bl_edges_matches'])\n",
    "    vert_onshape_metrics = compute_metrics_from_matches(batch, 'vertices', batch['os_bl_vertices_matches'])\n",
    "\n",
    "    metrics = {\n",
    "        'exact': {\n",
    "            'faces': face_exact_metrics,\n",
    "            'edges': edge_exact_metrics,\n",
    "            'vertices': vert_exact_metrics\n",
    "        },\n",
    "        'coincidence': {\n",
    "            'faces': face_coincidence_metrics,\n",
    "            'edges': edge_coincidence_metrics,\n",
    "            'vertices': vert_coincidence_metrics\n",
    "        },\n",
    "        'onshape': {\n",
    "            'faces': face_onshape_metrics,\n",
    "            'edges': edge_onshape_metrics,\n",
    "            'vertices': vert_onshape_metrics\n",
    "        }\n",
    "    }\n",
    "\n",
    "    return metrics"
   ]
  },
  {
   "cell_type": "code",
   "execution_count": null,
   "metadata": {},
   "outputs": [],
   "source": [
    "all_metrics_99_99 = {\n",
    "    'geo': compute_metrics_from_batch(geo_batch, .99, .99),\n",
    "    'topo': compute_metrics_from_batch(topo_batch, .99, .99),\n",
    "    'both': compute_metrics_from_batch(both_batch, .99, .99)\n",
    "}"
   ]
  },
  {
   "cell_type": "code",
   "execution_count": null,
   "metadata": {},
   "outputs": [],
   "source": [
    "torch.save(all_metrics, 'baseline_metrics.pt')"
   ]
  },
  {
   "cell_type": "code",
   "execution_count": null,
   "metadata": {},
   "outputs": [],
   "source": [
    "\n",
    "def generate_plots(geo_test_graphs, topo_test_graphs, both_test_graphs, outdir, match_prefix='', title_prefix=''):\n",
    "    for name,test_set in tqdm((('Geo',geo_test_graphs), ('Topo', topo_test_graphs), ('Both', both_test_graphs)),'Test Sets'):\n",
    "        follow_batch=['left_vertices','right_vertices','left_edges', 'right_edges','left_faces','right_faces', 'faces_matches', 'edges_matches', 'vertices_matches']\n",
    "        big_batch = Batch.from_data_list(test_set,follow_batch=follow_batch)\n",
    "        for topo_type in tqdm(['faces', 'edges', 'vertices'],'Match Sets', leave=False):\n",
    "            metrics = compute_metrics_from_matches(big_batch, topo_type, big_batch[f'bl_exact_{topo_type}_matches'])\n",
    "            plot = plot_the_fives(*np.stack([metrics]*2)[:,:-2].T, np.array([0.0,1.0]),f'Exact Matching {name} ({topo_type})')\n",
    "            outpath = os.path.join(outdir, f'{name}_{topo_type}.png')\n",
    "            make_containing_dir(outpath)\n",
    "            plot.savefig(outpath)\n"
   ]
  },
  {
   "cell_type": "code",
   "execution_count": null,
   "metadata": {},
   "outputs": [],
   "source": [
    "def plot_grid(metrics, method='exact'):\n",
    "    fig, axes = plt.subplots(3,3, figsize = (24,24))\n",
    "    for i,ds in enumerate(['geo','topo','both']):\n",
    "        for j,t in enumerate(['faces','edges','vertices']):\n",
    "            m = metrics[ds][method][t]\n",
    "            plot = plot_the_fives(*np.stack([m]*2)[:,:-2].T, np.array([0.0,1.0]),f'{method} -- {ds} ({t})', ax=axes[j,i])\n",
    "    return fig\n",
    "coincidence_fig = plot_grid(all_metrics_99_99, 'coincidence')\n",
    "exact_fig = plot_grid(all_metrics_99_99, 'exact')\n",
    "onshape_fig = plot_grid(all_metrics_99_99, 'onshape')\n",
    "\n",
    "coincidence_fig.savefig('coincidence_99_99.png')\n",
    "exact_fig.savefig('exact_99_99.png')\n",
    "onshape_fig.savefig('onshape_99_99.png')\n"
   ]
  },
  {
   "cell_type": "code",
   "execution_count": null,
   "metadata": {},
   "outputs": [],
   "source": []
  }
 ],
 "metadata": {
  "kernelspec": {
   "display_name": "Python 3",
   "language": "python",
   "name": "python3"
  },
  "language_info": {
   "codemirror_mode": {
    "name": "ipython",
    "version": 3
   },
   "file_extension": ".py",
   "mimetype": "text/x-python",
   "name": "python",
   "nbconvert_exporter": "python",
   "pygments_lexer": "ipython3",
   "version": "3.9.15"
  },
  "orig_nbformat": 4,
  "vscode": {
   "interpreter": {
    "hash": "87142ede9042d04f934af2ae171157c789b6aae7f3fe10d44294683606c509dd"
   }
  }
 },
 "nbformat": 4,
 "nbformat_minor": 2
}
