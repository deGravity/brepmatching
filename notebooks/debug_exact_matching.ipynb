{
 "cells": [
  {
   "cell_type": "code",
   "execution_count": 1,
   "metadata": {},
   "outputs": [
    {
     "name": "stderr",
     "output_type": "stream",
     "text": [
      "c:\\Users\\Ben\\anaconda3\\envs\\brepmatching\\lib\\site-packages\\torchvision\\io\\image.py:13: UserWarning: Failed to load image Python extension: [WinError 127] The specified procedure could not be found\n",
      "  warn(f\"Failed to load image Python extension: {e}\")\n"
     ]
    }
   ],
   "source": [
    "from coincidence_matching import match_parts\n",
    "from zipfile import ZipFile\n",
    "import json\n",
    "import pandas as pd\n",
    "from matplotlib import pyplot as plt\n",
    "from tqdm import tqdm\n",
    "from automate import Part\n",
    "import numpy as np\n",
    "import meshplot as mp\n",
    "from collections import Counter\n",
    "import torch\n",
    "\n",
    "from brepmatching.data import BRepMatchingDataset"
   ]
  },
  {
   "cell_type": "code",
   "execution_count": 2,
   "metadata": {},
   "outputs": [
    {
     "name": "stderr",
     "output_type": "stream",
     "text": [
      "Preprocessing Data:   0%|          | 0/6649 [00:00<?, ?it/s]c:\\Users\\Ben\\anaconda3\\envs\\brepmatching\\lib\\site-packages\\automate\\conversions.py:20: UserWarning: The given NumPy array is not writeable, and PyTorch does not support non-writeable tensors. This means you can write to the underlying (supposedly non-writeable) NumPy array using the tensor. You may want to copy the array to protect its data or make it writeable before converting it to a tensor. This type of warning will be suppressed for the rest of this program. (Triggered internally at  ..\\torch\\csrc\\utils\\tensor_numpy.cpp:189.)\n",
      "  return torch.from_numpy(obj)\n",
      "Preprocessing Data:   0%|          | 30/6649 [00:05<18:38,  5.92it/s]\n"
     ]
    },
    {
     "ename": "KeyboardInterrupt",
     "evalue": "",
     "output_type": "error",
     "traceback": [
      "\u001b[1;31m---------------------------------------------------------------------------\u001b[0m",
      "\u001b[1;31mKeyboardInterrupt\u001b[0m                         Traceback (most recent call last)",
      "Cell \u001b[1;32mIn[2], line 1\u001b[0m\n\u001b[1;32m----> 1\u001b[0m ds \u001b[39m=\u001b[39m BRepMatchingDataset(\u001b[39m'\u001b[39;49m\u001b[39m../data/GeoFullSet.zip\u001b[39;49m\u001b[39m'\u001b[39;49m,\u001b[39m'\u001b[39;49m\u001b[39m../data/GeoFullSet2.pt\u001b[39;49m\u001b[39m'\u001b[39;49m, test_size\u001b[39m=\u001b[39;49m\u001b[39m0\u001b[39;49m, val_size\u001b[39m=\u001b[39;49m\u001b[39m0\u001b[39;49m)\n",
      "File \u001b[1;32md:\\cad\\brepmatching\\brepmatching\\brepmatching\\data.py:249\u001b[0m, in \u001b[0;36mBRepMatchingDataset.__init__\u001b[1;34m(self, zip_path, cache_path, debug, mode, seed, test_size, val_size, test_identity, transforms)\u001b[0m\n\u001b[0;32m    247\u001b[0m     bl_o_path \u001b[39m=\u001b[39m \u001b[39m'\u001b[39m\u001b[39mdata/baseline/\u001b[39m\u001b[39m'\u001b[39m \u001b[39m+\u001b[39m variation_record\u001b[39m.\u001b[39mbaselineOrig\n\u001b[0;32m    248\u001b[0m     bl_v_path \u001b[39m=\u001b[39m \u001b[39m'\u001b[39m\u001b[39mdata/baseline/\u001b[39m\u001b[39m'\u001b[39m \u001b[39m+\u001b[39m variation_record\u001b[39m.\u001b[39mbaselineNew\n\u001b[1;32m--> 249\u001b[0m data \u001b[39m=\u001b[39m make_match_data(zf, o_path, v_path, m_path, bl_o_path, bl_v_path, bl_m_path)\n\u001b[0;32m    250\u001b[0m \u001b[39mif\u001b[39;00m data \u001b[39mis\u001b[39;00m \u001b[39mnot\u001b[39;00m \u001b[39mNone\u001b[39;00m:\n\u001b[0;32m    251\u001b[0m     \u001b[39mself\u001b[39m\u001b[39m.\u001b[39mgroup\u001b[39m.\u001b[39mappend(orig_id_dict[variation_record\u001b[39m.\u001b[39mps_orig])\n",
      "File \u001b[1;32md:\\cad\\brepmatching\\brepmatching\\brepmatching\\data.py:46\u001b[0m, in \u001b[0;36mmake_match_data\u001b[1;34m(zf, orig_path, var_path, match_path, bl_o_path, bl_v_path, bl_m_path, include_meshes)\u001b[0m\n\u001b[0;32m     44\u001b[0m \u001b[39mif\u001b[39;00m \u001b[39mnot\u001b[39;00m include_meshes:\n\u001b[0;32m     45\u001b[0m     features\u001b[39m.\u001b[39mmesh \u001b[39m=\u001b[39m \u001b[39mFalse\u001b[39;00m\n\u001b[1;32m---> 46\u001b[0m orig_brep \u001b[39m=\u001b[39m part_to_graph(orig_part, features)\n\u001b[0;32m     47\u001b[0m var_brep \u001b[39m=\u001b[39m part_to_graph(var_part, features)\n\u001b[0;32m     48\u001b[0m \u001b[39mfor\u001b[39;00m brep \u001b[39min\u001b[39;00m (orig_brep, var_brep):\n",
      "File \u001b[1;32mc:\\Users\\Ben\\anaconda3\\envs\\brepmatching\\lib\\site-packages\\automate\\brep.py:444\u001b[0m, in \u001b[0;36mpart_to_graph\u001b[1;34m(part, options)\u001b[0m\n\u001b[0;32m    442\u001b[0m \u001b[39mif\u001b[39;00m options\u001b[39m.\u001b[39mbrep:\n\u001b[0;32m    443\u001b[0m     face_features \u001b[39m=\u001b[39m [featurize_face(f, options) \u001b[39mfor\u001b[39;00m f \u001b[39min\u001b[39;00m part\u001b[39m.\u001b[39mbrep\u001b[39m.\u001b[39mnodes\u001b[39m.\u001b[39mfaces]\n\u001b[1;32m--> 444\u001b[0m     loop_features \u001b[39m=\u001b[39m [featurize_loop(f, options) \u001b[39mfor\u001b[39;00m f \u001b[39min\u001b[39;00m part\u001b[39m.\u001b[39mbrep\u001b[39m.\u001b[39mnodes\u001b[39m.\u001b[39mloops]\n\u001b[0;32m    445\u001b[0m     edge_features \u001b[39m=\u001b[39m [featurize_edge(f, options) \u001b[39mfor\u001b[39;00m f \u001b[39min\u001b[39;00m part\u001b[39m.\u001b[39mbrep\u001b[39m.\u001b[39mnodes\u001b[39m.\u001b[39medges]\n\u001b[0;32m    446\u001b[0m     vert_features \u001b[39m=\u001b[39m [featurize_vert(f, options) \u001b[39mfor\u001b[39;00m f \u001b[39min\u001b[39;00m part\u001b[39m.\u001b[39mbrep\u001b[39m.\u001b[39mnodes\u001b[39m.\u001b[39mvertices]\n",
      "File \u001b[1;32mc:\\Users\\Ben\\anaconda3\\envs\\brepmatching\\lib\\site-packages\\automate\\brep.py:444\u001b[0m, in \u001b[0;36m<listcomp>\u001b[1;34m(.0)\u001b[0m\n\u001b[0;32m    442\u001b[0m \u001b[39mif\u001b[39;00m options\u001b[39m.\u001b[39mbrep:\n\u001b[0;32m    443\u001b[0m     face_features \u001b[39m=\u001b[39m [featurize_face(f, options) \u001b[39mfor\u001b[39;00m f \u001b[39min\u001b[39;00m part\u001b[39m.\u001b[39mbrep\u001b[39m.\u001b[39mnodes\u001b[39m.\u001b[39mfaces]\n\u001b[1;32m--> 444\u001b[0m     loop_features \u001b[39m=\u001b[39m [featurize_loop(f, options) \u001b[39mfor\u001b[39;00m f \u001b[39min\u001b[39;00m part\u001b[39m.\u001b[39mbrep\u001b[39m.\u001b[39mnodes\u001b[39m.\u001b[39mloops]\n\u001b[0;32m    445\u001b[0m     edge_features \u001b[39m=\u001b[39m [featurize_edge(f, options) \u001b[39mfor\u001b[39;00m f \u001b[39min\u001b[39;00m part\u001b[39m.\u001b[39mbrep\u001b[39m.\u001b[39mnodes\u001b[39m.\u001b[39medges]\n\u001b[0;32m    446\u001b[0m     vert_features \u001b[39m=\u001b[39m [featurize_vert(f, options) \u001b[39mfor\u001b[39;00m f \u001b[39min\u001b[39;00m part\u001b[39m.\u001b[39mbrep\u001b[39m.\u001b[39mnodes\u001b[39m.\u001b[39mvertices]\n",
      "File \u001b[1;32mc:\\Users\\Ben\\anaconda3\\envs\\brepmatching\\lib\\site-packages\\automate\\brep.py:250\u001b[0m, in \u001b[0;36mfeaturize_loop\u001b[1;34m(l, options)\u001b[0m\n\u001b[0;32m    247\u001b[0m feature_parts \u001b[39m=\u001b[39m []\n\u001b[0;32m    248\u001b[0m \u001b[39mif\u001b[39;00m options\u001b[39m.\u001b[39mloop\u001b[39m.\u001b[39mtype:\n\u001b[0;32m    249\u001b[0m     feature_parts\u001b[39m.\u001b[39mappend(\n\u001b[1;32m--> 250\u001b[0m         torch\u001b[39m.\u001b[39;49mnn\u001b[39m.\u001b[39;49mfunctional\u001b[39m.\u001b[39;49mone_hot(\n\u001b[0;32m    251\u001b[0m             torch\u001b[39m.\u001b[39;49mtensor(l\u001b[39m.\u001b[39;49mtype\u001b[39m.\u001b[39;49mvalue), \n\u001b[0;32m    252\u001b[0m             l\u001b[39m.\u001b[39;49mtype\u001b[39m.\u001b[39;49menum_size))\n\u001b[0;32m    254\u001b[0m \u001b[39mif\u001b[39;00m options\u001b[39m.\u001b[39mloop\u001b[39m.\u001b[39mlength:\n\u001b[0;32m    255\u001b[0m     feature_parts\u001b[39m.\u001b[39mappend(to_flat(l\u001b[39m.\u001b[39mlength))\n",
      "\u001b[1;31mKeyboardInterrupt\u001b[0m: "
     ]
    }
   ],
   "source": [
    "ds = BRepMatchingDataset('../data/GeoFullSet.zip','../data/GeoFullSet2.pt', test_size=0, val_size=0)"
   ]
  },
  {
   "cell_type": "code",
   "execution_count": null,
   "metadata": {},
   "outputs": [],
   "source": []
  },
  {
   "cell_type": "code",
   "execution_count": 3,
   "metadata": {},
   "outputs": [],
   "source": [
    "data = torch.load('../data/GeoFullSetCacheSplitNoNaN.pt')"
   ]
  },
  {
   "cell_type": "code",
   "execution_count": 4,
   "metadata": {},
   "outputs": [
    {
     "data": {
      "text/plain": [
       "dict_keys(['preprocessed_data', 'group', 'original_index'])"
      ]
     },
     "execution_count": 4,
     "metadata": {},
     "output_type": "execute_result"
    }
   ],
   "source": [
    "data.keys()"
   ]
  },
  {
   "cell_type": "code",
   "execution_count": null,
   "metadata": {},
   "outputs": [],
   "source": [
    "len(data['original_index'])"
   ]
  },
  {
   "cell_type": "code",
   "execution_count": null,
   "metadata": {},
   "outputs": [],
   "source": [
    "len(data['preprocessed_data'])"
   ]
  },
  {
   "cell_type": "code",
   "execution_count": null,
   "metadata": {},
   "outputs": [],
   "source": [
    "d = data['preprocessed_data'][0]"
   ]
  },
  {
   "cell_type": "code",
   "execution_count": null,
   "metadata": {},
   "outputs": [],
   "source": [
    "d.bl_exact_vertices_matches"
   ]
  },
  {
   "cell_type": "code",
   "execution_count": null,
   "metadata": {},
   "outputs": [],
   "source": []
  },
  {
   "cell_type": "code",
   "execution_count": 5,
   "metadata": {},
   "outputs": [],
   "source": [
    "with ZipFile('../data/GeoFullSet.zip','r') as zf:\n",
    "    with zf.open('data/VariationData/all_variations.csv','r') as f:\n",
    "        geo_data = pd.read_csv(f)"
   ]
  },
  {
   "cell_type": "code",
   "execution_count": 6,
   "metadata": {},
   "outputs": [
    {
     "data": {
      "text/plain": [
       "6649"
      ]
     },
     "execution_count": 6,
     "metadata": {},
     "output_type": "execute_result"
    }
   ],
   "source": [
    "len(geo_data[geo_data.fail == 0])"
   ]
  },
  {
   "cell_type": "code",
   "execution_count": 7,
   "metadata": {},
   "outputs": [
    {
     "data": {
      "text/plain": [
       "7199"
      ]
     },
     "execution_count": 7,
     "metadata": {},
     "output_type": "execute_result"
    }
   ],
   "source": [
    "max(data['original_index'])"
   ]
  },
  {
   "cell_type": "code",
   "execution_count": 8,
   "metadata": {},
   "outputs": [],
   "source": [
    "def get_precision(pred_matches,gt_matches):\n",
    "    v_exact = set((a.item(),b.item()) for a,b in pred_matches.T) \n",
    "    v_gt = set((a.item(),b.item()) for a,b in gt_matches.T)\n",
    "    if len(v_exact) > 0:\n",
    "        v_precision = (len(v_exact) - len(v_exact - v_gt) )/ len(v_exact)\n",
    "    else:\n",
    "        v_precision = 1.0\n",
    "    return v_precision"
   ]
  },
  {
   "cell_type": "code",
   "execution_count": 10,
   "metadata": {},
   "outputs": [
    {
     "name": "stderr",
     "output_type": "stream",
     "text": [
      "6648it [00:11, 554.05it/s] \n"
     ]
    }
   ],
   "source": [
    "errors = []\n",
    "records = []\n",
    "for i,d in tqdm(enumerate(data['preprocessed_data'])):\n",
    "    \n",
    "    f_precision = get_precision(d.bl_exact_faces_matches, d.faces_matches)\n",
    "    e_precision = get_precision(d.bl_exact_edges_matches, d.edges_matches)\n",
    "    v_precision = get_precision(d.bl_exact_vertices_matches, d.vertices_matches)\n",
    "\n",
    "    orig_index = data['original_index'][i]\n",
    "    \n",
    "    records.append({\n",
    "        'index':i,\n",
    "        'original_index':orig_index,\n",
    "        'ps_orig':geo_data.ps_orig[orig_index],\n",
    "        'ps_var':geo_data.ps_var[orig_index],\n",
    "        'matchFile':geo_data.matchFile[orig_index],\n",
    "        'face_precision':f_precision,\n",
    "        'edge_precision':e_precision,\n",
    "        'vertex_precision':v_precision\n",
    "    })\n"
   ]
  },
  {
   "cell_type": "code",
   "execution_count": 11,
   "metadata": {},
   "outputs": [
    {
     "data": {
      "text/html": [
       "<div>\n",
       "<style scoped>\n",
       "    .dataframe tbody tr th:only-of-type {\n",
       "        vertical-align: middle;\n",
       "    }\n",
       "\n",
       "    .dataframe tbody tr th {\n",
       "        vertical-align: top;\n",
       "    }\n",
       "\n",
       "    .dataframe thead th {\n",
       "        text-align: right;\n",
       "    }\n",
       "</style>\n",
       "<table border=\"1\" class=\"dataframe\">\n",
       "  <thead>\n",
       "    <tr style=\"text-align: right;\">\n",
       "      <th></th>\n",
       "      <th>index</th>\n",
       "      <th>original_index</th>\n",
       "      <th>ps_orig</th>\n",
       "      <th>ps_var</th>\n",
       "      <th>matchFile</th>\n",
       "      <th>face_precision</th>\n",
       "      <th>edge_precision</th>\n",
       "      <th>vertex_precision</th>\n",
       "    </tr>\n",
       "  </thead>\n",
       "  <tbody>\n",
       "    <tr>\n",
       "      <th>0</th>\n",
       "      <td>0</td>\n",
       "      <td>0</td>\n",
       "      <td>d65b13c6430b30819cb6b169_ab94f8bbfa837d13accf8...</td>\n",
       "      <td>d65b13c6430b30819cb6b169_ab94f8bbfa837d13accf8...</td>\n",
       "      <td>d65b13c6430b30819cb6b169_ab94f8bbfa837d13accf8...</td>\n",
       "      <td>1.0</td>\n",
       "      <td>1.000000</td>\n",
       "      <td>1.0</td>\n",
       "    </tr>\n",
       "    <tr>\n",
       "      <th>1</th>\n",
       "      <td>1</td>\n",
       "      <td>1</td>\n",
       "      <td>d65b13c6430b30819cb6b169_ab94f8bbfa837d13accf8...</td>\n",
       "      <td>d65b13c6430b30819cb6b169_ab94f8bbfa837d13accf8...</td>\n",
       "      <td>d65b13c6430b30819cb6b169_ab94f8bbfa837d13accf8...</td>\n",
       "      <td>1.0</td>\n",
       "      <td>0.923077</td>\n",
       "      <td>1.0</td>\n",
       "    </tr>\n",
       "    <tr>\n",
       "      <th>2</th>\n",
       "      <td>2</td>\n",
       "      <td>2</td>\n",
       "      <td>d65b13c6430b30819cb6b169_ab94f8bbfa837d13accf8...</td>\n",
       "      <td>d65b13c6430b30819cb6b169_ab94f8bbfa837d13accf8...</td>\n",
       "      <td>d65b13c6430b30819cb6b169_ab94f8bbfa837d13accf8...</td>\n",
       "      <td>1.0</td>\n",
       "      <td>1.000000</td>\n",
       "      <td>1.0</td>\n",
       "    </tr>\n",
       "    <tr>\n",
       "      <th>3</th>\n",
       "      <td>3</td>\n",
       "      <td>3</td>\n",
       "      <td>bd5fdae5f33d665982b3e072_8a7f56ccff092e6146aa6...</td>\n",
       "      <td>bd5fdae5f33d665982b3e072_8a7f56ccff092e6146aa6...</td>\n",
       "      <td>bd5fdae5f33d665982b3e072_8a7f56ccff092e6146aa6...</td>\n",
       "      <td>1.0</td>\n",
       "      <td>1.000000</td>\n",
       "      <td>1.0</td>\n",
       "    </tr>\n",
       "    <tr>\n",
       "      <th>4</th>\n",
       "      <td>4</td>\n",
       "      <td>4</td>\n",
       "      <td>bd5fdae5f33d665982b3e072_8a7f56ccff092e6146aa6...</td>\n",
       "      <td>bd5fdae5f33d665982b3e072_8a7f56ccff092e6146aa6...</td>\n",
       "      <td>bd5fdae5f33d665982b3e072_8a7f56ccff092e6146aa6...</td>\n",
       "      <td>1.0</td>\n",
       "      <td>1.000000</td>\n",
       "      <td>1.0</td>\n",
       "    </tr>\n",
       "    <tr>\n",
       "      <th>...</th>\n",
       "      <td>...</td>\n",
       "      <td>...</td>\n",
       "      <td>...</td>\n",
       "      <td>...</td>\n",
       "      <td>...</td>\n",
       "      <td>...</td>\n",
       "      <td>...</td>\n",
       "      <td>...</td>\n",
       "    </tr>\n",
       "    <tr>\n",
       "      <th>6643</th>\n",
       "      <td>6643</td>\n",
       "      <td>7193</td>\n",
       "      <td>572b6d29e4b07a0dd62dcf46_bacd8863d5db0d10e587c...</td>\n",
       "      <td>572b6d29e4b07a0dd62dcf46_bacd8863d5db0d10e587c...</td>\n",
       "      <td>572b6d29e4b07a0dd62dcf46_bacd8863d5db0d10e587c...</td>\n",
       "      <td>1.0</td>\n",
       "      <td>1.000000</td>\n",
       "      <td>1.0</td>\n",
       "    </tr>\n",
       "    <tr>\n",
       "      <th>6644</th>\n",
       "      <td>6644</td>\n",
       "      <td>7194</td>\n",
       "      <td>89c7c6ffdd27179ca8eaa22a_03fe1f527310e88e165c8...</td>\n",
       "      <td>89c7c6ffdd27179ca8eaa22a_03fe1f527310e88e165c8...</td>\n",
       "      <td>89c7c6ffdd27179ca8eaa22a_03fe1f527310e88e165c8...</td>\n",
       "      <td>1.0</td>\n",
       "      <td>1.000000</td>\n",
       "      <td>1.0</td>\n",
       "    </tr>\n",
       "    <tr>\n",
       "      <th>6645</th>\n",
       "      <td>6645</td>\n",
       "      <td>7195</td>\n",
       "      <td>89c7c6ffdd27179ca8eaa22a_03fe1f527310e88e165c8...</td>\n",
       "      <td>89c7c6ffdd27179ca8eaa22a_03fe1f527310e88e165c8...</td>\n",
       "      <td>89c7c6ffdd27179ca8eaa22a_03fe1f527310e88e165c8...</td>\n",
       "      <td>1.0</td>\n",
       "      <td>1.000000</td>\n",
       "      <td>1.0</td>\n",
       "    </tr>\n",
       "    <tr>\n",
       "      <th>6646</th>\n",
       "      <td>6646</td>\n",
       "      <td>7196</td>\n",
       "      <td>89c7c6ffdd27179ca8eaa22a_03fe1f527310e88e165c8...</td>\n",
       "      <td>89c7c6ffdd27179ca8eaa22a_03fe1f527310e88e165c8...</td>\n",
       "      <td>89c7c6ffdd27179ca8eaa22a_03fe1f527310e88e165c8...</td>\n",
       "      <td>1.0</td>\n",
       "      <td>1.000000</td>\n",
       "      <td>1.0</td>\n",
       "    </tr>\n",
       "    <tr>\n",
       "      <th>6647</th>\n",
       "      <td>6647</td>\n",
       "      <td>7199</td>\n",
       "      <td>a0febeefad997bd38f88c22b_f0c578ba47ece6b990b89...</td>\n",
       "      <td>a0febeefad997bd38f88c22b_f0c578ba47ece6b990b89...</td>\n",
       "      <td>a0febeefad997bd38f88c22b_f0c578ba47ece6b990b89...</td>\n",
       "      <td>1.0</td>\n",
       "      <td>1.000000</td>\n",
       "      <td>1.0</td>\n",
       "    </tr>\n",
       "  </tbody>\n",
       "</table>\n",
       "<p>6648 rows × 8 columns</p>\n",
       "</div>"
      ],
      "text/plain": [
       "      index  original_index  \\\n",
       "0         0               0   \n",
       "1         1               1   \n",
       "2         2               2   \n",
       "3         3               3   \n",
       "4         4               4   \n",
       "...     ...             ...   \n",
       "6643   6643            7193   \n",
       "6644   6644            7194   \n",
       "6645   6645            7195   \n",
       "6646   6646            7196   \n",
       "6647   6647            7199   \n",
       "\n",
       "                                                ps_orig  \\\n",
       "0     d65b13c6430b30819cb6b169_ab94f8bbfa837d13accf8...   \n",
       "1     d65b13c6430b30819cb6b169_ab94f8bbfa837d13accf8...   \n",
       "2     d65b13c6430b30819cb6b169_ab94f8bbfa837d13accf8...   \n",
       "3     bd5fdae5f33d665982b3e072_8a7f56ccff092e6146aa6...   \n",
       "4     bd5fdae5f33d665982b3e072_8a7f56ccff092e6146aa6...   \n",
       "...                                                 ...   \n",
       "6643  572b6d29e4b07a0dd62dcf46_bacd8863d5db0d10e587c...   \n",
       "6644  89c7c6ffdd27179ca8eaa22a_03fe1f527310e88e165c8...   \n",
       "6645  89c7c6ffdd27179ca8eaa22a_03fe1f527310e88e165c8...   \n",
       "6646  89c7c6ffdd27179ca8eaa22a_03fe1f527310e88e165c8...   \n",
       "6647  a0febeefad997bd38f88c22b_f0c578ba47ece6b990b89...   \n",
       "\n",
       "                                                 ps_var  \\\n",
       "0     d65b13c6430b30819cb6b169_ab94f8bbfa837d13accf8...   \n",
       "1     d65b13c6430b30819cb6b169_ab94f8bbfa837d13accf8...   \n",
       "2     d65b13c6430b30819cb6b169_ab94f8bbfa837d13accf8...   \n",
       "3     bd5fdae5f33d665982b3e072_8a7f56ccff092e6146aa6...   \n",
       "4     bd5fdae5f33d665982b3e072_8a7f56ccff092e6146aa6...   \n",
       "...                                                 ...   \n",
       "6643  572b6d29e4b07a0dd62dcf46_bacd8863d5db0d10e587c...   \n",
       "6644  89c7c6ffdd27179ca8eaa22a_03fe1f527310e88e165c8...   \n",
       "6645  89c7c6ffdd27179ca8eaa22a_03fe1f527310e88e165c8...   \n",
       "6646  89c7c6ffdd27179ca8eaa22a_03fe1f527310e88e165c8...   \n",
       "6647  a0febeefad997bd38f88c22b_f0c578ba47ece6b990b89...   \n",
       "\n",
       "                                              matchFile  face_precision  \\\n",
       "0     d65b13c6430b30819cb6b169_ab94f8bbfa837d13accf8...             1.0   \n",
       "1     d65b13c6430b30819cb6b169_ab94f8bbfa837d13accf8...             1.0   \n",
       "2     d65b13c6430b30819cb6b169_ab94f8bbfa837d13accf8...             1.0   \n",
       "3     bd5fdae5f33d665982b3e072_8a7f56ccff092e6146aa6...             1.0   \n",
       "4     bd5fdae5f33d665982b3e072_8a7f56ccff092e6146aa6...             1.0   \n",
       "...                                                 ...             ...   \n",
       "6643  572b6d29e4b07a0dd62dcf46_bacd8863d5db0d10e587c...             1.0   \n",
       "6644  89c7c6ffdd27179ca8eaa22a_03fe1f527310e88e165c8...             1.0   \n",
       "6645  89c7c6ffdd27179ca8eaa22a_03fe1f527310e88e165c8...             1.0   \n",
       "6646  89c7c6ffdd27179ca8eaa22a_03fe1f527310e88e165c8...             1.0   \n",
       "6647  a0febeefad997bd38f88c22b_f0c578ba47ece6b990b89...             1.0   \n",
       "\n",
       "      edge_precision  vertex_precision  \n",
       "0           1.000000               1.0  \n",
       "1           0.923077               1.0  \n",
       "2           1.000000               1.0  \n",
       "3           1.000000               1.0  \n",
       "4           1.000000               1.0  \n",
       "...              ...               ...  \n",
       "6643        1.000000               1.0  \n",
       "6644        1.000000               1.0  \n",
       "6645        1.000000               1.0  \n",
       "6646        1.000000               1.0  \n",
       "6647        1.000000               1.0  \n",
       "\n",
       "[6648 rows x 8 columns]"
      ]
     },
     "execution_count": 11,
     "metadata": {},
     "output_type": "execute_result"
    }
   ],
   "source": [
    "exact_match_precision = pd.DataFrame.from_records(records)\n",
    "exact_match_precision"
   ]
  },
  {
   "cell_type": "code",
   "execution_count": 12,
   "metadata": {},
   "outputs": [
    {
     "data": {
      "text/html": [
       "<div>\n",
       "<style scoped>\n",
       "    .dataframe tbody tr th:only-of-type {\n",
       "        vertical-align: middle;\n",
       "    }\n",
       "\n",
       "    .dataframe tbody tr th {\n",
       "        vertical-align: top;\n",
       "    }\n",
       "\n",
       "    .dataframe thead th {\n",
       "        text-align: right;\n",
       "    }\n",
       "</style>\n",
       "<table border=\"1\" class=\"dataframe\">\n",
       "  <thead>\n",
       "    <tr style=\"text-align: right;\">\n",
       "      <th></th>\n",
       "      <th>index</th>\n",
       "      <th>original_index</th>\n",
       "      <th>ps_orig</th>\n",
       "      <th>ps_var</th>\n",
       "      <th>matchFile</th>\n",
       "      <th>face_precision</th>\n",
       "      <th>edge_precision</th>\n",
       "      <th>vertex_precision</th>\n",
       "    </tr>\n",
       "  </thead>\n",
       "  <tbody>\n",
       "    <tr>\n",
       "      <th>1</th>\n",
       "      <td>1</td>\n",
       "      <td>1</td>\n",
       "      <td>d65b13c6430b30819cb6b169_ab94f8bbfa837d13accf8...</td>\n",
       "      <td>d65b13c6430b30819cb6b169_ab94f8bbfa837d13accf8...</td>\n",
       "      <td>d65b13c6430b30819cb6b169_ab94f8bbfa837d13accf8...</td>\n",
       "      <td>1.0</td>\n",
       "      <td>0.923077</td>\n",
       "      <td>1.000000</td>\n",
       "    </tr>\n",
       "    <tr>\n",
       "      <th>51</th>\n",
       "      <td>51</td>\n",
       "      <td>51</td>\n",
       "      <td>3343469dbb675273b4882aa3_aab3a374d84c92f2bde0c...</td>\n",
       "      <td>3343469dbb675273b4882aa3_aab3a374d84c92f2bde0c...</td>\n",
       "      <td>3343469dbb675273b4882aa3_aab3a374d84c92f2bde0c...</td>\n",
       "      <td>1.0</td>\n",
       "      <td>0.857143</td>\n",
       "      <td>1.000000</td>\n",
       "    </tr>\n",
       "    <tr>\n",
       "      <th>52</th>\n",
       "      <td>52</td>\n",
       "      <td>52</td>\n",
       "      <td>3343469dbb675273b4882aa3_aab3a374d84c92f2bde0c...</td>\n",
       "      <td>3343469dbb675273b4882aa3_aab3a374d84c92f2bde0c...</td>\n",
       "      <td>3343469dbb675273b4882aa3_aab3a374d84c92f2bde0c...</td>\n",
       "      <td>1.0</td>\n",
       "      <td>0.857143</td>\n",
       "      <td>1.000000</td>\n",
       "    </tr>\n",
       "    <tr>\n",
       "      <th>61</th>\n",
       "      <td>61</td>\n",
       "      <td>61</td>\n",
       "      <td>a11220c88990f369f613901b_4302ae6f3b025356bf93a...</td>\n",
       "      <td>a11220c88990f369f613901b_4302ae6f3b025356bf93a...</td>\n",
       "      <td>a11220c88990f369f613901b_4302ae6f3b025356bf93a...</td>\n",
       "      <td>1.0</td>\n",
       "      <td>0.750000</td>\n",
       "      <td>0.600000</td>\n",
       "    </tr>\n",
       "    <tr>\n",
       "      <th>92</th>\n",
       "      <td>92</td>\n",
       "      <td>92</td>\n",
       "      <td>388af513fb35bd1ecf359634_6300b0d6dde7742420d7c...</td>\n",
       "      <td>388af513fb35bd1ecf359634_6300b0d6dde7742420d7c...</td>\n",
       "      <td>388af513fb35bd1ecf359634_6300b0d6dde7742420d7c...</td>\n",
       "      <td>1.0</td>\n",
       "      <td>0.600000</td>\n",
       "      <td>0.166667</td>\n",
       "    </tr>\n",
       "    <tr>\n",
       "      <th>...</th>\n",
       "      <td>...</td>\n",
       "      <td>...</td>\n",
       "      <td>...</td>\n",
       "      <td>...</td>\n",
       "      <td>...</td>\n",
       "      <td>...</td>\n",
       "      <td>...</td>\n",
       "      <td>...</td>\n",
       "    </tr>\n",
       "    <tr>\n",
       "      <th>6605</th>\n",
       "      <td>6605</td>\n",
       "      <td>7133</td>\n",
       "      <td>67358455f4b6ee9878457ae2_4ae161e779ab5ceeea319...</td>\n",
       "      <td>67358455f4b6ee9878457ae2_4ae161e779ab5ceeea319...</td>\n",
       "      <td>67358455f4b6ee9878457ae2_4ae161e779ab5ceeea319...</td>\n",
       "      <td>1.0</td>\n",
       "      <td>0.994924</td>\n",
       "      <td>0.985185</td>\n",
       "    </tr>\n",
       "    <tr>\n",
       "      <th>6610</th>\n",
       "      <td>6610</td>\n",
       "      <td>7143</td>\n",
       "      <td>4b08c96257acbb906111e290_43ff42307a5a43dacea26...</td>\n",
       "      <td>4b08c96257acbb906111e290_43ff42307a5a43dacea26...</td>\n",
       "      <td>4b08c96257acbb906111e290_43ff42307a5a43dacea26...</td>\n",
       "      <td>1.0</td>\n",
       "      <td>0.989130</td>\n",
       "      <td>0.994624</td>\n",
       "    </tr>\n",
       "    <tr>\n",
       "      <th>6616</th>\n",
       "      <td>6616</td>\n",
       "      <td>7149</td>\n",
       "      <td>328c5092003e0a8c996b3984_1c3c69d6fcdb0e0acb65f...</td>\n",
       "      <td>328c5092003e0a8c996b3984_1c3c69d6fcdb0e0acb65f...</td>\n",
       "      <td>328c5092003e0a8c996b3984_1c3c69d6fcdb0e0acb65f...</td>\n",
       "      <td>1.0</td>\n",
       "      <td>0.985294</td>\n",
       "      <td>0.980392</td>\n",
       "    </tr>\n",
       "    <tr>\n",
       "      <th>6622</th>\n",
       "      <td>6622</td>\n",
       "      <td>7169</td>\n",
       "      <td>80042727e7e76023b75da503_b962dbffb8c6f0edb0dee...</td>\n",
       "      <td>80042727e7e76023b75da503_b962dbffb8c6f0edb0dee...</td>\n",
       "      <td>80042727e7e76023b75da503_b962dbffb8c6f0edb0dee...</td>\n",
       "      <td>1.0</td>\n",
       "      <td>0.983051</td>\n",
       "      <td>0.931034</td>\n",
       "    </tr>\n",
       "    <tr>\n",
       "      <th>6636</th>\n",
       "      <td>6636</td>\n",
       "      <td>7186</td>\n",
       "      <td>c4c3a9b2c8636497efe251f5_8a71b5785497ee8bc6345...</td>\n",
       "      <td>c4c3a9b2c8636497efe251f5_8a71b5785497ee8bc6345...</td>\n",
       "      <td>c4c3a9b2c8636497efe251f5_8a71b5785497ee8bc6345...</td>\n",
       "      <td>1.0</td>\n",
       "      <td>0.982609</td>\n",
       "      <td>0.962963</td>\n",
       "    </tr>\n",
       "  </tbody>\n",
       "</table>\n",
       "<p>824 rows × 8 columns</p>\n",
       "</div>"
      ],
      "text/plain": [
       "      index  original_index  \\\n",
       "1         1               1   \n",
       "51       51              51   \n",
       "52       52              52   \n",
       "61       61              61   \n",
       "92       92              92   \n",
       "...     ...             ...   \n",
       "6605   6605            7133   \n",
       "6610   6610            7143   \n",
       "6616   6616            7149   \n",
       "6622   6622            7169   \n",
       "6636   6636            7186   \n",
       "\n",
       "                                                ps_orig  \\\n",
       "1     d65b13c6430b30819cb6b169_ab94f8bbfa837d13accf8...   \n",
       "51    3343469dbb675273b4882aa3_aab3a374d84c92f2bde0c...   \n",
       "52    3343469dbb675273b4882aa3_aab3a374d84c92f2bde0c...   \n",
       "61    a11220c88990f369f613901b_4302ae6f3b025356bf93a...   \n",
       "92    388af513fb35bd1ecf359634_6300b0d6dde7742420d7c...   \n",
       "...                                                 ...   \n",
       "6605  67358455f4b6ee9878457ae2_4ae161e779ab5ceeea319...   \n",
       "6610  4b08c96257acbb906111e290_43ff42307a5a43dacea26...   \n",
       "6616  328c5092003e0a8c996b3984_1c3c69d6fcdb0e0acb65f...   \n",
       "6622  80042727e7e76023b75da503_b962dbffb8c6f0edb0dee...   \n",
       "6636  c4c3a9b2c8636497efe251f5_8a71b5785497ee8bc6345...   \n",
       "\n",
       "                                                 ps_var  \\\n",
       "1     d65b13c6430b30819cb6b169_ab94f8bbfa837d13accf8...   \n",
       "51    3343469dbb675273b4882aa3_aab3a374d84c92f2bde0c...   \n",
       "52    3343469dbb675273b4882aa3_aab3a374d84c92f2bde0c...   \n",
       "61    a11220c88990f369f613901b_4302ae6f3b025356bf93a...   \n",
       "92    388af513fb35bd1ecf359634_6300b0d6dde7742420d7c...   \n",
       "...                                                 ...   \n",
       "6605  67358455f4b6ee9878457ae2_4ae161e779ab5ceeea319...   \n",
       "6610  4b08c96257acbb906111e290_43ff42307a5a43dacea26...   \n",
       "6616  328c5092003e0a8c996b3984_1c3c69d6fcdb0e0acb65f...   \n",
       "6622  80042727e7e76023b75da503_b962dbffb8c6f0edb0dee...   \n",
       "6636  c4c3a9b2c8636497efe251f5_8a71b5785497ee8bc6345...   \n",
       "\n",
       "                                              matchFile  face_precision  \\\n",
       "1     d65b13c6430b30819cb6b169_ab94f8bbfa837d13accf8...             1.0   \n",
       "51    3343469dbb675273b4882aa3_aab3a374d84c92f2bde0c...             1.0   \n",
       "52    3343469dbb675273b4882aa3_aab3a374d84c92f2bde0c...             1.0   \n",
       "61    a11220c88990f369f613901b_4302ae6f3b025356bf93a...             1.0   \n",
       "92    388af513fb35bd1ecf359634_6300b0d6dde7742420d7c...             1.0   \n",
       "...                                                 ...             ...   \n",
       "6605  67358455f4b6ee9878457ae2_4ae161e779ab5ceeea319...             1.0   \n",
       "6610  4b08c96257acbb906111e290_43ff42307a5a43dacea26...             1.0   \n",
       "6616  328c5092003e0a8c996b3984_1c3c69d6fcdb0e0acb65f...             1.0   \n",
       "6622  80042727e7e76023b75da503_b962dbffb8c6f0edb0dee...             1.0   \n",
       "6636  c4c3a9b2c8636497efe251f5_8a71b5785497ee8bc6345...             1.0   \n",
       "\n",
       "      edge_precision  vertex_precision  \n",
       "1           0.923077          1.000000  \n",
       "51          0.857143          1.000000  \n",
       "52          0.857143          1.000000  \n",
       "61          0.750000          0.600000  \n",
       "92          0.600000          0.166667  \n",
       "...              ...               ...  \n",
       "6605        0.994924          0.985185  \n",
       "6610        0.989130          0.994624  \n",
       "6616        0.985294          0.980392  \n",
       "6622        0.983051          0.931034  \n",
       "6636        0.982609          0.962963  \n",
       "\n",
       "[824 rows x 8 columns]"
      ]
     },
     "execution_count": 12,
     "metadata": {},
     "output_type": "execute_result"
    }
   ],
   "source": [
    "exact_match_precision[exact_match_precision.edge_precision < 1]"
   ]
  },
  {
   "cell_type": "code",
   "execution_count": 13,
   "metadata": {},
   "outputs": [],
   "source": [
    "vert_example = exact_match_precision[exact_match_precision.vertex_precision < 1].loc[128]"
   ]
  },
  {
   "cell_type": "code",
   "execution_count": null,
   "metadata": {},
   "outputs": [],
   "source": [
    "vert_example"
   ]
  },
  {
   "cell_type": "code",
   "execution_count": null,
   "metadata": {},
   "outputs": [],
   "source": [
    "vert_example.ps_orig"
   ]
  },
  {
   "cell_type": "code",
   "execution_count": 14,
   "metadata": {},
   "outputs": [
    {
     "name": "stdout",
     "output_type": "stream",
     "text": [
      "False Positives:\n",
      "{('JFs', 'JGY'), ('JFg', 'JGQ')}\n",
      "https://cad.onshape.com/documents/e73de53787731baa40b5c98b/w/c21f8f2a02b93693cc45e39a/m/4b6eb34e69a5d0c2238309c2/e/898f96a5ef74fdcf6b74b2bf\n",
      "https://cad.onshape.com/documents/e73de53787731baa40b5c98b/w/c21f8f2a02b93693cc45e39a/m/8518a90ae829bf80715a874e/e/898f96a5ef74fdcf6b74b2bf\n"
     ]
    },
    {
     "data": {
      "application/vnd.jupyter.widget-view+json": {
       "model_id": "0a847dfec2d3428c9d60df15113a58d0",
       "version_major": 2,
       "version_minor": 0
      },
      "text/plain": [
       "Renderer(camera=PerspectiveCamera(children=(DirectionalLight(color='white', intensity=0.6, position=(0.0168093…"
      ]
     },
     "metadata": {},
     "output_type": "display_data"
    },
    {
     "data": {
      "text/plain": [
       "1"
      ]
     },
     "execution_count": 14,
     "metadata": {},
     "output_type": "execute_result"
    },
    {
     "ename": "TraitError",
     "evalue": "The 'target' trait of a DirectionalLight instance expected an Uninitialized or an Object3D, not the str 'IPY_MODEL_a1d0e12a-edd5-43f5-8f1b-1bd863f45deb'.",
     "output_type": "error",
     "traceback": [
      "\u001b[1;31m---------------------------------------------------------------------------\u001b[0m",
      "\u001b[1;31mTraitError\u001b[0m                                Traceback (most recent call last)",
      "File \u001b[1;32mc:\\Users\\Ben\\anaconda3\\envs\\brepmatching\\lib\\site-packages\\ipywidgets\\widgets\\widget.py:766\u001b[0m, in \u001b[0;36mWidget._handle_msg\u001b[1;34m(self, msg)\u001b[0m\n\u001b[0;32m    764\u001b[0m         \u001b[39mif\u001b[39;00m \u001b[39m'\u001b[39m\u001b[39mbuffer_paths\u001b[39m\u001b[39m'\u001b[39m \u001b[39min\u001b[39;00m data:\n\u001b[0;32m    765\u001b[0m             _put_buffers(state, data[\u001b[39m'\u001b[39m\u001b[39mbuffer_paths\u001b[39m\u001b[39m'\u001b[39m], msg[\u001b[39m'\u001b[39m\u001b[39mbuffers\u001b[39m\u001b[39m'\u001b[39m])\n\u001b[1;32m--> 766\u001b[0m         \u001b[39mself\u001b[39;49m\u001b[39m.\u001b[39;49mset_state(state)\n\u001b[0;32m    768\u001b[0m \u001b[39m# Handle a state request.\u001b[39;00m\n\u001b[0;32m    769\u001b[0m \u001b[39melif\u001b[39;00m method \u001b[39m==\u001b[39m \u001b[39m'\u001b[39m\u001b[39mrequest_state\u001b[39m\u001b[39m'\u001b[39m:\n",
      "File \u001b[1;32mc:\\Users\\Ben\\anaconda3\\envs\\brepmatching\\lib\\site-packages\\ipywidgets\\widgets\\widget.py:648\u001b[0m, in \u001b[0;36mWidget.set_state\u001b[1;34m(self, sync_data)\u001b[0m\n\u001b[0;32m    645\u001b[0m \u001b[39mif\u001b[39;00m name \u001b[39min\u001b[39;00m \u001b[39mself\u001b[39m\u001b[39m.\u001b[39mkeys:\n\u001b[0;32m    646\u001b[0m     from_json \u001b[39m=\u001b[39m \u001b[39mself\u001b[39m\u001b[39m.\u001b[39mtrait_metadata(name, \u001b[39m'\u001b[39m\u001b[39mfrom_json\u001b[39m\u001b[39m'\u001b[39m,\n\u001b[0;32m    647\u001b[0m                                     \u001b[39mself\u001b[39m\u001b[39m.\u001b[39m_trait_from_json)\n\u001b[1;32m--> 648\u001b[0m     \u001b[39mself\u001b[39;49m\u001b[39m.\u001b[39;49mset_trait(name, from_json(sync_data[name], \u001b[39mself\u001b[39;49m))\n",
      "File \u001b[1;32mc:\\Users\\Ben\\anaconda3\\envs\\brepmatching\\lib\\site-packages\\traitlets\\traitlets.py:1741\u001b[0m, in \u001b[0;36mHasTraits.set_trait\u001b[1;34m(self, name, value)\u001b[0m\n\u001b[0;32m   1739\u001b[0m     \u001b[39mraise\u001b[39;00m TraitError(\u001b[39mf\u001b[39m\u001b[39m\"\u001b[39m\u001b[39mClass \u001b[39m\u001b[39m{\u001b[39;00m\u001b[39mcls\u001b[39m\u001b[39m.\u001b[39m\u001b[39m__name__\u001b[39m\u001b[39m}\u001b[39;00m\u001b[39m does not have a trait named \u001b[39m\u001b[39m{\u001b[39;00mname\u001b[39m}\u001b[39;00m\u001b[39m\"\u001b[39m)\n\u001b[0;32m   1740\u001b[0m \u001b[39melse\u001b[39;00m:\n\u001b[1;32m-> 1741\u001b[0m     \u001b[39mgetattr\u001b[39;49m(\u001b[39mcls\u001b[39;49m, name)\u001b[39m.\u001b[39;49mset(\u001b[39mself\u001b[39;49m, value)\n",
      "File \u001b[1;32mc:\\Users\\Ben\\anaconda3\\envs\\brepmatching\\lib\\site-packages\\traitlets\\traitlets.py:706\u001b[0m, in \u001b[0;36mTraitType.set\u001b[1;34m(self, obj, value)\u001b[0m\n\u001b[0;32m    705\u001b[0m \u001b[39mdef\u001b[39;00m \u001b[39mset\u001b[39m(\u001b[39mself\u001b[39m, obj, value):\n\u001b[1;32m--> 706\u001b[0m     new_value \u001b[39m=\u001b[39m \u001b[39mself\u001b[39;49m\u001b[39m.\u001b[39;49m_validate(obj, value)\n\u001b[0;32m    707\u001b[0m     \u001b[39mtry\u001b[39;00m:\n\u001b[0;32m    708\u001b[0m         old_value \u001b[39m=\u001b[39m obj\u001b[39m.\u001b[39m_trait_values[\u001b[39mself\u001b[39m\u001b[39m.\u001b[39mname]\n",
      "File \u001b[1;32mc:\\Users\\Ben\\anaconda3\\envs\\brepmatching\\lib\\site-packages\\traitlets\\traitlets.py:738\u001b[0m, in \u001b[0;36mTraitType._validate\u001b[1;34m(self, obj, value)\u001b[0m\n\u001b[0;32m    736\u001b[0m     \u001b[39mreturn\u001b[39;00m value\n\u001b[0;32m    737\u001b[0m \u001b[39mif\u001b[39;00m \u001b[39mhasattr\u001b[39m(\u001b[39mself\u001b[39m, \u001b[39m\"\u001b[39m\u001b[39mvalidate\u001b[39m\u001b[39m\"\u001b[39m):\n\u001b[1;32m--> 738\u001b[0m     value \u001b[39m=\u001b[39m \u001b[39mself\u001b[39;49m\u001b[39m.\u001b[39;49mvalidate(obj, value)\n\u001b[0;32m    739\u001b[0m \u001b[39mif\u001b[39;00m obj\u001b[39m.\u001b[39m_cross_validation_lock \u001b[39mis\u001b[39;00m \u001b[39mFalse\u001b[39;00m:\n\u001b[0;32m    740\u001b[0m     value \u001b[39m=\u001b[39m \u001b[39mself\u001b[39m\u001b[39m.\u001b[39m_cross_validate(obj, value)\n",
      "File \u001b[1;32mc:\\Users\\Ben\\anaconda3\\envs\\brepmatching\\lib\\site-packages\\traitlets\\traitlets.py:2305\u001b[0m, in \u001b[0;36mUnion.validate\u001b[1;34m(self, obj, value)\u001b[0m\n\u001b[0;32m   2303\u001b[0m         \u001b[39mexcept\u001b[39;00m TraitError:\n\u001b[0;32m   2304\u001b[0m             \u001b[39mcontinue\u001b[39;00m\n\u001b[1;32m-> 2305\u001b[0m \u001b[39mself\u001b[39;49m\u001b[39m.\u001b[39;49merror(obj, value)\n",
      "File \u001b[1;32mc:\\Users\\Ben\\anaconda3\\envs\\brepmatching\\lib\\site-packages\\traitlets\\traitlets.py:844\u001b[0m, in \u001b[0;36mTraitType.error\u001b[1;34m(self, obj, value, error, info)\u001b[0m\n\u001b[0;32m    838\u001b[0m \u001b[39melse\u001b[39;00m:\n\u001b[0;32m    839\u001b[0m     e \u001b[39m=\u001b[39m \u001b[39m\"\u001b[39m\u001b[39mThe \u001b[39m\u001b[39m'\u001b[39m\u001b[39m{}\u001b[39;00m\u001b[39m'\u001b[39m\u001b[39m trait expected \u001b[39m\u001b[39m{}\u001b[39;00m\u001b[39m, not \u001b[39m\u001b[39m{}\u001b[39;00m\u001b[39m.\u001b[39m\u001b[39m\"\u001b[39m\u001b[39m.\u001b[39mformat(\n\u001b[0;32m    840\u001b[0m         \u001b[39mself\u001b[39m\u001b[39m.\u001b[39mname,\n\u001b[0;32m    841\u001b[0m         \u001b[39mself\u001b[39m\u001b[39m.\u001b[39minfo(),\n\u001b[0;32m    842\u001b[0m         describe(\u001b[39m\"\u001b[39m\u001b[39mthe\u001b[39m\u001b[39m\"\u001b[39m, value),\n\u001b[0;32m    843\u001b[0m     )\n\u001b[1;32m--> 844\u001b[0m \u001b[39mraise\u001b[39;00m TraitError(e)\n",
      "\u001b[1;31mTraitError\u001b[0m: The 'target' trait of a DirectionalLight instance expected an Uninitialized or an Object3D, not the str 'IPY_MODEL_a1d0e12a-edd5-43f5-8f1b-1bd863f45deb'."
     ]
    }
   ],
   "source": [
    "ex = exact_match_precision[exact_match_precision.vertex_precision < 1].iloc[8]\n",
    "with ZipFile('../data/GeoFullSet.zip','r') as zf:\n",
    "    path_orig = 'data/BrepsWithReference/' + ex.ps_orig\n",
    "    path_var = 'data/BrepsWithReference/' + ex.ps_var\n",
    "    path_match = 'data/Matches/' + ex.matchFile\n",
    "\n",
    "    with zf.open(path_orig, 'r') as f:\n",
    "        orig_data = f.read().decode('utf-8')\n",
    "    with zf.open(path_var, 'r') as f:\n",
    "        var_data = f.read().decode('utf-8')\n",
    "    with zf.open(path_match, 'r') as f:\n",
    "        gt_match = json.load(f)\n",
    "    gt_match = [(m['val1'], m['val2']) for m in gt_match.values()]\n",
    "    orig_part = Part(orig_data)\n",
    "    var_part = Part(var_data)\n",
    "    exact_matching = match_parts(orig_data, var_data, True)\n",
    "\n",
    "false_positives = set(exact_matching.vertex_matches) - set(gt_match)\n",
    "print('False Positives:')\n",
    "print(false_positives)\n",
    "\n",
    "\n",
    "orig_vert_0, var_vert_0 = list(false_positives)[0]\n",
    "\n",
    "orig_fp_verts = set(a for a,b in false_positives)\n",
    "var_fp_verts = set(b for a,b in false_positives)\n",
    "\n",
    "orig_exact_matched_verts = set(a for a,_ in exact_matching.vertex_matches)\n",
    "var_exact_matched_verts = set(b for _,b in exact_matching.vertex_matches)\n",
    "\n",
    "orig_v_id = [i for i,f in enumerate(orig_part.brep.nodes.vertices) if f.export_id == orig_vert_0][0]\n",
    "var_v_id = [i for i,f in enumerate(var_part.brep.nodes.vertices) if f.export_id == var_vert_0][0]\n",
    "\n",
    "orig_v_ids = [i for i,f in enumerate(orig_part.brep.nodes.vertices) if f.export_id in orig_exact_matched_verts]\n",
    "var_v_ids = [i for i,f in enumerate(var_part.brep.nodes.vertices) if f.export_id in var_exact_matched_verts]\n",
    "\n",
    "orig_fp_v = [i for i,f in enumerate(orig_part.brep.nodes.vertices) if f.export_id in orig_fp_verts]\n",
    "var_fp_v = [i for i,f in enumerate(var_part.brep.nodes.vertices) if f.export_id in var_fp_verts]\n",
    "\n",
    "print(geo_data.iloc[ex.original_index].link_orig)\n",
    "print(geo_data.iloc[ex.original_index].link_var)\n",
    "\n",
    "def joint_plot_verts(orig_part, var_part, verts_orig, verts_var, offset_idx = 0):\n",
    "\n",
    "    offset_a = orig_part.mesh.V.max(axis=0)\n",
    "    offset_b = var_part.mesh.V.min(axis=0)\n",
    "\n",
    "    for i in range(3):\n",
    "        if i != offset_idx:\n",
    "            offset_a[i] = 0\n",
    "            offset_b[i] = 0\n",
    "    offset_a *= 1.05\n",
    "    offset_b *= 1.05\n",
    "\n",
    "    verts_orig = set(verts_orig)\n",
    "    verts_var = set(verts_var)\n",
    "\n",
    "    verts_orig_idx = [i for i,v in enumerate(orig_part.mesh_topology.point_to_topology) if v in verts_orig]\n",
    "    verts_var_idx = [i for i,v in enumerate(var_part.mesh_topology.point_to_topology) if v in verts_var]\n",
    "\n",
    "    vert_locs = np.concatenate([orig_part.mesh.V[verts_orig_idx] + offset_a, var_part.mesh.V[verts_var_idx] + offset_b],axis=0)\n",
    "\n",
    "    return mp.plot(\n",
    "        np.concatenate(\n",
    "            [\n",
    "                orig_part.mesh.V + offset_a, \n",
    "                var_part.mesh.V + offset_b\n",
    "            ]),\n",
    "        np.concatenate(\n",
    "            [\n",
    "                orig_part.mesh.F, \n",
    "                (var_part.mesh.F + orig_part.mesh.V.shape[0])\n",
    "            ]),\n",
    "        return_plot=True\n",
    "    ).add_points(\n",
    "        vert_locs,\n",
    "        shading={'point_size':.005}\n",
    "    )\n",
    "joint_plot_verts(orig_part, var_part, orig_fp_v, var_fp_v , 1)"
   ]
  },
  {
   "cell_type": "code",
   "execution_count": 16,
   "metadata": {},
   "outputs": [],
   "source": [
    "import igl"
   ]
  },
  {
   "cell_type": "code",
   "execution_count": 17,
   "metadata": {},
   "outputs": [],
   "source": [
    "V,_,_,F,_,_ = igl.read_obj(\"./debug.obj\")"
   ]
  },
  {
   "cell_type": "code",
   "execution_count": 18,
   "metadata": {},
   "outputs": [],
   "source": [
    "import meshplot as mp"
   ]
  },
  {
   "cell_type": "code",
   "execution_count": 21,
   "metadata": {},
   "outputs": [
    {
     "data": {
      "application/vnd.jupyter.widget-view+json": {
       "model_id": "e4ae5ba528be48709851cf3c569cd3fc",
       "version_major": 2,
       "version_minor": 0
      },
      "text/plain": [
       "Renderer(camera=PerspectiveCamera(children=(DirectionalLight(color='white', intensity=0.6, position=(-0.010028…"
      ]
     },
     "metadata": {},
     "output_type": "display_data"
    },
    {
     "data": {
      "text/plain": [
       "1"
      ]
     },
     "execution_count": 21,
     "metadata": {},
     "output_type": "execute_result"
    },
    {
     "ename": "TraitError",
     "evalue": "The 'target' trait of a DirectionalLight instance expected an Uninitialized or an Object3D, not the str 'IPY_MODEL_934a065c-32df-4c72-a17a-8714791ebdac'.",
     "output_type": "error",
     "traceback": [
      "\u001b[1;31m---------------------------------------------------------------------------\u001b[0m",
      "\u001b[1;31mTraitError\u001b[0m                                Traceback (most recent call last)",
      "File \u001b[1;32mc:\\Users\\Ben\\anaconda3\\envs\\brepmatching\\lib\\site-packages\\ipywidgets\\widgets\\widget.py:766\u001b[0m, in \u001b[0;36mWidget._handle_msg\u001b[1;34m(self, msg)\u001b[0m\n\u001b[0;32m    764\u001b[0m         \u001b[39mif\u001b[39;00m \u001b[39m'\u001b[39m\u001b[39mbuffer_paths\u001b[39m\u001b[39m'\u001b[39m \u001b[39min\u001b[39;00m data:\n\u001b[0;32m    765\u001b[0m             _put_buffers(state, data[\u001b[39m'\u001b[39m\u001b[39mbuffer_paths\u001b[39m\u001b[39m'\u001b[39m], msg[\u001b[39m'\u001b[39m\u001b[39mbuffers\u001b[39m\u001b[39m'\u001b[39m])\n\u001b[1;32m--> 766\u001b[0m         \u001b[39mself\u001b[39;49m\u001b[39m.\u001b[39;49mset_state(state)\n\u001b[0;32m    768\u001b[0m \u001b[39m# Handle a state request.\u001b[39;00m\n\u001b[0;32m    769\u001b[0m \u001b[39melif\u001b[39;00m method \u001b[39m==\u001b[39m \u001b[39m'\u001b[39m\u001b[39mrequest_state\u001b[39m\u001b[39m'\u001b[39m:\n",
      "File \u001b[1;32mc:\\Users\\Ben\\anaconda3\\envs\\brepmatching\\lib\\site-packages\\ipywidgets\\widgets\\widget.py:648\u001b[0m, in \u001b[0;36mWidget.set_state\u001b[1;34m(self, sync_data)\u001b[0m\n\u001b[0;32m    645\u001b[0m \u001b[39mif\u001b[39;00m name \u001b[39min\u001b[39;00m \u001b[39mself\u001b[39m\u001b[39m.\u001b[39mkeys:\n\u001b[0;32m    646\u001b[0m     from_json \u001b[39m=\u001b[39m \u001b[39mself\u001b[39m\u001b[39m.\u001b[39mtrait_metadata(name, \u001b[39m'\u001b[39m\u001b[39mfrom_json\u001b[39m\u001b[39m'\u001b[39m,\n\u001b[0;32m    647\u001b[0m                                     \u001b[39mself\u001b[39m\u001b[39m.\u001b[39m_trait_from_json)\n\u001b[1;32m--> 648\u001b[0m     \u001b[39mself\u001b[39;49m\u001b[39m.\u001b[39;49mset_trait(name, from_json(sync_data[name], \u001b[39mself\u001b[39;49m))\n",
      "File \u001b[1;32mc:\\Users\\Ben\\anaconda3\\envs\\brepmatching\\lib\\site-packages\\traitlets\\traitlets.py:1741\u001b[0m, in \u001b[0;36mHasTraits.set_trait\u001b[1;34m(self, name, value)\u001b[0m\n\u001b[0;32m   1739\u001b[0m     \u001b[39mraise\u001b[39;00m TraitError(\u001b[39mf\u001b[39m\u001b[39m\"\u001b[39m\u001b[39mClass \u001b[39m\u001b[39m{\u001b[39;00m\u001b[39mcls\u001b[39m\u001b[39m.\u001b[39m\u001b[39m__name__\u001b[39m\u001b[39m}\u001b[39;00m\u001b[39m does not have a trait named \u001b[39m\u001b[39m{\u001b[39;00mname\u001b[39m}\u001b[39;00m\u001b[39m\"\u001b[39m)\n\u001b[0;32m   1740\u001b[0m \u001b[39melse\u001b[39;00m:\n\u001b[1;32m-> 1741\u001b[0m     \u001b[39mgetattr\u001b[39;49m(\u001b[39mcls\u001b[39;49m, name)\u001b[39m.\u001b[39;49mset(\u001b[39mself\u001b[39;49m, value)\n",
      "File \u001b[1;32mc:\\Users\\Ben\\anaconda3\\envs\\brepmatching\\lib\\site-packages\\traitlets\\traitlets.py:706\u001b[0m, in \u001b[0;36mTraitType.set\u001b[1;34m(self, obj, value)\u001b[0m\n\u001b[0;32m    705\u001b[0m \u001b[39mdef\u001b[39;00m \u001b[39mset\u001b[39m(\u001b[39mself\u001b[39m, obj, value):\n\u001b[1;32m--> 706\u001b[0m     new_value \u001b[39m=\u001b[39m \u001b[39mself\u001b[39;49m\u001b[39m.\u001b[39;49m_validate(obj, value)\n\u001b[0;32m    707\u001b[0m     \u001b[39mtry\u001b[39;00m:\n\u001b[0;32m    708\u001b[0m         old_value \u001b[39m=\u001b[39m obj\u001b[39m.\u001b[39m_trait_values[\u001b[39mself\u001b[39m\u001b[39m.\u001b[39mname]\n",
      "File \u001b[1;32mc:\\Users\\Ben\\anaconda3\\envs\\brepmatching\\lib\\site-packages\\traitlets\\traitlets.py:738\u001b[0m, in \u001b[0;36mTraitType._validate\u001b[1;34m(self, obj, value)\u001b[0m\n\u001b[0;32m    736\u001b[0m     \u001b[39mreturn\u001b[39;00m value\n\u001b[0;32m    737\u001b[0m \u001b[39mif\u001b[39;00m \u001b[39mhasattr\u001b[39m(\u001b[39mself\u001b[39m, \u001b[39m\"\u001b[39m\u001b[39mvalidate\u001b[39m\u001b[39m\"\u001b[39m):\n\u001b[1;32m--> 738\u001b[0m     value \u001b[39m=\u001b[39m \u001b[39mself\u001b[39;49m\u001b[39m.\u001b[39;49mvalidate(obj, value)\n\u001b[0;32m    739\u001b[0m \u001b[39mif\u001b[39;00m obj\u001b[39m.\u001b[39m_cross_validation_lock \u001b[39mis\u001b[39;00m \u001b[39mFalse\u001b[39;00m:\n\u001b[0;32m    740\u001b[0m     value \u001b[39m=\u001b[39m \u001b[39mself\u001b[39m\u001b[39m.\u001b[39m_cross_validate(obj, value)\n",
      "File \u001b[1;32mc:\\Users\\Ben\\anaconda3\\envs\\brepmatching\\lib\\site-packages\\traitlets\\traitlets.py:2305\u001b[0m, in \u001b[0;36mUnion.validate\u001b[1;34m(self, obj, value)\u001b[0m\n\u001b[0;32m   2303\u001b[0m         \u001b[39mexcept\u001b[39;00m TraitError:\n\u001b[0;32m   2304\u001b[0m             \u001b[39mcontinue\u001b[39;00m\n\u001b[1;32m-> 2305\u001b[0m \u001b[39mself\u001b[39;49m\u001b[39m.\u001b[39;49merror(obj, value)\n",
      "File \u001b[1;32mc:\\Users\\Ben\\anaconda3\\envs\\brepmatching\\lib\\site-packages\\traitlets\\traitlets.py:844\u001b[0m, in \u001b[0;36mTraitType.error\u001b[1;34m(self, obj, value, error, info)\u001b[0m\n\u001b[0;32m    838\u001b[0m \u001b[39melse\u001b[39;00m:\n\u001b[0;32m    839\u001b[0m     e \u001b[39m=\u001b[39m \u001b[39m\"\u001b[39m\u001b[39mThe \u001b[39m\u001b[39m'\u001b[39m\u001b[39m{}\u001b[39;00m\u001b[39m'\u001b[39m\u001b[39m trait expected \u001b[39m\u001b[39m{}\u001b[39;00m\u001b[39m, not \u001b[39m\u001b[39m{}\u001b[39;00m\u001b[39m.\u001b[39m\u001b[39m\"\u001b[39m\u001b[39m.\u001b[39mformat(\n\u001b[0;32m    840\u001b[0m         \u001b[39mself\u001b[39m\u001b[39m.\u001b[39mname,\n\u001b[0;32m    841\u001b[0m         \u001b[39mself\u001b[39m\u001b[39m.\u001b[39minfo(),\n\u001b[0;32m    842\u001b[0m         describe(\u001b[39m\"\u001b[39m\u001b[39mthe\u001b[39m\u001b[39m\"\u001b[39m, value),\n\u001b[0;32m    843\u001b[0m     )\n\u001b[1;32m--> 844\u001b[0m \u001b[39mraise\u001b[39;00m TraitError(e)\n",
      "\u001b[1;31mTraitError\u001b[0m: The 'target' trait of a DirectionalLight instance expected an Uninitialized or an Object3D, not the str 'IPY_MODEL_934a065c-32df-4c72-a17a-8714791ebdac'."
     ]
    }
   ],
   "source": [
    "mp.plot(V,F, return_plot=True).add_points(np.array([[-0.02062451,  0.00675026, -0.00055887]]), shading={'point_size':0.01})"
   ]
  },
  {
   "cell_type": "code",
   "execution_count": null,
   "metadata": {},
   "outputs": [],
   "source": []
  },
  {
   "cell_type": "code",
   "execution_count": 25,
   "metadata": {},
   "outputs": [],
   "source": [
    "E = np.load('E.npy')"
   ]
  },
  {
   "cell_type": "code",
   "execution_count": 10,
   "metadata": {},
   "outputs": [],
   "source": [
    "data = np.load('meshes.nzp.npz')\n",
    "V = data['V']\n",
    "F = data['F']\n",
    "E = data['E']\n",
    "V2 = data['V_b']\n",
    "F2 = data['F_b']\n",
    "E2 = data['E_b']"
   ]
  },
  {
   "cell_type": "code",
   "execution_count": null,
   "metadata": {},
   "outputs": [],
   "source": []
  },
  {
   "cell_type": "code",
   "execution_count": 14,
   "metadata": {},
   "outputs": [
    {
     "data": {
      "application/vnd.jupyter.widget-view+json": {
       "model_id": "fda12966c47b41c0955e33bb16d60fa1",
       "version_major": 2,
       "version_minor": 0
      },
      "text/plain": [
       "Renderer(camera=PerspectiveCamera(children=(DirectionalLight(color='white', intensity=0.6, position=(-0.003342…"
      ]
     },
     "metadata": {},
     "output_type": "display_data"
    },
    {
     "data": {
      "text/plain": [
       "1"
      ]
     },
     "execution_count": 14,
     "metadata": {},
     "output_type": "execute_result"
    },
    {
     "ename": "TraitError",
     "evalue": "The 'target' trait of a DirectionalLight instance expected an Uninitialized or an Object3D, not the str 'IPY_MODEL_58df5d3e-780d-4d46-a148-2c071f9c047b'.",
     "output_type": "error",
     "traceback": [
      "\u001b[1;31m---------------------------------------------------------------------------\u001b[0m",
      "\u001b[1;31mTraitError\u001b[0m                                Traceback (most recent call last)",
      "File \u001b[1;32mc:\\Users\\Ben\\anaconda3\\envs\\brepmatching\\lib\\site-packages\\ipywidgets\\widgets\\widget.py:766\u001b[0m, in \u001b[0;36mWidget._handle_msg\u001b[1;34m(self, msg)\u001b[0m\n\u001b[0;32m    764\u001b[0m         \u001b[39mif\u001b[39;00m \u001b[39m'\u001b[39m\u001b[39mbuffer_paths\u001b[39m\u001b[39m'\u001b[39m \u001b[39min\u001b[39;00m data:\n\u001b[0;32m    765\u001b[0m             _put_buffers(state, data[\u001b[39m'\u001b[39m\u001b[39mbuffer_paths\u001b[39m\u001b[39m'\u001b[39m], msg[\u001b[39m'\u001b[39m\u001b[39mbuffers\u001b[39m\u001b[39m'\u001b[39m])\n\u001b[1;32m--> 766\u001b[0m         \u001b[39mself\u001b[39;49m\u001b[39m.\u001b[39;49mset_state(state)\n\u001b[0;32m    768\u001b[0m \u001b[39m# Handle a state request.\u001b[39;00m\n\u001b[0;32m    769\u001b[0m \u001b[39melif\u001b[39;00m method \u001b[39m==\u001b[39m \u001b[39m'\u001b[39m\u001b[39mrequest_state\u001b[39m\u001b[39m'\u001b[39m:\n",
      "File \u001b[1;32mc:\\Users\\Ben\\anaconda3\\envs\\brepmatching\\lib\\site-packages\\ipywidgets\\widgets\\widget.py:648\u001b[0m, in \u001b[0;36mWidget.set_state\u001b[1;34m(self, sync_data)\u001b[0m\n\u001b[0;32m    645\u001b[0m \u001b[39mif\u001b[39;00m name \u001b[39min\u001b[39;00m \u001b[39mself\u001b[39m\u001b[39m.\u001b[39mkeys:\n\u001b[0;32m    646\u001b[0m     from_json \u001b[39m=\u001b[39m \u001b[39mself\u001b[39m\u001b[39m.\u001b[39mtrait_metadata(name, \u001b[39m'\u001b[39m\u001b[39mfrom_json\u001b[39m\u001b[39m'\u001b[39m,\n\u001b[0;32m    647\u001b[0m                                     \u001b[39mself\u001b[39m\u001b[39m.\u001b[39m_trait_from_json)\n\u001b[1;32m--> 648\u001b[0m     \u001b[39mself\u001b[39;49m\u001b[39m.\u001b[39;49mset_trait(name, from_json(sync_data[name], \u001b[39mself\u001b[39;49m))\n",
      "File \u001b[1;32mc:\\Users\\Ben\\anaconda3\\envs\\brepmatching\\lib\\site-packages\\traitlets\\traitlets.py:1741\u001b[0m, in \u001b[0;36mHasTraits.set_trait\u001b[1;34m(self, name, value)\u001b[0m\n\u001b[0;32m   1739\u001b[0m     \u001b[39mraise\u001b[39;00m TraitError(\u001b[39mf\u001b[39m\u001b[39m\"\u001b[39m\u001b[39mClass \u001b[39m\u001b[39m{\u001b[39;00m\u001b[39mcls\u001b[39m\u001b[39m.\u001b[39m\u001b[39m__name__\u001b[39m\u001b[39m}\u001b[39;00m\u001b[39m does not have a trait named \u001b[39m\u001b[39m{\u001b[39;00mname\u001b[39m}\u001b[39;00m\u001b[39m\"\u001b[39m)\n\u001b[0;32m   1740\u001b[0m \u001b[39melse\u001b[39;00m:\n\u001b[1;32m-> 1741\u001b[0m     \u001b[39mgetattr\u001b[39;49m(\u001b[39mcls\u001b[39;49m, name)\u001b[39m.\u001b[39;49mset(\u001b[39mself\u001b[39;49m, value)\n",
      "File \u001b[1;32mc:\\Users\\Ben\\anaconda3\\envs\\brepmatching\\lib\\site-packages\\traitlets\\traitlets.py:706\u001b[0m, in \u001b[0;36mTraitType.set\u001b[1;34m(self, obj, value)\u001b[0m\n\u001b[0;32m    705\u001b[0m \u001b[39mdef\u001b[39;00m \u001b[39mset\u001b[39m(\u001b[39mself\u001b[39m, obj, value):\n\u001b[1;32m--> 706\u001b[0m     new_value \u001b[39m=\u001b[39m \u001b[39mself\u001b[39;49m\u001b[39m.\u001b[39;49m_validate(obj, value)\n\u001b[0;32m    707\u001b[0m     \u001b[39mtry\u001b[39;00m:\n\u001b[0;32m    708\u001b[0m         old_value \u001b[39m=\u001b[39m obj\u001b[39m.\u001b[39m_trait_values[\u001b[39mself\u001b[39m\u001b[39m.\u001b[39mname]\n",
      "File \u001b[1;32mc:\\Users\\Ben\\anaconda3\\envs\\brepmatching\\lib\\site-packages\\traitlets\\traitlets.py:738\u001b[0m, in \u001b[0;36mTraitType._validate\u001b[1;34m(self, obj, value)\u001b[0m\n\u001b[0;32m    736\u001b[0m     \u001b[39mreturn\u001b[39;00m value\n\u001b[0;32m    737\u001b[0m \u001b[39mif\u001b[39;00m \u001b[39mhasattr\u001b[39m(\u001b[39mself\u001b[39m, \u001b[39m\"\u001b[39m\u001b[39mvalidate\u001b[39m\u001b[39m\"\u001b[39m):\n\u001b[1;32m--> 738\u001b[0m     value \u001b[39m=\u001b[39m \u001b[39mself\u001b[39;49m\u001b[39m.\u001b[39;49mvalidate(obj, value)\n\u001b[0;32m    739\u001b[0m \u001b[39mif\u001b[39;00m obj\u001b[39m.\u001b[39m_cross_validation_lock \u001b[39mis\u001b[39;00m \u001b[39mFalse\u001b[39;00m:\n\u001b[0;32m    740\u001b[0m     value \u001b[39m=\u001b[39m \u001b[39mself\u001b[39m\u001b[39m.\u001b[39m_cross_validate(obj, value)\n",
      "File \u001b[1;32mc:\\Users\\Ben\\anaconda3\\envs\\brepmatching\\lib\\site-packages\\traitlets\\traitlets.py:2305\u001b[0m, in \u001b[0;36mUnion.validate\u001b[1;34m(self, obj, value)\u001b[0m\n\u001b[0;32m   2303\u001b[0m         \u001b[39mexcept\u001b[39;00m TraitError:\n\u001b[0;32m   2304\u001b[0m             \u001b[39mcontinue\u001b[39;00m\n\u001b[1;32m-> 2305\u001b[0m \u001b[39mself\u001b[39;49m\u001b[39m.\u001b[39;49merror(obj, value)\n",
      "File \u001b[1;32mc:\\Users\\Ben\\anaconda3\\envs\\brepmatching\\lib\\site-packages\\traitlets\\traitlets.py:844\u001b[0m, in \u001b[0;36mTraitType.error\u001b[1;34m(self, obj, value, error, info)\u001b[0m\n\u001b[0;32m    838\u001b[0m \u001b[39melse\u001b[39;00m:\n\u001b[0;32m    839\u001b[0m     e \u001b[39m=\u001b[39m \u001b[39m\"\u001b[39m\u001b[39mThe \u001b[39m\u001b[39m'\u001b[39m\u001b[39m{}\u001b[39;00m\u001b[39m'\u001b[39m\u001b[39m trait expected \u001b[39m\u001b[39m{}\u001b[39;00m\u001b[39m, not \u001b[39m\u001b[39m{}\u001b[39;00m\u001b[39m.\u001b[39m\u001b[39m\"\u001b[39m\u001b[39m.\u001b[39mformat(\n\u001b[0;32m    840\u001b[0m         \u001b[39mself\u001b[39m\u001b[39m.\u001b[39mname,\n\u001b[0;32m    841\u001b[0m         \u001b[39mself\u001b[39m\u001b[39m.\u001b[39minfo(),\n\u001b[0;32m    842\u001b[0m         describe(\u001b[39m\"\u001b[39m\u001b[39mthe\u001b[39m\u001b[39m\"\u001b[39m, value),\n\u001b[0;32m    843\u001b[0m     )\n\u001b[1;32m--> 844\u001b[0m \u001b[39mraise\u001b[39;00m TraitError(e)\n",
      "\u001b[1;31mTraitError\u001b[0m: The 'target' trait of a DirectionalLight instance expected an Uninitialized or an Object3D, not the str 'IPY_MODEL_58df5d3e-780d-4d46-a148-2c071f9c047b'."
     ]
    }
   ],
   "source": [
    "plot = mp.plot(V2,F2,return_plot=True)\n",
    "plot.add_edges(V2,E2,shading={'line_color':'red'})\n",
    "#plot.add_edges(V2,E2,shading={'line_color':'green'})"
   ]
  },
  {
   "cell_type": "code",
   "execution_count": null,
   "metadata": {},
   "outputs": [],
   "source": []
  },
  {
   "cell_type": "code",
   "execution_count": null,
   "metadata": {},
   "outputs": [],
   "source": [
    "zf = ZipFile('../data/GeoFullSet.zip','r')"
   ]
  },
  {
   "cell_type": "code",
   "execution_count": null,
   "metadata": {},
   "outputs": [],
   "source": [
    "path_match == 'data/Matches/6e4ad64270ef3a3c41addd31_45614c7621587c07bd2ab7fa_9072204cb5aa216204767a09_default_jjdeiV02.json'"
   ]
  },
  {
   "cell_type": "code",
   "execution_count": null,
   "metadata": {},
   "outputs": [],
   "source": [
    "zf.close()"
   ]
  },
  {
   "cell_type": "code",
   "execution_count": null,
   "metadata": {},
   "outputs": [],
   "source": [
    "ex.to_csv('bad_bolts.csv')"
   ]
  },
  {
   "cell_type": "code",
   "execution_count": null,
   "metadata": {},
   "outputs": [],
   "source": []
  },
  {
   "cell_type": "code",
   "execution_count": null,
   "metadata": {},
   "outputs": [],
   "source": [
    "(exact_match_precision.face_precision < 1).sum()"
   ]
  },
  {
   "cell_type": "code",
   "execution_count": null,
   "metadata": {},
   "outputs": [],
   "source": [
    "ex = exact_match_precision[exact_match_precision.face_precision < 1].iloc[15]\n",
    "with ZipFile('../data/GeoFullSet.zip','r') as zf:\n",
    "    path_orig = 'data/BrepsWithReference/' + ex.ps_orig\n",
    "    path_var = 'data/BrepsWithReference/' + ex.ps_var\n",
    "    path_match = 'data/Matches/' + ex.matchFile\n",
    "\n",
    "    with zf.open(path_orig, 'r') as f:\n",
    "        orig_data = f.read().decode('utf-8')\n",
    "    with zf.open(path_var, 'r') as f:\n",
    "        var_data = f.read().decode('utf-8')\n",
    "    with zf.open(path_match, 'r') as f:\n",
    "        gt_match = json.load(f)\n",
    "    gt_match = [(m['val1'], m['val2']) for m in gt_match.values()]\n",
    "    orig_part = Part(orig_data)\n",
    "    var_part = Part(var_data)\n",
    "    exact_matching = match_parts(orig_data, var_data, True)\n",
    "\n",
    "false_positives = set(exact_matching.face_matches) - set(gt_match)\n",
    "print('False Positives:')\n",
    "print(false_positives)\n",
    "orig_face0, var_face0 = list(false_positives)[0]\n",
    "orig_exact_matched_faces = set(a for a,_ in exact_matching.face_matches)\n",
    "var_exact_matched_faces = set(b for _,b in exact_matching.face_matches)\n",
    "orig_f_id = [i for i,f in enumerate(orig_part.brep.nodes.faces) if f.export_id == orig_face0][0]\n",
    "var_f_id = [i for i,f in enumerate(var_part.brep.nodes.faces) if f.export_id == var_face0][0]\n",
    "orig_f_ids = [i for i,f in enumerate(orig_part.brep.nodes.faces) if f.export_id in orig_exact_matched_faces]\n",
    "var_f_ids = [i for i,f in enumerate(var_part.brep.nodes.faces) if f.export_id in var_exact_matched_faces]\n",
    "face_colors = np.concatenate([(orig_part.mesh_topology.face_to_topology == orig_f_id).astype(int),\n",
    "(var_part.mesh_topology.face_to_topology == var_f_id).astype(int)\n",
    "]).astype(float)\n",
    "\n",
    "all_face_colors = np.concatenate(\n",
    "[\n",
    "np.array([1.0 if i in orig_f_ids else 0.0 for i in orig_part.mesh_topology.face_to_topology]),\n",
    "np.array([1.0 if i in var_f_ids else 0.0 for i in var_part.mesh_topology.face_to_topology])\n",
    "]\n",
    ")\n",
    "print(geo_data.iloc[ex.original_index].link_orig)\n",
    "print(geo_data.iloc[ex.original_index].link_var)\n",
    "def joint_plot(orig_part, var_part, face_colors, offset_idx = 0):\n",
    "\n",
    "    offset_a = orig_part.mesh.V.max(axis=0)\n",
    "    offset_b = var_part.mesh.V.min(axis=0)\n",
    "\n",
    "    for i in range(3):\n",
    "        if i != offset_idx:\n",
    "            offset_a[i] = 0\n",
    "            offset_a[i] = 0\n",
    "    offset_a *= 1.05\n",
    "    offset_b *= 1.05\n",
    "\n",
    "    return mp.plot(\n",
    "        np.concatenate(\n",
    "            [\n",
    "                orig_part.mesh.V + offset_a, \n",
    "                var_part.mesh.V + offset_b\n",
    "            ]),\n",
    "        np.concatenate(\n",
    "            [\n",
    "                orig_part.mesh.F, \n",
    "                (var_part.mesh.F + orig_part.mesh.V.shape[0])\n",
    "            ]),\n",
    "        c = face_colors\n",
    "    )\n",
    "joint_plot(orig_part, var_part, face_colors)"
   ]
  },
  {
   "cell_type": "code",
   "execution_count": null,
   "metadata": {},
   "outputs": [],
   "source": []
  },
  {
   "cell_type": "code",
   "execution_count": null,
   "metadata": {},
   "outputs": [],
   "source": []
  },
  {
   "cell_type": "code",
   "execution_count": null,
   "metadata": {},
   "outputs": [],
   "source": []
  },
  {
   "cell_type": "code",
   "execution_count": null,
   "metadata": {},
   "outputs": [],
   "source": []
  },
  {
   "cell_type": "code",
   "execution_count": null,
   "metadata": {},
   "outputs": [],
   "source": []
  },
  {
   "cell_type": "code",
   "execution_count": null,
   "metadata": {},
   "outputs": [],
   "source": []
  },
  {
   "cell_type": "code",
   "execution_count": null,
   "metadata": {},
   "outputs": [],
   "source": []
  },
  {
   "cell_type": "code",
   "execution_count": null,
   "metadata": {},
   "outputs": [],
   "source": []
  },
  {
   "cell_type": "code",
   "execution_count": null,
   "metadata": {},
   "outputs": [],
   "source": [
    "def joint_plot(orig_part, var_part, face_colors):\n",
    "    return mp.plot(\n",
    "        np.concatenate(\n",
    "            [\n",
    "                orig_part.mesh.V, \n",
    "                (var_part.mesh.V)\n",
    "            ]),\n",
    "        np.concatenate(\n",
    "            [\n",
    "                orig_part.mesh.F, \n",
    "                (var_part.mesh.F + orig_part.mesh.V.shape[0])\n",
    "            ]),\n",
    "        c = np.concatenate([np.zeros(orig_part.mesh.F.shape[0]), np.ones(var_part.mesh.F.shape[0])]).astype(float)\n",
    "    )"
   ]
  },
  {
   "cell_type": "code",
   "execution_count": null,
   "metadata": {},
   "outputs": [],
   "source": [
    "face_colors = np.concatenate([(orig_part.mesh_topology.face_to_topology == orig_f_id).astype(int),\n",
    "(var_part.mesh_topology.face_to_topology == var_f_id).astype(int)\n",
    "]).astype(float)"
   ]
  },
  {
   "cell_type": "code",
   "execution_count": null,
   "metadata": {},
   "outputs": [],
   "source": [
    "len(exact_matching.face_matches)"
   ]
  },
  {
   "cell_type": "code",
   "execution_count": null,
   "metadata": {},
   "outputs": [],
   "source": [
    "orig_faces = set(f.export_id for f in orig_part.brep.nodes.faces)"
   ]
  },
  {
   "cell_type": "code",
   "execution_count": null,
   "metadata": {},
   "outputs": [],
   "source": [
    "[(a,b) for a,b in gt_match if a in orig_faces]"
   ]
  },
  {
   "cell_type": "code",
   "execution_count": null,
   "metadata": {},
   "outputs": [],
   "source": [
    "len(orig_part.mesh.F) + len(var_part.mesh.F)"
   ]
  },
  {
   "cell_type": "code",
   "execution_count": null,
   "metadata": {},
   "outputs": [],
   "source": [
    "len(all_face_colors)"
   ]
  },
  {
   "cell_type": "code",
   "execution_count": null,
   "metadata": {},
   "outputs": [],
   "source": []
  },
  {
   "cell_type": "code",
   "execution_count": null,
   "metadata": {},
   "outputs": [],
   "source": [
    "zf = ZipFile('../data/TopoandGeoV2FullRunWith100SamplesBaseline.zip','r')"
   ]
  },
  {
   "cell_type": "code",
   "execution_count": null,
   "metadata": {},
   "outputs": [],
   "source": [
    "[n for n in zf.namelist() if n.endswith('.csv')]"
   ]
  },
  {
   "cell_type": "code",
   "execution_count": null,
   "metadata": {},
   "outputs": [],
   "source": [
    "with zf.open('data/baseline/allVariationsWithBaseline.csv','r') as f:\n",
    "    variations = pd.read_csv(f)"
   ]
  },
  {
   "cell_type": "code",
   "execution_count": null,
   "metadata": {},
   "outputs": [],
   "source": [
    "data = variations[:100]\n",
    "data = data[data.fail == 0]"
   ]
  },
  {
   "cell_type": "code",
   "execution_count": null,
   "metadata": {},
   "outputs": [],
   "source": [
    "incomplete = []\n",
    "incompatible = []\n",
    "diff_geo = []\n",
    "\n",
    "m_f = []\n",
    "m_e = []\n",
    "m_v = []\n",
    "\n",
    "A = []\n",
    "B = []\n",
    "M = []\n",
    "\n",
    "for i in tqdm(range(len(data))):\n",
    "    d = data.iloc[i]\n",
    "    path_a = 'data/BrepsWithReference/' + d.ps_orig\n",
    "    path_b = 'data/baseline/' + d.baselineOrig\n",
    "    \n",
    "    with zf.open(path_a,'r') as f:\n",
    "        part_data_a = f.read().decode('utf-8')\n",
    "    with zf.open(path_b,'r') as f:\n",
    "        part_data_b = f.read().decode('utf-8')\n",
    "\n",
    "    p_a = Part(part_data_a)\n",
    "    p_b = Part(part_data_b)\n",
    "\n",
    "    parts_have_same_num = len(p_a.brep.nodes.faces) == len(p_b.brep.nodes.faces) and len(p_a.brep.nodes.edges) == len(p_b.brep.nodes.edges) and len(p_a.brep.nodes.vertices) == len(p_b.brep.nodes.vertices)\n",
    "\n",
    "    matching = match_parts(part_data_a, part_data_b, True)\n",
    "    complete_matching = len(matching.face_matches) == len(p_a.brep.nodes.faces) and len(matching.edge_matches) == len(p_a.brep.nodes.edges) and len(matching.vertex_matches) == len(p_a.brep.nodes.vertices)\n",
    "\n",
    "    n_face_matches_missing = -len(matching.face_matches) + len(p_a.brep.nodes.faces)\n",
    "    n_edge_matches_missing = -len(matching.edge_matches) + len(p_a.brep.nodes.edges)\n",
    "    n_vertex_matches_missing =-len(matching.vertex_matches) + len(p_a.brep.nodes.vertices)\n",
    "\n",
    "    m_f.append(n_face_matches_missing)\n",
    "    m_e.append(n_edge_matches_missing)\n",
    "    m_v.append(n_vertex_matches_missing)\n",
    "\n",
    "    exact_geo = (p_a.mesh.V == p_b.mesh.V).all()\n",
    "\n",
    "    if not parts_have_same_num:\n",
    "        incompatible.append(i)\n",
    "    if not complete_matching:\n",
    "        incomplete.append(i)\n",
    "\n",
    "    if not exact_geo:\n",
    "        diff_geo.append(i)\n",
    "\n",
    "    A.append(p_a)\n",
    "    B.append(p_b)\n",
    "    M.append(matching)"
   ]
  },
  {
   "cell_type": "code",
   "execution_count": null,
   "metadata": {},
   "outputs": [],
   "source": [
    "zf.close()"
   ]
  },
  {
   "cell_type": "code",
   "execution_count": null,
   "metadata": {},
   "outputs": [],
   "source": [
    "incomplete"
   ]
  },
  {
   "cell_type": "code",
   "execution_count": null,
   "metadata": {},
   "outputs": [],
   "source": [
    "[(i,e) for i,e in enumerate(m_e) if e < 0]"
   ]
  },
  {
   "cell_type": "code",
   "execution_count": null,
   "metadata": {},
   "outputs": [],
   "source": [
    "k = 24\n",
    "p_a = A[k]\n",
    "p_b = B[k]\n",
    "matching = M[k]"
   ]
  },
  {
   "cell_type": "code",
   "execution_count": null,
   "metadata": {},
   "outputs": [],
   "source": [
    "e1 = [(id,count) for id,count in Counter([m[0] for m in matching.edge_matches]).items() if count > 1][0][0]\n",
    "e2 = [b for (a,b) in matching.edge_matches if a == e1 and b != e1][0]\n",
    "e1_i = [i for i,e in enumerate(p_a.brep.nodes.edges) if e.export_id == e1][0]\n",
    "e2_i = [i for i,e in enumerate(p_a.brep.nodes.edges) if e.export_id == e2][0]"
   ]
  },
  {
   "cell_type": "code",
   "execution_count": null,
   "metadata": {},
   "outputs": [],
   "source": [
    "E = []\n",
    "for i in range(p_a.mesh_topology.edge_to_topology.shape[0]):\n",
    "    for j in range(p_a.mesh_topology.edge_to_topology.shape[1]):\n",
    "        if p_a.mesh_topology.edge_to_topology[i,j] == e1_i:\n",
    "            E.append([p_a.mesh.F[i,(j-1)%3],p_a.mesh.F[i,j]])\n",
    "E = np.array(E)\n",
    "mp.plot(p_a.mesh.V, p_a.mesh.F,return_plot=True).add_edges(p_a.mesh.V, E)"
   ]
  },
  {
   "cell_type": "code",
   "execution_count": null,
   "metadata": {},
   "outputs": [],
   "source": [
    "E = []\n",
    "for i in range(p_a.mesh_topology.edge_to_topology.shape[0]):\n",
    "    for j in range(p_a.mesh_topology.edge_to_topology.shape[1]):\n",
    "        if p_a.mesh_topology.edge_to_topology[i,j] == e2_i:\n",
    "            E.append([p_a.mesh.F[i,(j-1)%3],p_a.mesh.F[i,j]])\n",
    "E = np.array(E)\n",
    "mp.plot(p_a.mesh.V, p_a.mesh.F,return_plot=True).add_edges(p_a.mesh.V, E)"
   ]
  },
  {
   "cell_type": "code",
   "execution_count": null,
   "metadata": {},
   "outputs": [],
   "source": []
  },
  {
   "cell_type": "code",
   "execution_count": null,
   "metadata": {},
   "outputs": [],
   "source": []
  },
  {
   "cell_type": "code",
   "execution_count": null,
   "metadata": {},
   "outputs": [],
   "source": [
    "E27"
   ]
  },
  {
   "cell_type": "code",
   "execution_count": null,
   "metadata": {},
   "outputs": [],
   "source": [
    "E27 = []\n",
    "for t,k in edges_27:\n",
    "    v1 = p_a.mesh.F[i][(k-1)%3]\n",
    "    v2 = p_a.mesh.F[i][(k)]\n",
    "    E27.append([v1,v2])\n",
    "E27 = np.array(E27)\n"
   ]
  },
  {
   "cell_type": "code",
   "execution_count": null,
   "metadata": {},
   "outputs": [],
   "source": []
  },
  {
   "cell_type": "code",
   "execution_count": null,
   "metadata": {},
   "outputs": [],
   "source": []
  },
  {
   "cell_type": "code",
   "execution_count": null,
   "metadata": {},
   "outputs": [],
   "source": [
    "M[21].edge_matches"
   ]
  },
  {
   "cell_type": "code",
   "execution_count": null,
   "metadata": {},
   "outputs": [],
   "source": [
    "min(m_e)"
   ]
  },
  {
   "cell_type": "code",
   "execution_count": null,
   "metadata": {},
   "outputs": [],
   "source": [
    "np.max(A[23].mesh.V - B[23].mesh.V)"
   ]
  },
  {
   "cell_type": "code",
   "execution_count": null,
   "metadata": {},
   "outputs": [],
   "source": [
    "len(part_data_a)"
   ]
  },
  {
   "cell_type": "code",
   "execution_count": null,
   "metadata": {},
   "outputs": [],
   "source": [
    "len(M[21].vertex_matches)"
   ]
  },
  {
   "cell_type": "code",
   "execution_count": null,
   "metadata": {},
   "outputs": [],
   "source": [
    "len(A[21].brep.nodes.vertices)"
   ]
  },
  {
   "cell_type": "code",
   "execution_count": null,
   "metadata": {},
   "outputs": [],
   "source": [
    "def highlight_edge_examples(ex, offset_dir=0):\n",
    "    with ZipFile('../data/GeoFullSet.zip','r') as zf:\n",
    "        path_orig = 'data/BrepsWithReference/' + ex.ps_orig\n",
    "        path_var = 'data/BrepsWithReference/' + ex.ps_var\n",
    "        path_match = 'data/Matches/' + ex.matchFile\n",
    "\n",
    "        with zf.open(path_orig, 'r') as f:\n",
    "            orig_data = f.read().decode('utf-8')\n",
    "        with zf.open(path_var, 'r') as f:\n",
    "            var_data = f.read().decode('utf-8')\n",
    "        with zf.open(path_match, 'r') as f:\n",
    "            gt_match = json.load(f)\n",
    "        gt_match = [(m['val1'], m['val2']) for m in gt_match.values()]\n",
    "        orig_part = Part(orig_data)\n",
    "        var_part = Part(var_data)\n",
    "        exact_matching = match_parts(orig_data, var_data, True)\n",
    "\n",
    "    false_positives = set(exact_matching.edge_matches) - set(gt_match)\n",
    "    print('False Positives:')\n",
    "    print(false_positives)\n",
    "\n",
    "\n",
    "    #orig_edge_0, var_edge_0 = list(false_positives)[0]\n",
    "\n",
    "    orig_fp_edges = set(a for a,b in false_positives)\n",
    "    var_fp_edges = set(b for a,b in false_positives)\n",
    "\n",
    "    orig_exact_matched_edges = set(a for a,_ in exact_matching.edge_matches)\n",
    "    var_exact_matched_edges = set(b for _,b in exact_matching.edge_matches)\n",
    "\n",
    "    #orig_e_id = [i for i,f in enumerate(orig_part.brep.nodes.edges) if f.export_id == orig_vert_0][0]\n",
    "    #var_e_id = [i for i,f in enumerate(var_part.brep.nodes.edges) if f.export_id == var_vert_0][0]\n",
    "\n",
    "    orig_e_ids = [i for i,f in enumerate(orig_part.brep.nodes.edges) if f.export_id in orig_fp_edges]\n",
    "    var_e_ids = [i for i,f in enumerate(var_part.brep.nodes.edges) if f.export_id in var_fp_edges]\n",
    "\n",
    "\n",
    "\n",
    "    #orig_fp_e = [i for i,f in enumerate(orig_part.brep.nodes.edges) if f.export_id in orig_fp_verts]\n",
    "    #var_fp_e = [i for i,f in enumerate(var_part.brep.nodes.edges) if f.export_id in var_fp_verts]\n",
    "\n",
    "    print(geo_data.iloc[ex.original_index].link_orig)\n",
    "    print(geo_data.iloc[ex.original_index].link_var)\n",
    "\n",
    "    def joint_plot_edges(orig_part, var_part, e_ids_orig, e_ids_var, offset_idx = 0):\n",
    "\n",
    "        offset_a = orig_part.mesh.V.max(axis=0)\n",
    "        offset_b = var_part.mesh.V.min(axis=0)\n",
    "\n",
    "        for i in range(3):\n",
    "            if i != offset_idx:\n",
    "                offset_a[i] = 0\n",
    "                offset_b[i] = 0\n",
    "        offset_a *= 1.05\n",
    "        offset_b *= 1.05\n",
    "\n",
    "        e_ids_orig = set(e_ids_orig)\n",
    "        e_ids_var = set(e_ids_var)\n",
    "\n",
    "        E1 = []\n",
    "        for i in range(orig_part.mesh_topology.edge_to_topology.shape[0]):\n",
    "            for j in range(orig_part.mesh_topology.edge_to_topology.shape[1]):\n",
    "                if orig_part.mesh_topology.edge_to_topology[i,j] in e_ids_orig:\n",
    "                    E1.append([orig_part.mesh.F[i,(j-1)%3],orig_part.mesh.F[i,j]])\n",
    "        E2 = []\n",
    "        for i in range(var_part.mesh_topology.edge_to_topology.shape[0]):\n",
    "            for j in range(var_part.mesh_topology.edge_to_topology.shape[1]):\n",
    "                if var_part.mesh_topology.edge_to_topology[i,j] in e_ids_var:\n",
    "                    E2.append([var_part.mesh.F[i,(j-1)%3],var_part.mesh.F[i,j]])\n",
    "\n",
    "        E1 = np.array(E1)\n",
    "        E2 = np.array(E2)\n",
    "\n",
    "        E = np.concatenate([E1, E2+orig_part.mesh.V.shape[0]],axis=0)\n",
    "\n",
    "        V = np.concatenate(\n",
    "                [\n",
    "                    orig_part.mesh.V + offset_a,\n",
    "                    var_part.mesh.V + offset_b\n",
    "                ])\n",
    "        F = np.concatenate(\n",
    "                [\n",
    "                    orig_part.mesh.F,\n",
    "                    (var_part.mesh.F + orig_part.mesh.V.shape[0])\n",
    "                ])\n",
    "        return mp.plot(\n",
    "            V, F, return_plot=True\n",
    "        ).add_edges(V, E, shading={'point_size':.005})\n",
    "\n",
    "    joint_plot_edges(orig_part, var_part, orig_e_ids, var_e_ids, offset_dir)"
   ]
  },
  {
   "cell_type": "code",
   "execution_count": null,
   "metadata": {},
   "outputs": [],
   "source": [
    "ex = exact_match_precision[exact_match_precision.edge_precision < 1].iloc[17]\n",
    "highlight_edge_examples(ex, 1)"
   ]
  },
  {
   "cell_type": "code",
   "execution_count": null,
   "metadata": {},
   "outputs": [],
   "source": [
    "def compute_edge_precision(ex):\n",
    "    with ZipFile('../data/GeoFullSet.zip','r') as zf:\n",
    "        path_orig = 'data/BrepsWithReference/' + ex.ps_orig\n",
    "        path_var = 'data/BrepsWithReference/' + ex.ps_var\n",
    "        path_match = 'data/Matches/' + ex.matchFile\n",
    "\n",
    "        with zf.open(path_orig, 'r') as f:\n",
    "            orig_data = f.read().decode('utf-8')\n",
    "        with zf.open(path_var, 'r') as f:\n",
    "            var_data = f.read().decode('utf-8')\n",
    "        with zf.open(path_match, 'r') as f:\n",
    "            gt_match = json.load(f)\n",
    "        gt_match = [(m['val1'], m['val2']) for m in gt_match.values()]\n",
    "        orig_part = Part(orig_data)\n",
    "        var_part = Part(var_data)\n",
    "        exact_matching = match_parts(orig_data, var_data, True)\n",
    "\n",
    "    false_positives = set(exact_matching.edge_matches) - set(gt_match)\n",
    "    return (len(exact_matching.edge_matches) - len(false_positives)) / len(exact_matching.edge_matches)\n",
    "\n",
    "redone_edge_precisions = []\n",
    "edge_fails = exact_match_precision[exact_match_precision.edge_precision < 1]\n",
    "for i in tqdm(range(len(edge_fails))):\n",
    "    ex = edge_fails.iloc[i]\n",
    "    redone_edge_precisions.append(compute_edge_precision(ex))"
   ]
  },
  {
   "cell_type": "code",
   "execution_count": null,
   "metadata": {},
   "outputs": [],
   "source": [
    "sum(np.array(redone_edge_precisions) == 1) / len(redone_edge_precisions)"
   ]
  },
  {
   "cell_type": "code",
   "execution_count": null,
   "metadata": {},
   "outputs": [],
   "source": [
    "(np.array(redone_edge_precisions) - edge_fails.edge_precision > 0).sum()"
   ]
  },
  {
   "cell_type": "code",
   "execution_count": null,
   "metadata": {},
   "outputs": [],
   "source": []
  }
 ],
 "metadata": {
  "kernelspec": {
   "display_name": "Python 3 (ipykernel)",
   "language": "python",
   "name": "python3"
  },
  "language_info": {
   "codemirror_mode": {
    "name": "ipython",
    "version": 3
   },
   "file_extension": ".py",
   "mimetype": "text/x-python",
   "name": "python",
   "nbconvert_exporter": "python",
   "pygments_lexer": "ipython3",
   "version": "3.9.15"
  },
  "vscode": {
   "interpreter": {
    "hash": "87142ede9042d04f934af2ae171157c789b6aae7f3fe10d44294683606c509dd"
   }
  }
 },
 "nbformat": 4,
 "nbformat_minor": 4
}
