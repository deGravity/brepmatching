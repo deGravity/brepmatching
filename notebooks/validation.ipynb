{
 "cells": [
  {
   "cell_type": "code",
   "execution_count": 1,
   "metadata": {},
   "outputs": [],
   "source": [
    "import numpy as np\n",
    "import ipywidgets as iw\n",
    "from brepmatching.data import BRepMatchingDataset, load_data\n",
    "import torch\n",
    "import meshplot\n",
    "from IPython.display import clear_output, display, HTML\n",
    "from functools import partial, reduce\n",
    "import operator\n",
    "import pandas as ps"
   ]
  },
  {
   "cell_type": "code",
   "execution_count": 2,
   "metadata": {},
   "outputs": [],
   "source": [
    "data_path = '/fast/jamesn8/brepmatching/ExpertDataWithBaseline.zip'\n",
    "data_cache = '/fast/jamesn8/brepmatching/ExpertDataWithBaseline.pt'\n",
    "\n",
    "cache_data = load_data(data_path, data_cache)\n",
    "data = BRepMatchingDataset(cache_data, mode='train', test_size=0, val_size=0) # TODO: make sure it's using the correct set/groups"
   ]
  },
  {
   "cell_type": "code",
   "execution_count": 7,
   "metadata": {
    "tags": []
   },
   "outputs": [
    {
     "data": {
      "application/vnd.jupyter.widget-view+json": {
       "model_id": "1670f4bb52034a508adacf38bfef7a25",
       "version_major": 2,
       "version_minor": 0
      },
      "text/plain": [
       "HBox(children=(Button(description='Previous', style=ButtonStyle()), Button(description='Next', style=ButtonSty…"
      ]
     },
     "metadata": {},
     "output_type": "display_data"
    },
    {
     "data": {
      "application/vnd.jupyter.widget-view+json": {
       "model_id": "b297c0249a3245568f463ae4e0cd87ca",
       "version_major": 2,
       "version_minor": 0
      },
      "text/plain": [
       "HBox(children=(Button(description='Correct', style=ButtonStyle()), Button(description='Incorrect', style=Butto…"
      ]
     },
     "metadata": {},
     "output_type": "display_data"
    },
    {
     "data": {
      "application/vnd.jupyter.widget-view+json": {
       "model_id": "3494a6cd6c1e4879b0c455b1cae44417",
       "version_major": 2,
       "version_minor": 0
      },
      "text/plain": [
       "Output(layout=Layout(border_bottom='1px solid black', border_left='1px solid black', border_right='1px solid b…"
      ]
     },
     "metadata": {},
     "output_type": "display_data"
    }
   ],
   "source": [
    "button_next = iw.Button(description='Next')\n",
    "button_skip = iw.Button(description='Jump to next part')\n",
    "button_skip_back = iw.Button(description='Jump to previous part')\n",
    "button_prev = iw.Button(description='Previous')\n",
    "button_correct = iw.Button(description='Correct')\n",
    "button_incorrect = iw.Button(description='Incorrect')\n",
    "\n",
    "data_ind = 0\n",
    "topo_ind = 0\n",
    "topo_type = 'faces'\n",
    "out = iw.Output(layout={'border': '1px solid black'})\n",
    "\n",
    "def get_choice_indices(brep, topo_type):\n",
    "    #TODO: Also mask out from the choices the topologies for which predictions agree (once you have those)\n",
    "    num_left_topos = getattr(brep, 'left_' + topo_type).shape[0]\n",
    "    num_right_topos = getattr(brep, 'right_' + topo_type).shape[0]\n",
    "    exact_matches = getattr(brep, 'bl_exact_' + topo_type + '_matches')\n",
    "    right_matchless_mask = torch.ones(num_right_topos, dtype=torch.int64)\n",
    "    right_matchless_mask[exact_matches[1]] = 0\n",
    "    indices = right_matchless_mask.nonzero()\n",
    "    return indices\n",
    "\n",
    "@out.capture(clear_output=True, wait=True)\n",
    "def display_current(brep, topo_ind, topo_type):\n",
    "    num_right_topos = getattr(brep, 'right_' + topo_type).shape[0]\n",
    "    num_left_topos = getattr(brep, 'left_' + topo_type).shape[0]\n",
    "    choice_indices = get_choice_indices(brep, topo_type)\n",
    "    display(iw.Label(f'brep index: {data_ind+1} / {len(data)}; topo index: {topo_ind+1} / {len(choice_indices)} (id {choice_indices[topo_ind].item()})'))\n",
    "    exact_matches = getattr(brep, 'bl_exact_' + topo_type + '_matches')\n",
    "    baseline_matches = getattr(brep, 'os_bl_'+ topo_type +'_matches')\n",
    "    \n",
    "    right_exact_matched_mask = torch.zeros(num_right_topos, dtype=torch.int64)\n",
    "    left_exact_matched_mask = torch.zeros(num_left_topos, dtype=torch.int64)\n",
    "    right_exact_matched_mask[exact_matches[1]] = 1\n",
    "    left_exact_matched_mask[exact_matches[0]] = 1\n",
    "    \n",
    "    if topo_type == 'faces':\n",
    "        topo2match = torch.full([num_right_topos], -1)\n",
    "        topo2match[baseline_matches[1]] = torch.arange(baseline_matches.shape[1])\n",
    "        baseline_match_ind = topo2match[choice_indices[topo_ind]]\n",
    "        has_baseline_match = baseline_match_ind >= 0\n",
    "        has_predicted_match = False #TODO: Get predicted matches\n",
    "        \n",
    "        c_l = torch.full([brep.left_F.shape[1],3], 0.25)\n",
    "        c_r = torch.full([brep.right_F.shape[1],3], 0.25)\n",
    "\n",
    "        #color all exact matches\n",
    "        c_l[left_exact_matched_mask[brep.left_F_to_faces[0]] > 0] = torch.tensor([0.5, 0.5, 1.0])\n",
    "        c_r[right_exact_matched_mask[brep.right_F_to_faces[0]] > 0] = torch.tensor([0.5, 0.5, 1.0])\n",
    " \n",
    "        c_r[brep.right_F_to_faces[0] == choice_indices[topo_ind]] = torch.tensor([0, 1.0, 0])\n",
    "        \n",
    "        if has_baseline_match:\n",
    "            baseline_match = baseline_matches[0, baseline_match_ind]\n",
    "            c_l[brep.left_F_to_faces[0] == baseline_match] = torch.tensor([1, 0.25, 0])\n",
    "            \n",
    "        c_l = c_l.numpy()\n",
    "        c_r = c_r.numpy()\n",
    "\n",
    "        shading = {\"flat\":True, # Flat or smooth shading of triangles\n",
    "               #\"wireframe\":True, \"wire_width\": 0.03, \"wire_color\": \"black\", # Wireframe rendering\n",
    "               \"width\": 400, \"height\": 400, # Size of the viewer canvas\n",
    "               \"antialias\": True, # Antialising, might not work on all GPUs\n",
    "               \"scale\": 2.0, # Scaling of the model\n",
    "               \"side\": \"DoubleSide\", # FrontSide, BackSide or DoubleSide rendering of the triangles\n",
    "               \"colormap\": \"viridis\", \"normalize\": [None, None], # Colormap and normalization for colors\n",
    "               \"background\": \"#ffffff\", # Background color of the canvas\n",
    "               \"line_width\": 1.0, \"line_color\": \"black\", # Line properties of overlay lines\n",
    "               \"bbox\": False, # Enable plotting of bounding box\n",
    "               \"point_color\": \"red\", \"point_size\": 0.01 # Point properties of overlay points\n",
    "              }\n",
    "        \n",
    "\n",
    "        V_l = brep.left_V.numpy()\n",
    "        V_r = brep.right_V.numpy()\n",
    "    else:\n",
    "        return\n",
    "    \n",
    "    maxdim = max(brep.left_V.max(0)[0] - brep.left_V.min(0)[0]).item()\n",
    "    display(iw.Label(value='Modified part'))\n",
    "    display(iw.Label(value='Blue: exact matches; Green: Selected topology'))\n",
    "    meshplot.plot(V_r/maxdim, brep.right_F.T.numpy(), c=c_r, shading=shading)\n",
    "\n",
    "    display(iw.Label(value='Original part'))\n",
    "    display(iw.Label(value='Blue: exact matches'))\n",
    "    display(iw.Label(value=f'Predicted match: {\"EXISTS (green)\" if has_predicted_match else \"NONE\"}'))\n",
    "    display(iw.Label(value=f'Baseline match: {\"EXISTS (orange)\" if has_baseline_match else \"NONE\"}'))\n",
    "    p = meshplot.plot(V_l/maxdim, brep.left_F.T.numpy(), c=c_l, shading=shading, return_plot=True)\n",
    "\n",
    "def advance(b, advance=True, skip=False):\n",
    "    global data_ind\n",
    "    global topo_ind\n",
    "    global topo_type\n",
    "    brep = data[data_ind]\n",
    "    indices = get_choice_indices(brep, topo_type)\n",
    "    if skip:\n",
    "        data_ind += (1 if advance else -1)\n",
    "        brep = data[data_ind]\n",
    "        topo_ind = 0\n",
    "    else:\n",
    "        topo_ind += (1 if advance else -1)\n",
    "        if topo_ind < 0:\n",
    "            data_ind -= 1\n",
    "            brep = data[data_ind]\n",
    "            indices = get_choice_indices(brep, topo_type)\n",
    "            topo_ind = len(indices) - 1\n",
    "        elif topo_ind >= len(indices):\n",
    "            data_ind += 1\n",
    "            brep = data[data_ind]\n",
    "            topo_ind = 0\n",
    "    display_current(brep, topo_ind, topo_type)\n",
    "\n",
    "def record_result(b, result):\n",
    "    #TODO: Write to data frame and save\n",
    "    pass\n",
    "    advance(b)\n",
    "\n",
    "button_next.on_click(partial(advance, advance=True))\n",
    "button_prev.on_click(partial(advance, advance=False))\n",
    "button_skip.on_click(partial(advance, advance=True, skip=True))\n",
    "button_skip_back.on_click(partial(advance, advance=False, skip=True))\n",
    "button_correct.on_click(partial(record_result, True))\n",
    "button_incorrect.on_click(partial(record_result, False))\n",
    "display(iw.HBox([button_prev, button_next, button_skip_back, button_skip]))\n",
    "display(iw.HBox([button_correct, button_incorrect]))\n",
    "display_current(data[data_ind], topo_ind, topo_type)\n",
    "display(out)"
   ]
  },
  {
   "cell_type": "code",
   "execution_count": 12,
   "metadata": {},
   "outputs": [
    {
     "data": {
      "text/plain": [
       "tensor([True])"
      ]
     },
     "execution_count": 12,
     "metadata": {},
     "output_type": "execute_result"
    }
   ],
   "source": [
    "brep."
   ]
  },
  {
   "cell_type": "code",
   "execution_count": null,
   "metadata": {},
   "outputs": [],
   "source": []
  }
 ],
 "metadata": {
  "kernelspec": {
   "display_name": "Python 3 (ipykernel)",
   "language": "python",
   "name": "python3"
  },
  "language_info": {
   "codemirror_mode": {
    "name": "ipython",
    "version": 3
   },
   "file_extension": ".py",
   "mimetype": "text/x-python",
   "name": "python",
   "nbconvert_exporter": "python",
   "pygments_lexer": "ipython3",
   "version": "3.9.15"
  },
  "vscode": {
   "interpreter": {
    "hash": "0716fbdb899607ce3e4b331caf1fe64bcaced2c385f39b3e7061ffde5ef9170e"
   }
  }
 },
 "nbformat": 4,
 "nbformat_minor": 4
}
