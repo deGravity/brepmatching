{
 "cells": [
  {
   "cell_type": "code",
   "execution_count": 1,
   "metadata": {},
   "outputs": [],
   "source": [
    "import numpy as np\n",
    "import ipywidgets as iw\n",
    "from brepmatching.data import BRepMatchingDataset, load_data\n",
    "import torch\n",
    "import meshplot\n",
    "from IPython.display import clear_output, display, HTML"
   ]
  },
  {
   "cell_type": "code",
   "execution_count": 2,
   "metadata": {},
   "outputs": [],
   "source": [
    "data_path = '/fast/jamesn8/brepmatching/TopoV2FullRun.zip'\n",
    "data_cache = '/fast/jamesn8/brepmatching/TopoV2FullRun.pt'\n",
    "\n",
    "cache_data = load_data(data_path, data_cache)\n",
    "data = BRepMatchingDataset(cache_data, mode='test') # TODO: make sure it's using the correct set/groups"
   ]
  },
  {
   "cell_type": "code",
   "execution_count": 13,
   "metadata": {},
   "outputs": [],
   "source": [
    "out = iw.Output(layout={'border': '1px solid black'})\n",
    "\n",
    "@out.capture(clear_output=True, wait=True)\n",
    "def process_sample(data_ind):\n",
    "    brep = data[data_ind]\n",
    "    indices = {}\n",
    "    for topo_type in ['faces', 'edges', 'vertices']:\n",
    "        num_right_topos = getattr(brep, 'right_' + topo_type).shape[0]\n",
    "        exact_matches = getattr(brep, 'bl_exact_' + topo_type + '_matches')\n",
    "        right_matchless_mask = torch.ones(num_right_topos, dtype=torch.int64)\n",
    "        right_matchless_mask[exact_matches[1]] = 0\n",
    "        #TODO: Also mask out the ones for which predictions agree (once you have those)\n",
    "        #TODO: Baseline heuristic (how to obtain this?)\n",
    "        indices[topo_type] = right_matchless_mask.nonzero()\n",
    "\n",
    "    plot_left = meshplot.plot(brep.left_V.numpy(), brep.left_F.T.numpy())\n",
    "    plot_right = meshplot.plot(brep.right_V.numpy(), brep.right_F.T.numpy())\n",
    "    display(plot_left)\n",
    "    display(plot_right)\n",
    "    #html_left = plot_left.to_html(imports=True, html_frame=False)\n",
    "    #html_right = plot_right.to_html(imports=True, html_frame=False)\n",
    "    #display(HTML(html_left))\n",
    "    #display(HTML(html_right))\n",
    "\n"
   ]
  },
  {
   "cell_type": "code",
   "execution_count": 14,
   "metadata": {},
   "outputs": [
    {
     "data": {
      "application/vnd.jupyter.widget-view+json": {
       "model_id": "43011ed256024384a190077338c2d2ac",
       "version_major": 2,
       "version_minor": 0
      },
      "text/plain": [
       "Button(description='Next', style=ButtonStyle())"
      ]
     },
     "metadata": {},
     "output_type": "display_data"
    },
    {
     "data": {
      "application/vnd.jupyter.widget-view+json": {
       "model_id": "57fdbe7ba5fb4b4086759b95d826b3c2",
       "version_major": 2,
       "version_minor": 0
      },
      "text/plain": [
       "Output(layout=Layout(border_bottom='1px solid black', border_left='1px solid black', border_right='1px solid b…"
      ]
     },
     "metadata": {},
     "output_type": "display_data"
    }
   ],
   "source": [
    "curr_ind = 0\n",
    "\n",
    "button = iw.Button(description='Next')\n",
    "def on_button_clicked(b):\n",
    "    global curr_ind\n",
    "    #global button\n",
    "\n",
    "    #out.clear_output()\n",
    "    #display(button)\n",
    "\n",
    "    curr_ind += 1 #TODO: Start correctly\n",
    "    process_sample(curr_ind)\n",
    "\n",
    "button.on_click(on_button_clicked)\n",
    "display(button)\n",
    "display(out)"
   ]
  },
  {
   "cell_type": "code",
   "execution_count": null,
   "metadata": {},
   "outputs": [],
   "source": []
  }
 ],
 "metadata": {
  "kernelspec": {
   "display_name": "Python 3 (ipykernel)",
   "language": "python",
   "name": "python3"
  },
  "language_info": {
   "codemirror_mode": {
    "name": "ipython",
    "version": 3
   },
   "file_extension": ".py",
   "mimetype": "text/x-python",
   "name": "python",
   "nbconvert_exporter": "python",
   "pygments_lexer": "ipython3",
   "version": "3.9.15"
  },
  "vscode": {
   "interpreter": {
    "hash": "0716fbdb899607ce3e4b331caf1fe64bcaced2c385f39b3e7061ffde5ef9170e"
   }
  }
 },
 "nbformat": 4,
 "nbformat_minor": 4
}
