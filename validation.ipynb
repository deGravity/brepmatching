{
 "cells": [
  {
   "cell_type": "code",
   "execution_count": 24,
   "metadata": {},
   "outputs": [],
   "source": [
    "import numpy as np\n",
    "import ipywidgets as iw\n",
    "from brepmatching.data import BRepMatchingDataset, load_data\n",
    "import torch\n",
    "import meshplot\n",
    "from IPython.display import clear_output, display, HTML\n",
    "from functools import partial"
   ]
  },
  {
   "cell_type": "code",
   "execution_count": 2,
   "metadata": {},
   "outputs": [],
   "source": [
    "data_path = '/fast/jamesn8/brepmatching/TopoV2FullRun.zip'\n",
    "data_cache = '/fast/jamesn8/brepmatching/TopoV2FullRun.pt'\n",
    "\n",
    "cache_data = load_data(data_path, data_cache)\n",
    "data = BRepMatchingDataset(cache_data, mode='test') # TODO: make sure it's using the correct set/groups"
   ]
  },
  {
   "cell_type": "code",
   "execution_count": 22,
   "metadata": {},
   "outputs": [],
   "source": [
    "out = iw.Output(layout={'border': '1px solid black'})\n",
    "\n",
    "@out.capture(clear_output=True, wait=True)\n",
    "def process_sample(data_ind):\n",
    "    brep = data[data_ind]\n",
    "    indices = {}\n",
    "    for topo_type in ['faces', 'edges', 'vertices']:\n",
    "        num_right_topos = getattr(brep, 'right_' + topo_type).shape[0]\n",
    "        exact_matches = getattr(brep, 'bl_exact_' + topo_type + '_matches')\n",
    "        right_matchless_mask = torch.ones(num_right_topos, dtype=torch.int64)\n",
    "        right_matchless_mask[exact_matches[1]] = 0\n",
    "        #TODO: Also mask out the ones for which predictions agree (once you have those)\n",
    "        #TODO: Baseline heuristic (how to obtain this?)\n",
    "        indices[topo_type] = right_matchless_mask.nonzero()\n",
    "\n",
    "    shading = {\"flat\":True, # Flat or smooth shading of triangles\n",
    "           #\"wireframe\":True, \"wire_width\": 0.03, \"wire_color\": \"black\", # Wireframe rendering\n",
    "           \"width\": 400, \"height\": 400, # Size of the viewer canvas\n",
    "           \"antialias\": True, # Antialising, might not work on all GPUs\n",
    "           \"scale\": 2.0, # Scaling of the model\n",
    "           \"side\": \"DoubleSide\", # FrontSide, BackSide or DoubleSide rendering of the triangles\n",
    "           \"colormap\": \"viridis\", \"normalize\": [None, None], # Colormap and normalization for colors\n",
    "           \"background\": \"#ffffff\", # Background color of the canvas\n",
    "           \"line_width\": 1.0, \"line_color\": \"black\", # Line properties of overlay lines\n",
    "           \"bbox\": False, # Enable plotting of bounding box\n",
    "           \"point_color\": \"red\", \"point_size\": 0.01 # Point properties of overlay points\n",
    "          }\n",
    "    plot_left = meshplot.plot(brep.left_V.numpy(), brep.left_F.T.numpy(), shading=shading, return_plot=True)\n",
    "    plot_right = meshplot.plot(brep.right_V.numpy(), brep.right_F.T.numpy(), shading=shading, return_plot=True)\n",
    "    #display(iw.HBox([plot_left, plot_right]))\n",
    "    display(plot_left)\n",
    "    display(plot_right)\n",
    "    #html_left = plot_left.to_html(imports=True, html_frame=False)\n",
    "    #html_right = plot_right.to_html(imports=True, html_frame=False)\n",
    "    #display(HTML(html_left))\n",
    "    #display(HTML(html_right))\n",
    "\n"
   ]
  },
  {
   "cell_type": "code",
   "execution_count": 27,
   "metadata": {},
   "outputs": [
    {
     "data": {
      "application/vnd.jupyter.widget-view+json": {
       "model_id": "723dc7ce37264401b03c176c18f75b47",
       "version_major": 2,
       "version_minor": 0
      },
      "text/plain": [
       "HBox(children=(Button(description='Previous', style=ButtonStyle()), Button(description='Next', style=ButtonSty…"
      ]
     },
     "metadata": {},
     "output_type": "display_data"
    },
    {
     "data": {
      "application/vnd.jupyter.widget-view+json": {
       "model_id": "2acaca21cdb24997b6576cb00785134e",
       "version_major": 2,
       "version_minor": 0
      },
      "text/plain": [
       "Output(layout=Layout(border_bottom='1px solid black', border_left='1px solid black', border_right='1px solid b…"
      ]
     },
     "metadata": {},
     "output_type": "display_data"
    }
   ],
   "source": [
    "curr_ind = 0\n",
    "\n",
    "button_next = iw.Button(description='Next')\n",
    "button_prev = iw.Button(description='Previous')\n",
    "def on_button_clicked(b, advance=True):\n",
    "    global curr_ind\n",
    "    #global button\n",
    "\n",
    "    #out.clear_output()\n",
    "    #display(button)\n",
    "    if advance:\n",
    "        curr_ind += 1 #TODO: Start correctly\n",
    "    else:\n",
    "        curr_ind -= 1\n",
    "    print(curr_ind)\n",
    "    process_sample(curr_ind)\n",
    "\n",
    "button_next.on_click(partial(on_button_clicked, advance=True))\n",
    "button_prev.on_click(partial(on_button_clicked, advance=False))\n",
    "display(iw.HBox([button_prev, button_next]))\n",
    "display(out)"
   ]
  },
  {
   "cell_type": "code",
   "execution_count": null,
   "metadata": {},
   "outputs": [],
   "source": []
  }
 ],
 "metadata": {
  "kernelspec": {
   "display_name": "Python 3 (ipykernel)",
   "language": "python",
   "name": "python3"
  },
  "language_info": {
   "codemirror_mode": {
    "name": "ipython",
    "version": 3
   },
   "file_extension": ".py",
   "mimetype": "text/x-python",
   "name": "python",
   "nbconvert_exporter": "python",
   "pygments_lexer": "ipython3",
   "version": "3.9.15"
  },
  "vscode": {
   "interpreter": {
    "hash": "0716fbdb899607ce3e4b331caf1fe64bcaced2c385f39b3e7061ffde5ef9170e"
   }
  }
 },
 "nbformat": 4,
 "nbformat_minor": 4
}
